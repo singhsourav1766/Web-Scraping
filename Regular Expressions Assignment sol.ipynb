{
 "cells": [
  {
   "cell_type": "markdown",
   "id": "60ea1547",
   "metadata": {},
   "source": [
    "# Regular Expressions"
   ]
  },
  {
   "cell_type": "code",
   "execution_count": 1,
   "id": "09a5df13",
   "metadata": {},
   "outputs": [],
   "source": [
    "import re"
   ]
  },
  {
   "cell_type": "markdown",
   "id": "60d21b37",
   "metadata": {},
   "source": [
    "1. Write a Python program to check that a string contains only a certain set of characters (in this case a-z, A-Z and 0-9)."
   ]
  },
  {
   "cell_type": "code",
   "execution_count": 2,
   "id": "0417ad12",
   "metadata": {},
   "outputs": [
    {
     "name": "stdout",
     "output_type": "stream",
     "text": [
      "The string 'abcefABCDEF12345' contains only a-z, A-Z, and 0-9.\n"
     ]
    }
   ],
   "source": [
    "def characters(string): #defining function\n",
    "    return bool(re.match(r'^[a-zA-Z0-9]+$',string))\n",
    "check =\"abcefABCDEF12345\"    #calling function\n",
    "if characters(check):\n",
    "    print(f\"The string '{check}' contains only a-z, A-Z, and 0-9.\")\n",
    "else:\n",
    "    print(f\"The string '{check}' contains characters other than a-z, A-Z, and 0-9.\")"
   ]
  },
  {
   "cell_type": "markdown",
   "id": "ed4c12a2",
   "metadata": {},
   "source": [
    "2. Create a function in python that matches a string that has an a followed by zero or more b's"
   ]
  },
  {
   "cell_type": "code",
   "execution_count": 3,
   "id": "ebb9e1de",
   "metadata": {},
   "outputs": [
    {
     "name": "stdout",
     "output_type": "stream",
     "text": [
      "The string 'abb' matches the pattern.\n"
     ]
    }
   ],
   "source": [
    "def char(string):  #defining functiin\n",
    "    if string.startswith('a') and string[1:].count('b') == len(string) - 1:\n",
    "        return True\n",
    "    else:\n",
    "        return False\n",
    "check=\"abb\" #calling function\n",
    "if char(check):\n",
    "    print(f\"The string '{check}' matches the pattern.\")\n",
    "else:\n",
    "    print(f\"The string '{check}' does not match the pattern.\")"
   ]
  },
  {
   "cell_type": "markdown",
   "id": "c38a3bf5",
   "metadata": {},
   "source": [
    "3. Create a function in python that matches a string that has an a followed by one or more b's"
   ]
  },
  {
   "cell_type": "code",
   "execution_count": 4,
   "id": "8ce0d557",
   "metadata": {},
   "outputs": [
    {
     "name": "stdout",
     "output_type": "stream",
     "text": [
      "Found a match\n",
      "Found a match\n"
     ]
    }
   ],
   "source": [
    "def text_match(text):\n",
    "        patterns='ab+?'\n",
    "        if re.search(patterns,text):\n",
    "                return 'Found a match'\n",
    "        else:\n",
    "                return('Not matched!')\n",
    "print(text_match(\"ab\"))\n",
    "print(text_match(\"abc\"))"
   ]
  },
  {
   "cell_type": "markdown",
   "id": "4fba6cc5",
   "metadata": {},
   "source": [
    "4. Create a function in Python and use RegEx that matches a string that has an a followed by zero or one 'b'."
   ]
  },
  {
   "cell_type": "code",
   "execution_count": 5,
   "id": "40f88733",
   "metadata": {},
   "outputs": [
    {
     "name": "stdout",
     "output_type": "stream",
     "text": [
      "The string 'ab' matches the pattern.\n"
     ]
    }
   ],
   "source": [
    "def char(string):\n",
    "    return bool(re.match(r'^ab?$', string))\n",
    "check=\"ab\"\n",
    "if char(check):\n",
    "    print(f\"The string '{check}' matches the pattern.\")\n",
    "else:\n",
    "    print(f\"The string '{check}' does not match the pattern.\")"
   ]
  },
  {
   "cell_type": "markdown",
   "id": "324fdcc2",
   "metadata": {},
   "source": [
    "5. Write a Python program that matches a string that has an a followed by three 'b'."
   ]
  },
  {
   "cell_type": "code",
   "execution_count": 6,
   "id": "22d9852a",
   "metadata": {},
   "outputs": [
    {
     "name": "stdout",
     "output_type": "stream",
     "text": [
      "The string'abb' matches the pattern.\n"
     ]
    }
   ],
   "source": [
    "def char(string):\n",
    "    return bool(re.match(r'^abb$', string))\n",
    "check=\"abb\"\n",
    "if char(check):\n",
    "    print(f\"The string'{check}' matches the pattern.\")\n",
    "else:\n",
    "    print(f\"The string '{check}' does not match the pattern.\")"
   ]
  },
  {
   "cell_type": "markdown",
   "id": "36dc5944",
   "metadata": {},
   "source": [
    "6. Write a regular expression in Python to split a string into uppercase letters.                                                          \n",
    "Sample text: “ImportanceOfRegularExpressionsInPython”\n",
    "Output: [‘Importance’, ‘Of’, ‘Regular’, ‘Expression’, ‘In’, ‘Python’]\n"
   ]
  },
  {
   "cell_type": "code",
   "execution_count": 7,
   "id": "2e5711f2",
   "metadata": {},
   "outputs": [
    {
     "name": "stdout",
     "output_type": "stream",
     "text": [
      "['Importance', 'Of', 'Regular', 'Expressions', 'In', 'Python']\n"
     ]
    }
   ],
   "source": [
    "text=\"ImportanceOfRegularExpressionsInPython\"\n",
    "result=re.findall(r'[A-Z][a-z]*', text)\n",
    "print(result)"
   ]
  },
  {
   "cell_type": "markdown",
   "id": "28af1226",
   "metadata": {},
   "source": [
    "7. Write a Python program that matches a string that has an a followed by two to three 'b'."
   ]
  },
  {
   "cell_type": "code",
   "execution_count": 8,
   "id": "6aa7ab39",
   "metadata": {},
   "outputs": [
    {
     "name": "stdout",
     "output_type": "stream",
     "text": [
      "The string 'abb' matches the pattern.\n"
     ]
    }
   ],
   "source": [
    "def char(string):\n",
    "    return bool(re.match(r'^ab{2,3}$', string))\n",
    "# Test the function\n",
    "check=\"abb\"\n",
    "if char(check):\n",
    "    print(f\"The string '{check}' matches the pattern.\")\n",
    "else:\n",
    "    print(f\"The string '{check}' does not match the pattern.\")"
   ]
  },
  {
   "cell_type": "markdown",
   "id": "1a5b3099",
   "metadata": {},
   "source": [
    "8. Write a Python program to find sequences of lowercase letters joined with a underscore."
   ]
  },
  {
   "cell_type": "code",
   "execution_count": 9,
   "id": "fd99c203",
   "metadata": {},
   "outputs": [
    {
     "name": "stdout",
     "output_type": "stream",
     "text": [
      "['hello_python', 'regular_expression', 'data_science']\n"
     ]
    }
   ],
   "source": [
    "def lowercase(text):\n",
    "    return re.findall(r'[a-z]+_[a-z]+', text)\n",
    "sample=\"hello_python and regular_expression and data_science\"\n",
    "sequences=lowercase(sample)\n",
    "print(sequences)"
   ]
  },
  {
   "cell_type": "markdown",
   "id": "dae30205",
   "metadata": {},
   "source": [
    "9. Write a Python program that matches a string that has an 'a' followed by anything, ending in 'b'."
   ]
  },
  {
   "cell_type": "code",
   "execution_count": 10,
   "id": "886ac3d0",
   "metadata": {},
   "outputs": [
    {
     "name": "stdout",
     "output_type": "stream",
     "text": [
      "The string 'aaaccvvbbb' matches the pattern.\n"
     ]
    }
   ],
   "source": [
    "def char(string):\n",
    "    return bool(re.match(r'^a.*b$', string))\n",
    "test=\"aaaccvvbbb\"\n",
    "if char(test):\n",
    "    print(f\"The string '{test}' matches the pattern.\")\n",
    "else:\n",
    "    print(f\"The string '{test}' does not match the pattern.\")"
   ]
  },
  {
   "cell_type": "markdown",
   "id": "6a1bd670",
   "metadata": {},
   "source": [
    "10. Write a Python program that matches a word at the beginning of a string."
   ]
  },
  {
   "cell_type": "code",
   "execution_count": 11,
   "id": "b3edf077",
   "metadata": {},
   "outputs": [
    {
     "name": "stdout",
     "output_type": "stream",
     "text": [
      "The word 'I' is at the beginning of the string.\n"
     ]
    }
   ],
   "source": [
    "def match_word_beginning(string, word):\n",
    "    return bool(re.match(fr'^\\b{word}\\b', string))\n",
    "string= \"I am learning Python\"\n",
    "word=\"I\"\n",
    "if match_word_beginning(string,word):\n",
    "    print(f\"The word '{word}' is at the beginning of the string.\")\n",
    "else:\n",
    "    print(f\"The word '{word}' is not at the beginning of the string.\")"
   ]
  },
  {
   "cell_type": "markdown",
   "id": "be1aff04",
   "metadata": {},
   "source": [
    "11. Write a Python program to match a string that contains only upper and lowercase letters, numbers, and underscores."
   ]
  },
  {
   "cell_type": "code",
   "execution_count": 12,
   "id": "34afad3a",
   "metadata": {},
   "outputs": [
    {
     "name": "stdout",
     "output_type": "stream",
     "text": [
      "The string 'Abc123_def' contains only upper and lowercase letters, numbers, and underscores.\n"
     ]
    }
   ],
   "source": [
    "def match_string(string):\n",
    "    return bool(re.match(r'^[a-zA-Z0-9_]+$', string))\n",
    "test_string= \"Abc123_def\"\n",
    "if match_string(test_string):\n",
    "    print(f\"The string '{test_string}' contains only upper and lowercase letters, numbers, and underscores.\")\n",
    "else:\n",
    "    print(f\"The string '{test_string}' contains characters other than upper and lowercase letters, numbers, and underscores.\")"
   ]
  },
  {
   "cell_type": "markdown",
   "id": "8e911bc8",
   "metadata": {},
   "source": [
    "12. Write a Python program where a string will start with a specific number. "
   ]
  },
  {
   "cell_type": "code",
   "execution_count": 13,
   "id": "81e14686",
   "metadata": {},
   "outputs": [
    {
     "name": "stdout",
     "output_type": "stream",
     "text": [
      "The string '123abc' starts with the number 123.\n"
     ]
    }
   ],
   "source": [
    "def starts_with_number(string, number):\n",
    "    return string.startswith(str(number))\n",
    "# Test the function\n",
    "test_string= \"123abc\"\n",
    "test_number= 123\n",
    "if starts_with_number(test_string, test_number):\n",
    "    print(f\"The string '{test_string}' starts with the number {test_number}.\")\n",
    "else:\n",
    "    print(f\"The string '{test_string}' does not start with the number {test_number}.\")"
   ]
  },
  {
   "cell_type": "markdown",
   "id": "97b54edd",
   "metadata": {},
   "source": [
    "13. Write a Python program to remove leading zeros from an IP address"
   ]
  },
  {
   "cell_type": "code",
   "execution_count": 14,
   "id": "d44994d8",
   "metadata": {},
   "outputs": [
    {
     "name": "stdout",
     "output_type": "stream",
     "text": [
      "216.8.94.196\n"
     ]
    }
   ],
   "source": [
    "ip=\"216.00008.00094.0196\"\n",
    "string=re.sub('[0] *', '', ip)\n",
    "print(string)"
   ]
  },
  {
   "cell_type": "markdown",
   "id": "74675ad1",
   "metadata": {},
   "source": [
    "14. Write a regular expression in python to match a date string in the form of Month name followed by day number and year stored in a text file.\n",
    "\n",
    "Sample text : ' On August 15th 1947 that India was declared independent from British colonialism, and the reins of control were handed over to the leaders of the Country’.\n",
    "\n",
    "Output- August 15th 1947                                                        \n",
    "Hint- Use re.match() method here\n"
   ]
  },
  {
   "cell_type": "code",
   "execution_count": null,
   "id": "5a48021d",
   "metadata": {},
   "outputs": [],
   "source": []
  },
  {
   "cell_type": "markdown",
   "id": "22d8a373",
   "metadata": {},
   "source": [
    "15. Write a Python program to search some literals strings in a string. Go to the editor\n",
    "\n",
    "Sample text : 'The quick brown fox jumps over the lazy dog.'\n",
    "    \n",
    "Searched words : 'fox', 'dog', 'horse'\n"
   ]
  },
  {
   "cell_type": "code",
   "execution_count": 15,
   "id": "b5afb4a4",
   "metadata": {},
   "outputs": [
    {
     "name": "stdout",
     "output_type": "stream",
     "text": [
      "Searching for \"fox\" in \"The quick brown fox jumps over the lazy dog.\" ->\n",
      "Matched!\n",
      "Searching for \"dog\" in \"The quick brown fox jumps over the lazy dog.\" ->\n",
      "Matched!\n",
      "Searching for \"horse\" in \"The quick brown fox jumps over the lazy dog.\" ->\n",
      "Not Matched!\n"
     ]
    }
   ],
   "source": [
    "patterns=[ 'fox', 'dog', 'horse' ]\n",
    "text='The quick brown fox jumps over the lazy dog.'\n",
    "for pattern in patterns:\n",
    "    print('Searching for \"%s\" in \"%s\" ->' % (pattern, text),)\n",
    "    if re.search(pattern,  text):\n",
    "        print('Matched!')\n",
    "    else:\n",
    "        print('Not Matched!')"
   ]
  },
  {
   "cell_type": "markdown",
   "id": "1ad99286",
   "metadata": {},
   "source": [
    "16. Write a Python program to search a literals string in a string and also find the location within the original string where the pattern occurs\n",
    "\n",
    "Sample text : 'The quick brown fox jumps over the lazy dog.'\n",
    "    \n",
    "Searched words : 'fox'\n"
   ]
  },
  {
   "cell_type": "code",
   "execution_count": 16,
   "id": "61a38efc",
   "metadata": {},
   "outputs": [
    {
     "name": "stdout",
     "output_type": "stream",
     "text": [
      "Search word :\"fox\" in \"The quick brown fox jumps over the lazy dog.\" from 16 to 19 \n"
     ]
    }
   ],
   "source": [
    "pattern='fox'\n",
    "Sample_text= 'The quick brown fox jumps over the lazy dog.'\n",
    "match= re.search(pattern,Sample_text)\n",
    "s= match.start()\n",
    "e= match.end()\n",
    "print('Search word :\"%s\" in \"%s\" from %d to %d '%(match.re.pattern, match.string, s, e))"
   ]
  },
  {
   "cell_type": "markdown",
   "id": "97eb3abb",
   "metadata": {},
   "source": [
    "17. Write a Python program to find the substrings within a string.\n",
    "Sample text : 'Python exercises, PHP exercises, C# exercises'\n",
    "Pattern : 'exercises'.\n"
   ]
  },
  {
   "cell_type": "code",
   "execution_count": 17,
   "id": "38d2d6b7",
   "metadata": {},
   "outputs": [
    {
     "name": "stdout",
     "output_type": "stream",
     "text": [
      " \"exercises\"\n",
      " \"exercises\"\n",
      " \"exercises\"\n"
     ]
    }
   ],
   "source": [
    "stext='Python exercises, PHP exercises, C# exercises'\n",
    "pattern='exercises'\n",
    "for match in re.findall(pattern,stext):\n",
    "    print(' \"%s\"' % match)"
   ]
  },
  {
   "cell_type": "markdown",
   "id": "f53e1783",
   "metadata": {},
   "source": [
    "18. Write a Python program to find the occurrence and position of the substrings within a string."
   ]
  },
  {
   "cell_type": "code",
   "execution_count": 18,
   "id": "185a25f6",
   "metadata": {},
   "outputs": [
    {
     "name": "stdout",
     "output_type": "stream",
     "text": [
      "Found \"Trained\" at 5:12\n"
     ]
    }
   ],
   "source": [
    "text='Data Trained'\n",
    "pattern ='Trained'\n",
    "for match in re.finditer(pattern, text):\n",
    "    s= match.start()\n",
    "    e= match.end()\n",
    "    print('Found \"%s\" at %d:%d' % (text[s:e], s, e))"
   ]
  },
  {
   "cell_type": "markdown",
   "id": "c122f3e6",
   "metadata": {},
   "source": [
    "19. Write a Python program to convert a date of yyyy-mm-dd format to dd-mm-yyyy format."
   ]
  },
  {
   "cell_type": "code",
   "execution_count": 19,
   "id": "7e650ef0",
   "metadata": {},
   "outputs": [
    {
     "name": "stdout",
     "output_type": "stream",
     "text": [
      "Old date in YYY-MM-DD Format:  2023-0-14\n",
      "New date in DD-MM-YYYY Format:  14-0-2023\n"
     ]
    }
   ],
   "source": [
    "def change_format(dt):\n",
    "        return re.sub(r'(\\d{4})-(\\d{1,2})-(\\d{1,2})', '\\\\3-\\\\2-\\\\1', dt)\n",
    "dt1=\"2023-0-14\"\n",
    "print(\"Old date in YYY-MM-DD Format: \",dt1)\n",
    "print(\"New date in DD-MM-YYYY Format: \",change_format(dt1))\n"
   ]
  },
  {
   "cell_type": "markdown",
   "id": "1d4f8935",
   "metadata": {},
   "source": [
    "20. Write a Python program to find all words starting with 'a' or 'e' in a given string."
   ]
  },
  {
   "cell_type": "code",
   "execution_count": 20,
   "id": "9c310cec",
   "metadata": {},
   "outputs": [
    {
     "name": "stdout",
     "output_type": "stream",
     "text": [
      "['areoplane', 'amazone', 'ething', 'atascience', 'aware']\n"
     ]
    }
   ],
   "source": [
    "text=\"areoplane, amazone, something, datascience, fliprobo, aware\"\n",
    "list= re.findall(\"[ae]\\w+\", text)\n",
    "print(list)"
   ]
  },
  {
   "cell_type": "markdown",
   "id": "0a356d15",
   "metadata": {},
   "source": [
    "21. Write a Python program to separate and print the numbers and their position of a given string."
   ]
  },
  {
   "cell_type": "code",
   "execution_count": null,
   "id": "f4a617ab",
   "metadata": {},
   "outputs": [],
   "source": []
  },
  {
   "cell_type": "markdown",
   "id": "2c4cb887",
   "metadata": {},
   "source": [
    "22. Write a regular expression in python program to extract maximum numeric value from a string"
   ]
  },
  {
   "cell_type": "code",
   "execution_count": 21,
   "id": "873dbe30",
   "metadata": {},
   "outputs": [
    {
     "name": "stdout",
     "output_type": "stream",
     "text": [
      "The maximum numeric value in the string is: 42\n"
     ]
    }
   ],
   "source": [
    "def maxi(string):\n",
    "    numbers=re.findall(r'\\d+', string)\n",
    "    return max(map(int, numbers)) if numbers else None\n",
    "test_string =\"The maximum number is 42 and the minimum is 10.\"\n",
    "max_value=maxi(test_string)\n",
    "print(f\"The maximum numeric value in the string is: {max_value}\") if max_value else print(\"No numeric values found in the string.\")\n"
   ]
  },
  {
   "cell_type": "markdown",
   "id": "834f8c07",
   "metadata": {},
   "source": [
    "23. Write a Regex in Python to put spaces between words starting with capital letters"
   ]
  },
  {
   "cell_type": "code",
   "execution_count": 22,
   "id": "88a0d66b",
   "metadata": {},
   "outputs": [
    {
     "name": "stdout",
     "output_type": "stream",
     "text": [
      "Reqular\n",
      "Regulara Expression\n",
      "Regular Expression Assignment Of Flip Robo\n"
     ]
    }
   ],
   "source": [
    "def capital_words_spaces(str1):\n",
    "  return re.sub(r\"(\\w)([A-Z])\", r\"\\1 \\2\", str1)\n",
    "print(capital_words_spaces(\"Reqular\"))\n",
    "print(capital_words_spaces(\"RegularaExpression\"))\n",
    "print(capital_words_spaces(\"RegularExpressionAssignmentOfFlipRobo\"))"
   ]
  },
  {
   "cell_type": "markdown",
   "id": "7b82f6e9",
   "metadata": {},
   "source": [
    "24. Python regex to find sequences of one upper case letter followed by lower case letters"
   ]
  },
  {
   "cell_type": "code",
   "execution_count": 23,
   "id": "6ad0cd1a",
   "metadata": {},
   "outputs": [
    {
     "name": "stdout",
     "output_type": "stream",
     "text": [
      "['Python', 'Datatrained', 'Ml']\n"
     ]
    }
   ],
   "source": [
    "text=\"Python datascience Datatrained machine learning Ml\"\n",
    "sequences=re.findall(r'[A-Z][a-z]+', text)\n",
    "print(sequences)"
   ]
  },
  {
   "cell_type": "markdown",
   "id": "1c146e07",
   "metadata": {},
   "source": [
    "25. Write a Python program to remove duplicate words from Sentence using Regular Expression"
   ]
  },
  {
   "cell_type": "code",
   "execution_count": 24,
   "id": "e2da5d92",
   "metadata": {},
   "outputs": [
    {
     "name": "stdout",
     "output_type": "stream",
     "text": [
      "This is a test sentence.\n"
     ]
    }
   ],
   "source": [
    "def remove_duplicate_words(sentence):\n",
    "    pattern = r'\\b(\\w+)\\b\\s+(?=.*\\b\\1\\b)'\n",
    "    return re.sub(pattern, '', sentence)\n",
    "# Test the function\n",
    "test_sentence=\"This is is a test test sentence.\"\n",
    "result=remove_duplicate_words(test_sentence)\n",
    "print(result)"
   ]
  },
  {
   "cell_type": "markdown",
   "id": "06ab600d",
   "metadata": {},
   "source": [
    "26. Write a python program using RegEx to accept string ending with alphanumeric character."
   ]
  },
  {
   "cell_type": "code",
   "execution_count": 25,
   "id": "bcd6a553",
   "metadata": {},
   "outputs": [
    {
     "name": "stdout",
     "output_type": "stream",
     "text": [
      "The string 'Hello123' ends with an alphanumeric character.\n"
     ]
    }
   ],
   "source": [
    "def accept_string_ending_with_alphanumeric(s):\n",
    "    pattern=r'^.*[a-zA-Z0-9]$'\n",
    "    return bool(re.match(pattern,s))\n",
    "# Test the function\n",
    "ts=\"Hello123\"\n",
    "if accept_string_ending_with_alphanumeric(ts):\n",
    "    print(f\"The string '{ts}' ends with an alphanumeric character.\")\n",
    "else:\n",
    "    print(f\"The string '{ts}' does not end with an alphanumeric character.\")"
   ]
  },
  {
   "cell_type": "markdown",
   "id": "981cd2d8",
   "metadata": {},
   "source": [
    "27. Write a python program using RegEx to extract the hashtags.\n",
    "\n",
    "Sample Text: text = \"\"\"RT @kapil_kausik: #Doltiwal I mean #xyzabc is \"hurt\" by #Demonetization as the same has rendered USELESS <ed><U+00A0><U+00BD><ed><U+00B1><U+0089> \"acquired funds\" No wo\"\"\"\n",
    "\n",
    "Output: ['#Doltiwal', '#xyzabc', '#Demonetization']\n"
   ]
  },
  {
   "cell_type": "code",
   "execution_count": 26,
   "id": "89ab6a73",
   "metadata": {},
   "outputs": [
    {
     "name": "stdout",
     "output_type": "stream",
     "text": [
      "['#Doltiwal', '#xyzabc', '#Demonetization']\n"
     ]
    }
   ],
   "source": [
    "def extract_hashtags(t):\n",
    "    hashtags=re.findall(r'#\\w+',t)\n",
    "    return hashtags\n",
    "# Test the function\n",
    "t=\"\"\"RT @kapil_kausik: #Doltiwal I mean #xyzabc is \"hurt\" by #Demonetization as the same has rendered USELESS <ed><U+00A0><U+00BD><ed><U+00B1><U+0089> \"acquired funds\" No wo\"\"\"\n",
    "hashtags = extract_hashtags(t)\n",
    "print(hashtags)\n"
   ]
  },
  {
   "cell_type": "markdown",
   "id": "714cb01e",
   "metadata": {},
   "source": [
    "28. Write a python program using RegEx to remove <U+..> like symbols\n",
    "\n",
    "Check the below sample text, there are strange symbols something of the sort <U+..> all over the place. You need to come up with a general Regex expression that will cover all such symbols.\n",
    "\n",
    "Sample Text: \"@Jags123456 Bharat band on 28??<ed><U+00A0><U+00BD><ed><U+00B8><U+0082>Those who  are protesting #demonetization  are all different party leaders\"\n",
    "\n",
    "Output: @Jags123456 Bharat band on 28??<ed><ed>Those who  are protesting #demonetization  are all different party leaders\n"
   ]
  },
  {
   "cell_type": "code",
   "execution_count": 27,
   "id": "8b546491",
   "metadata": {},
   "outputs": [
    {
     "name": "stdout",
     "output_type": "stream",
     "text": [
      "@Jags123456 Bharat band on 28??<ed><ed>Those who  are protesting #demonetization  are all different party leaders\n"
     ]
    }
   ],
   "source": [
    "def remove_symbols(t):\n",
    "    pattern= r'<U\\+\\w+>'\n",
    "    return re.sub(pattern,'',t)\n",
    "# Test the function\n",
    "t = \"@Jags123456 Bharat band on 28??<ed><U+00A0><U+00BD><ed><U+00B8><U+0082>Those who  are protesting #demonetization  are all different party leaders\"\n",
    "result = remove_symbols(t)\n",
    "print(result)"
   ]
  },
  {
   "cell_type": "markdown",
   "id": "bcf0b64f",
   "metadata": {},
   "source": [
    "29- Write a python program to extract dates from the text stored in the text file.\n",
    "Sample Text: Ron was born on 12-09-1992 and he was admitted to school 15-12-1999.\n",
    "Store this sample text in the file and then extract dates.\n"
   ]
  },
  {
   "cell_type": "code",
   "execution_count": null,
   "id": "48ff5b9c",
   "metadata": {},
   "outputs": [],
   "source": []
  },
  {
   "cell_type": "markdown",
   "id": "5a175b35",
   "metadata": {},
   "source": [
    "30- Write a Python program to replace all occurrences of a space, comma, or dot with a colon.\n",
    "Sample Text- 'Python Exercises, PHP exercises.'\n",
    "\n",
    "Output: Python:Exercises::PHP:exercises:"
   ]
  },
  {
   "cell_type": "code",
   "execution_count": 28,
   "id": "b6fa2e73",
   "metadata": {},
   "outputs": [
    {
     "name": "stdout",
     "output_type": "stream",
     "text": [
      "Python:Exercises::PHP:exercises:\n"
     ]
    }
   ],
   "source": [
    "def replace_spaces_commas_dots_with_colons(t):\n",
    "    replacements=[' ', ',', '.']\n",
    "    for repl in replacements:\n",
    "        t= t.replace(repl, ':')\n",
    "    return t\n",
    "\n",
    "# Test the function\n",
    "st='Python Exercises, PHP exercises.'\n",
    "result = replace_spaces_commas_dots_with_colons(st)\n",
    "print(result)"
   ]
  },
  {
   "cell_type": "code",
   "execution_count": null,
   "id": "da092315",
   "metadata": {},
   "outputs": [],
   "source": []
  }
 ],
 "metadata": {
  "kernelspec": {
   "display_name": "Python 3 (ipykernel)",
   "language": "python",
   "name": "python3"
  },
  "language_info": {
   "codemirror_mode": {
    "name": "ipython",
    "version": 3
   },
   "file_extension": ".py",
   "mimetype": "text/x-python",
   "name": "python",
   "nbconvert_exporter": "python",
   "pygments_lexer": "ipython3",
   "version": "3.9.13"
  }
 },
 "nbformat": 4,
 "nbformat_minor": 5
}
