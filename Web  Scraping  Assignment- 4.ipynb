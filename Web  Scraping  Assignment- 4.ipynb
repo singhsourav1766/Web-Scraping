{
 "cells": [
  {
   "cell_type": "markdown",
   "id": "590cbd07",
   "metadata": {},
   "source": [
    "## Web  Scraping  Assignment- 4"
   ]
  },
  {
   "cell_type": "markdown",
   "id": "f962a24f",
   "metadata": {},
   "source": [
    "1. Scrape the details of most viewed videos on YouTube from Wikipedia. Url = \n",
    "https://en.wikipedia.org/wiki/List_of_most-viewed_YouTube_videos You need to find following details:                                        \n",
    "A) Rank                                                          \n",
    "B) Name                                \n",
    "C) Artist                                          \n",
    "D) Upload date                                          \n",
    "E) Views                        "
   ]
  },
  {
   "cell_type": "code",
   "execution_count": 1,
   "id": "b26cf27a",
   "metadata": {},
   "outputs": [],
   "source": [
    "import selenium\n",
    "from selenium import webdriver\n",
    "import pandas as pd\n",
    "from selenium.webdriver.common.by import By\n",
    "\n",
    "import warnings \n",
    "warnings.filterwarnings('ignore')\n",
    "import time\n",
    "\n",
    "import re \n",
    "from selenium.common.exceptions import NoSuchElementException, StaleElementReferenceException\n",
    "from selenium.webdriver.support.ui import WebDriverWait\n"
   ]
  },
  {
   "cell_type": "code",
   "execution_count": 2,
   "id": "add00e02",
   "metadata": {},
   "outputs": [
    {
     "name": "stderr",
     "output_type": "stream",
     "text": [
      "Error getting version of chromedriver 115. Retrying with chromedriver 114 (attempt 1/5)\n"
     ]
    }
   ],
   "source": [
    "driver= webdriver.Chrome()"
   ]
  },
  {
   "cell_type": "code",
   "execution_count": 3,
   "id": "d5c1b5e4",
   "metadata": {},
   "outputs": [],
   "source": [
    "driver.get('https://en.wikipedia.org/wiki/List_of_most-viewed_YouTube_videos')"
   ]
  },
  {
   "cell_type": "code",
   "execution_count": 4,
   "id": "3e1dd7ad",
   "metadata": {},
   "outputs": [
    {
     "name": "stdout",
     "output_type": "stream",
     "text": [
      "30\n"
     ]
    }
   ],
   "source": [
    "Rank=[]\n",
    "\n",
    "try:\n",
    "    for i in driver.find_elements(By.XPATH,'//table[@class=\"wikitable sortable jquery-tablesorter\"]//tbody//tr//td[1]')[:30]:\n",
    "        Rank.append(i.text)\n",
    "except NoSuchElementException:\n",
    "    Rank.append('-')\n",
    "\n",
    "print(len(Rank))\n",
    "    "
   ]
  },
  {
   "cell_type": "code",
   "execution_count": 5,
   "id": "f8d993c3",
   "metadata": {},
   "outputs": [
    {
     "data": {
      "text/plain": [
       "30"
      ]
     },
     "execution_count": 5,
     "metadata": {},
     "output_type": "execute_result"
    }
   ],
   "source": [
    "Name=[]\n",
    "\n",
    "try:\n",
    "    for i in driver.find_elements(By.XPATH,'//table[@class=\"wikitable sortable jquery-tablesorter\"]//tbody//tr//td[2]')[:30]:\n",
    "        Name.append(i.text)\n",
    "except NoSuchElementException:\n",
    "    Name.append('-')\n",
    "    \n",
    "len(Name)"
   ]
  },
  {
   "cell_type": "code",
   "execution_count": 6,
   "id": "f80cbb3c",
   "metadata": {},
   "outputs": [
    {
     "data": {
      "text/plain": [
       "30"
      ]
     },
     "execution_count": 6,
     "metadata": {},
     "output_type": "execute_result"
    }
   ],
   "source": [
    "Artist=[]\n",
    "try:\n",
    "    for i in driver.find_elements(By.XPATH,'//table[@class=\"wikitable sortable jquery-tablesorter\"]//tbody//tr//td[3]')[:30]:\n",
    "        Artist.append(i.text)\n",
    "except NoSuchElementException:\n",
    "    Artist.append('-')\n",
    "len(Artist)"
   ]
  },
  {
   "cell_type": "code",
   "execution_count": 7,
   "id": "50009d4c",
   "metadata": {},
   "outputs": [
    {
     "data": {
      "text/plain": [
       "30"
      ]
     },
     "execution_count": 7,
     "metadata": {},
     "output_type": "execute_result"
    }
   ],
   "source": [
    "Upload_Date=[]\n",
    "try:\n",
    "    for i in driver.find_elements(By.XPATH,'//table[@class=\"wikitable sortable jquery-tablesorter\"]//tbody//tr//td[5]')[:30]:\n",
    "        Upload_Date.append(i.text)\n",
    "except NoSuchElementException:\n",
    "    Upload_Date.append('-')\n",
    "len(Upload_Date)"
   ]
  },
  {
   "cell_type": "code",
   "execution_count": 8,
   "id": "58c09428",
   "metadata": {},
   "outputs": [
    {
     "data": {
      "text/plain": [
       "30"
      ]
     },
     "execution_count": 8,
     "metadata": {},
     "output_type": "execute_result"
    }
   ],
   "source": [
    "Views=[]\n",
    "try:\n",
    "    for i in driver.find_elements(By.XPATH,'//table[@class=\"wikitable sortable jquery-tablesorter\"]//tbody//tr//td[4]')[:30]:\n",
    "        Views.append(i.text)\n",
    "except NoSuchElementException:\n",
    "    Views.append('-')\n",
    "    \n",
    "len(Views)"
   ]
  },
  {
   "cell_type": "code",
   "execution_count": 47,
   "id": "f3a1f6e1",
   "metadata": {},
   "outputs": [
    {
     "data": {
      "text/html": [
       "<div>\n",
       "<style scoped>\n",
       "    .dataframe tbody tr th:only-of-type {\n",
       "        vertical-align: middle;\n",
       "    }\n",
       "\n",
       "    .dataframe tbody tr th {\n",
       "        vertical-align: top;\n",
       "    }\n",
       "\n",
       "    .dataframe thead th {\n",
       "        text-align: right;\n",
       "    }\n",
       "</style>\n",
       "<table border=\"1\" class=\"dataframe\">\n",
       "  <thead>\n",
       "    <tr style=\"text-align: right;\">\n",
       "      <th></th>\n",
       "      <th>Rank</th>\n",
       "      <th>Name</th>\n",
       "      <th>Artist</th>\n",
       "      <th>Upload_Date</th>\n",
       "      <th>Views</th>\n",
       "    </tr>\n",
       "  </thead>\n",
       "  <tbody>\n",
       "    <tr>\n",
       "      <th>1</th>\n",
       "      <td>1.</td>\n",
       "      <td>\"Baby Shark Dance\"[6]</td>\n",
       "      <td>Pinkfong Baby Shark - children's songs</td>\n",
       "      <td>June 17, 2016</td>\n",
       "      <td>13.18</td>\n",
       "    </tr>\n",
       "    <tr>\n",
       "      <th>2</th>\n",
       "      <td>2.</td>\n",
       "      <td>\"Despacito\"[9]</td>\n",
       "      <td>Luis Fonsi</td>\n",
       "      <td>January 12, 2017</td>\n",
       "      <td>8.23</td>\n",
       "    </tr>\n",
       "    <tr>\n",
       "      <th>3</th>\n",
       "      <td>3.</td>\n",
       "      <td>\"Johny Johny Yes Papa\"[16]</td>\n",
       "      <td>LooLoo Kids - nursery rhymes</td>\n",
       "      <td>October 8, 2016</td>\n",
       "      <td>6.76</td>\n",
       "    </tr>\n",
       "    <tr>\n",
       "      <th>4</th>\n",
       "      <td>4.</td>\n",
       "      <td>\"Bath Song\"[17]</td>\n",
       "      <td>Cocomelon - nursery rhymes</td>\n",
       "      <td>May 2, 2018</td>\n",
       "      <td>6.33</td>\n",
       "    </tr>\n",
       "    <tr>\n",
       "      <th>5</th>\n",
       "      <td>5.</td>\n",
       "      <td>\"Shape of You\"[18]</td>\n",
       "      <td>Ed Sheeran</td>\n",
       "      <td>January 30, 2017</td>\n",
       "      <td>6.05</td>\n",
       "    </tr>\n",
       "    <tr>\n",
       "      <th>6</th>\n",
       "      <td>6.</td>\n",
       "      <td>\"See You Again\"[21]</td>\n",
       "      <td>Wiz Khalifa</td>\n",
       "      <td>April 6, 2015</td>\n",
       "      <td>5.98</td>\n",
       "    </tr>\n",
       "    <tr>\n",
       "      <th>7</th>\n",
       "      <td>7.</td>\n",
       "      <td>\"Wheels on the Bus\"[26]</td>\n",
       "      <td>Cocomelon - nursery rhymes</td>\n",
       "      <td>May 24, 2018</td>\n",
       "      <td>5.46</td>\n",
       "    </tr>\n",
       "    <tr>\n",
       "      <th>8</th>\n",
       "      <td>8.</td>\n",
       "      <td>\"Phonics Song with Two Words\"[27]</td>\n",
       "      <td>ChuChu TV - children's songs</td>\n",
       "      <td>March 6, 2014</td>\n",
       "      <td>5.42</td>\n",
       "    </tr>\n",
       "    <tr>\n",
       "      <th>9</th>\n",
       "      <td>9.</td>\n",
       "      <td>\"Uptown Funk\"[28]</td>\n",
       "      <td>Mark Ronson</td>\n",
       "      <td>November 19, 2014</td>\n",
       "      <td>5.00</td>\n",
       "    </tr>\n",
       "    <tr>\n",
       "      <th>10</th>\n",
       "      <td>10.</td>\n",
       "      <td>\"Learning Colors – Colorful Eggs on a Farm\"[29]</td>\n",
       "      <td>Miroshka TV - children's songs</td>\n",
       "      <td>February 27, 2018</td>\n",
       "      <td>4.94</td>\n",
       "    </tr>\n",
       "    <tr>\n",
       "      <th>11</th>\n",
       "      <td>11.</td>\n",
       "      <td>\"Gangnam Style\"[30]</td>\n",
       "      <td>Psy</td>\n",
       "      <td>July 15, 2012</td>\n",
       "      <td>4.86</td>\n",
       "    </tr>\n",
       "    <tr>\n",
       "      <th>12</th>\n",
       "      <td>12.</td>\n",
       "      <td>\"Masha and the Bear – Recipe for Disaster\"[35]</td>\n",
       "      <td>Get Movies - children's songs</td>\n",
       "      <td>January 31, 2012</td>\n",
       "      <td>4.55</td>\n",
       "    </tr>\n",
       "    <tr>\n",
       "      <th>13</th>\n",
       "      <td>13.</td>\n",
       "      <td>\"Dame Tu Cosita\"[36]</td>\n",
       "      <td>El Chombo</td>\n",
       "      <td>April 5, 2018</td>\n",
       "      <td>4.41</td>\n",
       "    </tr>\n",
       "    <tr>\n",
       "      <th>14</th>\n",
       "      <td>14.</td>\n",
       "      <td>\"Axel F\"[37]</td>\n",
       "      <td>Crazy Frog</td>\n",
       "      <td>June 16, 2009</td>\n",
       "      <td>4.00</td>\n",
       "    </tr>\n",
       "    <tr>\n",
       "      <th>15</th>\n",
       "      <td>15.</td>\n",
       "      <td>\"Sugar\"[38]</td>\n",
       "      <td>Maroon 5</td>\n",
       "      <td>January 14, 2015</td>\n",
       "      <td>3.91</td>\n",
       "    </tr>\n",
       "    <tr>\n",
       "      <th>16</th>\n",
       "      <td>16.</td>\n",
       "      <td>\"Roar\"[39]</td>\n",
       "      <td>Katy Perry</td>\n",
       "      <td>September 5, 2013</td>\n",
       "      <td>3.84</td>\n",
       "    </tr>\n",
       "    <tr>\n",
       "      <th>17</th>\n",
       "      <td>17.</td>\n",
       "      <td>\"Counting Stars\"[40]</td>\n",
       "      <td>OneRepublic</td>\n",
       "      <td>May 31, 2013</td>\n",
       "      <td>3.84</td>\n",
       "    </tr>\n",
       "    <tr>\n",
       "      <th>18</th>\n",
       "      <td>18.</td>\n",
       "      <td>\"Baa Baa Black Sheep\"[41]</td>\n",
       "      <td>Cocomelon - nursery rhymes</td>\n",
       "      <td>June 25, 2018</td>\n",
       "      <td>3.73</td>\n",
       "    </tr>\n",
       "    <tr>\n",
       "      <th>19</th>\n",
       "      <td>19.</td>\n",
       "      <td>\"Sorry\"[42]</td>\n",
       "      <td>Justin Bieber</td>\n",
       "      <td>October 22, 2015</td>\n",
       "      <td>3.69</td>\n",
       "    </tr>\n",
       "    <tr>\n",
       "      <th>20</th>\n",
       "      <td>20.</td>\n",
       "      <td>\"Waka Waka (This Time for Africa)\"[43]</td>\n",
       "      <td>Shakira</td>\n",
       "      <td>June 4, 2010</td>\n",
       "      <td>3.68</td>\n",
       "    </tr>\n",
       "    <tr>\n",
       "      <th>21</th>\n",
       "      <td>21.</td>\n",
       "      <td>\"Thinking Out Loud\"[44]</td>\n",
       "      <td>Ed Sheeran</td>\n",
       "      <td>October 7, 2014</td>\n",
       "      <td>3.63</td>\n",
       "    </tr>\n",
       "    <tr>\n",
       "      <th>22</th>\n",
       "      <td>22.</td>\n",
       "      <td>\"Lakdi Ki Kathi\"[45]</td>\n",
       "      <td>Jingle Toons</td>\n",
       "      <td>June 14, 2018</td>\n",
       "      <td>3.63</td>\n",
       "    </tr>\n",
       "    <tr>\n",
       "      <th>23</th>\n",
       "      <td>23.</td>\n",
       "      <td>\"Dark Horse\"[46]</td>\n",
       "      <td>Katy Perry</td>\n",
       "      <td>February 20, 2014</td>\n",
       "      <td>3.56</td>\n",
       "    </tr>\n",
       "    <tr>\n",
       "      <th>24</th>\n",
       "      <td>24.</td>\n",
       "      <td>\"Perfect\"[47]</td>\n",
       "      <td>Ed Sheeran</td>\n",
       "      <td>November 9, 2017</td>\n",
       "      <td>3.51</td>\n",
       "    </tr>\n",
       "    <tr>\n",
       "      <th>25</th>\n",
       "      <td>25.</td>\n",
       "      <td>\"Faded\"[48]</td>\n",
       "      <td>Alan Walker</td>\n",
       "      <td>December 3, 2015</td>\n",
       "      <td>3.49</td>\n",
       "    </tr>\n",
       "    <tr>\n",
       "      <th>26</th>\n",
       "      <td>26.</td>\n",
       "      <td>\"Let Her Go\"[49]</td>\n",
       "      <td>Passenger</td>\n",
       "      <td>July 25, 2012</td>\n",
       "      <td>3.48</td>\n",
       "    </tr>\n",
       "    <tr>\n",
       "      <th>27</th>\n",
       "      <td>27.</td>\n",
       "      <td>\"Humpty the train on a fruits ride\"[50]</td>\n",
       "      <td>Kiddiestv Hindi - children's songs</td>\n",
       "      <td>January 26, 2018</td>\n",
       "      <td>3.51</td>\n",
       "    </tr>\n",
       "    <tr>\n",
       "      <th>28</th>\n",
       "      <td>28.</td>\n",
       "      <td>\"Girls Like You\"[51]</td>\n",
       "      <td>Maroon 5</td>\n",
       "      <td>May 31, 2018</td>\n",
       "      <td>3.45</td>\n",
       "    </tr>\n",
       "    <tr>\n",
       "      <th>29</th>\n",
       "      <td>29.</td>\n",
       "      <td>\"Bailando\"[52]</td>\n",
       "      <td>Enrique Iglesias</td>\n",
       "      <td>April 11, 2014</td>\n",
       "      <td>3.43</td>\n",
       "    </tr>\n",
       "    <tr>\n",
       "      <th>30</th>\n",
       "      <td>30.</td>\n",
       "      <td>\"Lean On\"[53]</td>\n",
       "      <td>Major Lazer</td>\n",
       "      <td>March 22, 2015</td>\n",
       "      <td>3.43</td>\n",
       "    </tr>\n",
       "  </tbody>\n",
       "</table>\n",
       "</div>"
      ],
      "text/plain": [
       "   Rank                                             Name  \\\n",
       "1    1.                            \"Baby Shark Dance\"[6]   \n",
       "2    2.                                   \"Despacito\"[9]   \n",
       "3    3.                       \"Johny Johny Yes Papa\"[16]   \n",
       "4    4.                                  \"Bath Song\"[17]   \n",
       "5    5.                               \"Shape of You\"[18]   \n",
       "6    6.                              \"See You Again\"[21]   \n",
       "7    7.                          \"Wheels on the Bus\"[26]   \n",
       "8    8.                \"Phonics Song with Two Words\"[27]   \n",
       "9    9.                                \"Uptown Funk\"[28]   \n",
       "10  10.  \"Learning Colors – Colorful Eggs on a Farm\"[29]   \n",
       "11  11.                              \"Gangnam Style\"[30]   \n",
       "12  12.   \"Masha and the Bear – Recipe for Disaster\"[35]   \n",
       "13  13.                             \"Dame Tu Cosita\"[36]   \n",
       "14  14.                                     \"Axel F\"[37]   \n",
       "15  15.                                      \"Sugar\"[38]   \n",
       "16  16.                                       \"Roar\"[39]   \n",
       "17  17.                             \"Counting Stars\"[40]   \n",
       "18  18.                        \"Baa Baa Black Sheep\"[41]   \n",
       "19  19.                                      \"Sorry\"[42]   \n",
       "20  20.           \"Waka Waka (This Time for Africa)\"[43]   \n",
       "21  21.                          \"Thinking Out Loud\"[44]   \n",
       "22  22.                             \"Lakdi Ki Kathi\"[45]   \n",
       "23  23.                                 \"Dark Horse\"[46]   \n",
       "24  24.                                    \"Perfect\"[47]   \n",
       "25  25.                                      \"Faded\"[48]   \n",
       "26  26.                                 \"Let Her Go\"[49]   \n",
       "27  27.          \"Humpty the train on a fruits ride\"[50]   \n",
       "28  28.                             \"Girls Like You\"[51]   \n",
       "29  29.                                   \"Bailando\"[52]   \n",
       "30  30.                                    \"Lean On\"[53]   \n",
       "\n",
       "                                    Artist        Upload_Date  Views  \n",
       "1   Pinkfong Baby Shark - children's songs      June 17, 2016  13.18  \n",
       "2                               Luis Fonsi   January 12, 2017   8.23  \n",
       "3             LooLoo Kids - nursery rhymes    October 8, 2016   6.76  \n",
       "4               Cocomelon - nursery rhymes        May 2, 2018   6.33  \n",
       "5                               Ed Sheeran   January 30, 2017   6.05  \n",
       "6                              Wiz Khalifa      April 6, 2015   5.98  \n",
       "7               Cocomelon - nursery rhymes       May 24, 2018   5.46  \n",
       "8             ChuChu TV - children's songs      March 6, 2014   5.42  \n",
       "9                              Mark Ronson  November 19, 2014   5.00  \n",
       "10          Miroshka TV - children's songs  February 27, 2018   4.94  \n",
       "11                                     Psy      July 15, 2012   4.86  \n",
       "12           Get Movies - children's songs   January 31, 2012   4.55  \n",
       "13                               El Chombo      April 5, 2018   4.41  \n",
       "14                              Crazy Frog      June 16, 2009   4.00  \n",
       "15                                Maroon 5   January 14, 2015   3.91  \n",
       "16                              Katy Perry  September 5, 2013   3.84  \n",
       "17                             OneRepublic       May 31, 2013   3.84  \n",
       "18              Cocomelon - nursery rhymes      June 25, 2018   3.73  \n",
       "19                           Justin Bieber   October 22, 2015   3.69  \n",
       "20                                 Shakira       June 4, 2010   3.68  \n",
       "21                              Ed Sheeran    October 7, 2014   3.63  \n",
       "22                            Jingle Toons      June 14, 2018   3.63  \n",
       "23                              Katy Perry  February 20, 2014   3.56  \n",
       "24                              Ed Sheeran   November 9, 2017   3.51  \n",
       "25                             Alan Walker   December 3, 2015   3.49  \n",
       "26                               Passenger      July 25, 2012   3.48  \n",
       "27      Kiddiestv Hindi - children's songs   January 26, 2018   3.51  \n",
       "28                                Maroon 5       May 31, 2018   3.45  \n",
       "29                        Enrique Iglesias     April 11, 2014   3.43  \n",
       "30                             Major Lazer     March 22, 2015   3.43  "
      ]
     },
     "execution_count": 47,
     "metadata": {},
     "output_type": "execute_result"
    }
   ],
   "source": [
    "dfy=pd.DataFrame({'Rank':Rank,'Name':Name,\"Artist\":Artist,\"Upload_Date\":Upload_Date,\"Views\":Views})\n",
    "dfy.index=range(1,len(dfy)+1)\n",
    "dfy"
   ]
  },
  {
   "cell_type": "code",
   "execution_count": 53,
   "id": "5b8e7b06",
   "metadata": {},
   "outputs": [],
   "source": [
    "driver.close()"
   ]
  },
  {
   "cell_type": "markdown",
   "id": "645cf63e",
   "metadata": {},
   "source": [
    "2. Scrape the details team India’s international fixtures from bcci.tv. \n",
    "Url = https://www.bcci.tv/.\n",
    "\n",
    "You need to find following details:                                   \n",
    "A) Match title (I.e. 1 ODI)                                                  \n",
    "B) Series                                             \n",
    "C) Place                                        \n",
    "D) Date                                      \n",
    "E) Time                               \n",
    "\n",
    "Note: - From bcci.tv home page you have reach to the international fixture page through code. "
   ]
  },
  {
   "cell_type": "code",
   "execution_count": 51,
   "id": "f95d17e5",
   "metadata": {},
   "outputs": [],
   "source": [
    "driver= webdriver.Chrome()"
   ]
  },
  {
   "cell_type": "code",
   "execution_count": 13,
   "id": "ca749ff7",
   "metadata": {},
   "outputs": [],
   "source": [
    "driver.get('https://www.bcci.tv/')"
   ]
  },
  {
   "cell_type": "code",
   "execution_count": 35,
   "id": "f289c51b",
   "metadata": {},
   "outputs": [
    {
     "data": {
      "text/plain": [
       "8"
      ]
     },
     "execution_count": 35,
     "metadata": {},
     "output_type": "execute_result"
    }
   ],
   "source": [
    "Match_title=[]\n",
    "try:\n",
    "    for i in driver.find_elements(By.XPATH,'//span[@class=\"matchOrderText ng-binding ng-scope\"]'):\n",
    "        Match_title.append(i.text.replace('-',\"\"))\n",
    "except NoSuchElementException:\n",
    "    Match_title.append('-')\n",
    "    \n",
    "len(Match_title)"
   ]
  },
  {
   "cell_type": "code",
   "execution_count": 36,
   "id": "4a669f3c",
   "metadata": {},
   "outputs": [
    {
     "data": {
      "text/plain": [
       "8"
      ]
     },
     "execution_count": 36,
     "metadata": {},
     "output_type": "execute_result"
    }
   ],
   "source": [
    "Series=[]\n",
    "try:\n",
    "    for i in driver.find_elements(By.XPATH,'//span[@class=\"ng-binding\"]'):\n",
    "        Series.append(i.text)\n",
    "except NoSuchElementException:\n",
    "    Series.append('-')\n",
    "    \n",
    "len(Series)"
   ]
  },
  {
   "cell_type": "code",
   "execution_count": 37,
   "id": "c9941120",
   "metadata": {},
   "outputs": [
    {
     "data": {
      "text/plain": [
       "8"
      ]
     },
     "execution_count": 37,
     "metadata": {},
     "output_type": "execute_result"
    }
   ],
   "source": [
    "Place=[]\n",
    "try:\n",
    "    for i in driver.find_elements(By.XPATH,'//span[@class=\"ng-binding ng-scope\"]'):\n",
    "        Place.append(i.text)\n",
    "except NoSuchElementException:\n",
    "    Place.append('-')\n",
    "    \n",
    "len(Place)"
   ]
  },
  {
   "cell_type": "code",
   "execution_count": 44,
   "id": "71ff276a",
   "metadata": {},
   "outputs": [
    {
     "data": {
      "text/plain": [
       "8"
      ]
     },
     "execution_count": 44,
     "metadata": {},
     "output_type": "execute_result"
    }
   ],
   "source": [
    "Date=[]\n",
    "try:\n",
    "    for i in driver.find_elements(By.XPATH,'//div[@class=\"match-dates ng-binding\"]'):\n",
    "        Date.append(i.text)\n",
    "except NoSuchElementException:\n",
    "    Date.append('-')\n",
    "    \n",
    "len(Date)"
   ]
  },
  {
   "cell_type": "code",
   "execution_count": 45,
   "id": "cd11655a",
   "metadata": {},
   "outputs": [
    {
     "data": {
      "text/plain": [
       "8"
      ]
     },
     "execution_count": 45,
     "metadata": {},
     "output_type": "execute_result"
    }
   ],
   "source": [
    "Time=[]\n",
    "try:\n",
    "    for i in driver.find_elements(By.XPATH,'//div[@class=\"match-time no-margin ng-binding\"]'):\n",
    "        Time.append(i.text)\n",
    "except NoSuchElementException:\n",
    "    Time.append('-')\n",
    "    \n",
    "len(Time)"
   ]
  },
  {
   "cell_type": "code",
   "execution_count": 46,
   "id": "ec1b8dc4",
   "metadata": {},
   "outputs": [
    {
     "data": {
      "text/html": [
       "<div>\n",
       "<style scoped>\n",
       "    .dataframe tbody tr th:only-of-type {\n",
       "        vertical-align: middle;\n",
       "    }\n",
       "\n",
       "    .dataframe tbody tr th {\n",
       "        vertical-align: top;\n",
       "    }\n",
       "\n",
       "    .dataframe thead th {\n",
       "        text-align: right;\n",
       "    }\n",
       "</style>\n",
       "<table border=\"1\" class=\"dataframe\">\n",
       "  <thead>\n",
       "    <tr style=\"text-align: right;\">\n",
       "      <th></th>\n",
       "      <th>Match_title</th>\n",
       "      <th>Series</th>\n",
       "      <th>Place</th>\n",
       "      <th>Date</th>\n",
       "      <th>Time</th>\n",
       "    </tr>\n",
       "  </thead>\n",
       "  <tbody>\n",
       "    <tr>\n",
       "      <th>1</th>\n",
       "      <td>1st T20I</td>\n",
       "      <td>Dublin</td>\n",
       "      <td>The Village,</td>\n",
       "      <td>18 AUG 2023</td>\n",
       "      <td>7:30 PM IST</td>\n",
       "    </tr>\n",
       "    <tr>\n",
       "      <th>2</th>\n",
       "      <td>2nd T20I</td>\n",
       "      <td>Dublin</td>\n",
       "      <td>The Village,</td>\n",
       "      <td>20 AUG 2023</td>\n",
       "      <td>7:30 PM IST</td>\n",
       "    </tr>\n",
       "    <tr>\n",
       "      <th>3</th>\n",
       "      <td>3rd T20I</td>\n",
       "      <td>Dublin</td>\n",
       "      <td>The Village,</td>\n",
       "      <td>23 AUG 2023</td>\n",
       "      <td>7:30 PM IST</td>\n",
       "    </tr>\n",
       "    <tr>\n",
       "      <th>4</th>\n",
       "      <td>1st ODI</td>\n",
       "      <td>Pallekele</td>\n",
       "      <td>Pallekele International Cricket Stadium,</td>\n",
       "      <td>2 SEP 2023</td>\n",
       "      <td>10:00 AM IST</td>\n",
       "    </tr>\n",
       "    <tr>\n",
       "      <th>5</th>\n",
       "      <td>2nd ODI</td>\n",
       "      <td>Pallekele</td>\n",
       "      <td>Pallekele International Cricket Stadium,</td>\n",
       "      <td>4 SEP 2023</td>\n",
       "      <td>10:00 AM IST</td>\n",
       "    </tr>\n",
       "    <tr>\n",
       "      <th>6</th>\n",
       "      <td>1st ODI</td>\n",
       "      <td>Mohali</td>\n",
       "      <td>Punjab Cricket Association IS Bindra Stadium,</td>\n",
       "      <td>22 SEP 2023</td>\n",
       "      <td>1:30 PM IST</td>\n",
       "    </tr>\n",
       "    <tr>\n",
       "      <th>7</th>\n",
       "      <td>2nd ODI</td>\n",
       "      <td>Indore</td>\n",
       "      <td>Holkar Cricket Stadium,</td>\n",
       "      <td>24 SEP 2023</td>\n",
       "      <td>1:30 PM IST</td>\n",
       "    </tr>\n",
       "    <tr>\n",
       "      <th>8</th>\n",
       "      <td>3rd ODI</td>\n",
       "      <td>Rajkot</td>\n",
       "      <td>Saurashtra Cricket Association Stadium,</td>\n",
       "      <td>27 SEP 2023</td>\n",
       "      <td>1:30 PM IST</td>\n",
       "    </tr>\n",
       "  </tbody>\n",
       "</table>\n",
       "</div>"
      ],
      "text/plain": [
       "  Match_title     Series                                          Place  \\\n",
       "1   1st T20I      Dublin                                   The Village,   \n",
       "2   2nd T20I      Dublin                                   The Village,   \n",
       "3   3rd T20I      Dublin                                   The Village,   \n",
       "4    1st ODI   Pallekele       Pallekele International Cricket Stadium,   \n",
       "5    2nd ODI   Pallekele       Pallekele International Cricket Stadium,   \n",
       "6    1st ODI      Mohali  Punjab Cricket Association IS Bindra Stadium,   \n",
       "7    2nd ODI      Indore                        Holkar Cricket Stadium,   \n",
       "8    3rd ODI      Rajkot        Saurashtra Cricket Association Stadium,   \n",
       "\n",
       "          Date          Time  \n",
       "1  18 AUG 2023   7:30 PM IST  \n",
       "2  20 AUG 2023   7:30 PM IST  \n",
       "3  23 AUG 2023   7:30 PM IST  \n",
       "4   2 SEP 2023  10:00 AM IST  \n",
       "5   4 SEP 2023  10:00 AM IST  \n",
       "6  22 SEP 2023   1:30 PM IST  \n",
       "7  24 SEP 2023   1:30 PM IST  \n",
       "8  27 SEP 2023   1:30 PM IST  "
      ]
     },
     "execution_count": 46,
     "metadata": {},
     "output_type": "execute_result"
    }
   ],
   "source": [
    "dfc=pd.DataFrame({\"Match_title\":Match_title,\"Series\":Series,\"Place\":Place,\"Date\":Date,\"Time\":Time})\n",
    "dfc.index=range(1,len(dfc)+1)\n",
    "dfc"
   ]
  },
  {
   "cell_type": "code",
   "execution_count": 49,
   "id": "bcd26f0c",
   "metadata": {},
   "outputs": [],
   "source": [
    "driver.close()"
   ]
  },
  {
   "cell_type": "markdown",
   "id": "9eb359f4",
   "metadata": {},
   "source": [
    "3. Scrape the details of State-wise GDP of India from statisticstime.com. \n",
    "Url = http://statisticstimes.com/\n",
    "\n",
    "You have to find following details:                                   \n",
    "A)Rank                         \n",
    "B) State                                      \n",
    "C) GSDP(18-19)- at current prices                               \n",
    "D) GSDP(19-20)- at current prices                                         \n",
    "E) Share(18-19)                                        \n",
    "F) GDP($ billion)                                   \n",
    "\n",
    "Note: - From statisticstimes home page you have to reach to economy page through code. "
   ]
  },
  {
   "cell_type": "code",
   "execution_count": 54,
   "id": "ce31c4fd",
   "metadata": {},
   "outputs": [],
   "source": [
    "driver= webdriver.Chrome()"
   ]
  },
  {
   "cell_type": "code",
   "execution_count": 56,
   "id": "5a7f7c7d",
   "metadata": {},
   "outputs": [],
   "source": [
    "driver.get('https://statisticstimes.com/')"
   ]
  },
  {
   "cell_type": "code",
   "execution_count": 57,
   "id": "b6edbad4",
   "metadata": {},
   "outputs": [],
   "source": [
    "driver.find_element(By.XPATH,\"/html/body/div[2]/div[1]/div[2]/div[2]/button\").click()\n",
    "driver.find_element(By.XPATH,'//div[@class=\"dropdown-content\"]//a[3]').click()"
   ]
  },
  {
   "cell_type": "code",
   "execution_count": 58,
   "id": "1f516c70",
   "metadata": {},
   "outputs": [],
   "source": [
    "#get the url of page containing GDP of indian states\n",
    "sta_GDP = driver.find_element(By.XPATH,'//ul[@style=\"list-style-type:none;margin-left:20px;\"]/li/a')\n",
    "GDP_url = sta_GDP.get_attribute(\"href\")\n",
    "\n",
    "driver.get(GDP_url)\n",
    "time.sleep(6)"
   ]
  },
  {
   "cell_type": "code",
   "execution_count": 59,
   "id": "715c5b85",
   "metadata": {},
   "outputs": [
    {
     "data": {
      "text/plain": [
       "33"
      ]
     },
     "execution_count": 59,
     "metadata": {},
     "output_type": "execute_result"
    }
   ],
   "source": [
    "Rank=[]\n",
    "try:\n",
    "    for i in driver.find_elements(By.XPATH,'//div[@id=\"table_id_wrapper\"]//tbody//tr//td[1]'):\n",
    "        Rank.append(i.text)\n",
    "except NoSuchElementException:\n",
    "    Rank.append('-')\n",
    "len(Rank)"
   ]
  },
  {
   "cell_type": "code",
   "execution_count": 60,
   "id": "3eab3504",
   "metadata": {},
   "outputs": [
    {
     "data": {
      "text/plain": [
       "33"
      ]
     },
     "execution_count": 60,
     "metadata": {},
     "output_type": "execute_result"
    }
   ],
   "source": [
    "State=[]\n",
    "try:\n",
    "    for i in driver.find_elements(By.XPATH,'//div[@id=\"table_id_wrapper\"]//tbody//tr//td[2]'):\n",
    "        State.append(i.text)\n",
    "except NoSuchElementException:\n",
    "    State.append('-')\n",
    "len(State)"
   ]
  },
  {
   "cell_type": "code",
   "execution_count": 61,
   "id": "31e88af1",
   "metadata": {},
   "outputs": [
    {
     "data": {
      "text/plain": [
       "33"
      ]
     },
     "execution_count": 61,
     "metadata": {},
     "output_type": "execute_result"
    }
   ],
   "source": [
    "GDPs=[]\n",
    "try:\n",
    "    for i in driver.find_elements(By.XPATH,'//div[@id=\"table_id_wrapper\"]//tbody//tr//td[8]'):\n",
    "        GDPs.append(i.text)\n",
    "except NoSuchElementException:\n",
    "    GDPs.append('-')\n",
    "len(GDPs)"
   ]
  },
  {
   "cell_type": "code",
   "execution_count": 62,
   "id": "746d3237",
   "metadata": {},
   "outputs": [
    {
     "data": {
      "text/plain": [
       "33"
      ]
     },
     "execution_count": 62,
     "metadata": {},
     "output_type": "execute_result"
    }
   ],
   "source": [
    "GDP=[]\n",
    "try:\n",
    "    for i in driver.find_elements(By.XPATH,'//div[@id=\"table_id_wrapper\"]//tbody//tr//td[3]'):\n",
    "        GDP.append(i.text)\n",
    "except NoSuchElementException:\n",
    "    GDP.append('-')\n",
    "len(GDP)"
   ]
  },
  {
   "cell_type": "code",
   "execution_count": 63,
   "id": "15ec55e5",
   "metadata": {},
   "outputs": [
    {
     "data": {
      "text/plain": [
       "33"
      ]
     },
     "execution_count": 63,
     "metadata": {},
     "output_type": "execute_result"
    }
   ],
   "source": [
    "Share=[]\n",
    "try:\n",
    "    for i in driver.find_elements(By.XPATH,'//div[@id=\"table_id_wrapper\"]//tbody//tr//td[5]'):\n",
    "        Share.append(i.text)\n",
    "except NoSuchElementException:\n",
    "    Share.append('-')\n",
    "len(Share)"
   ]
  },
  {
   "cell_type": "code",
   "execution_count": 64,
   "id": "8287bc12",
   "metadata": {},
   "outputs": [
    {
     "data": {
      "text/plain": [
       "33"
      ]
     },
     "execution_count": 64,
     "metadata": {},
     "output_type": "execute_result"
    }
   ],
   "source": [
    "GDPa=[]\n",
    "try:\n",
    "    for i in driver.find_elements(By.XPATH,'//div[@id=\"table_id_wrapper\"]//tbody//tr//td[6]'):\n",
    "        GDPa.append(i.text)\n",
    "except NoSuchElementException:\n",
    "    GDPa.append('-')\n",
    "    \n",
    "len(GDPa)"
   ]
  },
  {
   "cell_type": "code",
   "execution_count": 65,
   "id": "63d1169a",
   "metadata": {},
   "outputs": [
    {
     "data": {
      "text/html": [
       "<div>\n",
       "<style scoped>\n",
       "    .dataframe tbody tr th:only-of-type {\n",
       "        vertical-align: middle;\n",
       "    }\n",
       "\n",
       "    .dataframe tbody tr th {\n",
       "        vertical-align: top;\n",
       "    }\n",
       "\n",
       "    .dataframe thead th {\n",
       "        text-align: right;\n",
       "    }\n",
       "</style>\n",
       "<table border=\"1\" class=\"dataframe\">\n",
       "  <thead>\n",
       "    <tr style=\"text-align: right;\">\n",
       "      <th></th>\n",
       "      <th>Rank</th>\n",
       "      <th>State</th>\n",
       "      <th>GSDP(18-19)- at current prices</th>\n",
       "      <th>GSDP(19-20)- at current prices</th>\n",
       "      <th>Share</th>\n",
       "      <th>GDP($ billion)</th>\n",
       "    </tr>\n",
       "  </thead>\n",
       "  <tbody>\n",
       "    <tr>\n",
       "      <th>1</th>\n",
       "      <td>1</td>\n",
       "      <td>Maharashtra</td>\n",
       "      <td>2,039,074</td>\n",
       "      <td>-</td>\n",
       "      <td>13.94%</td>\n",
       "      <td>399.921</td>\n",
       "    </tr>\n",
       "    <tr>\n",
       "      <th>2</th>\n",
       "      <td>2</td>\n",
       "      <td>Tamil Nadu</td>\n",
       "      <td>1,215,307</td>\n",
       "      <td>1,845,853</td>\n",
       "      <td>8.63%</td>\n",
       "      <td>247.629</td>\n",
       "    </tr>\n",
       "    <tr>\n",
       "      <th>3</th>\n",
       "      <td>3</td>\n",
       "      <td>Uttar Pradesh</td>\n",
       "      <td>1,123,982</td>\n",
       "      <td>1,687,818</td>\n",
       "      <td>8.39%</td>\n",
       "      <td>240.726</td>\n",
       "    </tr>\n",
       "    <tr>\n",
       "      <th>4</th>\n",
       "      <td>4</td>\n",
       "      <td>Gujarat</td>\n",
       "      <td>1,186,379</td>\n",
       "      <td>-</td>\n",
       "      <td>7.96%</td>\n",
       "      <td>228.290</td>\n",
       "    </tr>\n",
       "    <tr>\n",
       "      <th>5</th>\n",
       "      <td>5</td>\n",
       "      <td>Karnataka</td>\n",
       "      <td>1,091,077</td>\n",
       "      <td>1,631,977</td>\n",
       "      <td>7.91%</td>\n",
       "      <td>226.806</td>\n",
       "    </tr>\n",
       "    <tr>\n",
       "      <th>6</th>\n",
       "      <td>6</td>\n",
       "      <td>West Bengal</td>\n",
       "      <td>739,525</td>\n",
       "      <td>1,253,832</td>\n",
       "      <td>5.77%</td>\n",
       "      <td>165.556</td>\n",
       "    </tr>\n",
       "    <tr>\n",
       "      <th>7</th>\n",
       "      <td>7</td>\n",
       "      <td>Rajasthan</td>\n",
       "      <td>677,428</td>\n",
       "      <td>1,020,989</td>\n",
       "      <td>4.99%</td>\n",
       "      <td>143.179</td>\n",
       "    </tr>\n",
       "    <tr>\n",
       "      <th>8</th>\n",
       "      <td>8</td>\n",
       "      <td>Andhra Pradesh</td>\n",
       "      <td>621,301</td>\n",
       "      <td>972,782</td>\n",
       "      <td>4.57%</td>\n",
       "      <td>131.083</td>\n",
       "    </tr>\n",
       "    <tr>\n",
       "      <th>9</th>\n",
       "      <td>9</td>\n",
       "      <td>Telangana</td>\n",
       "      <td>612,828</td>\n",
       "      <td>969,604</td>\n",
       "      <td>4.56%</td>\n",
       "      <td>130.791</td>\n",
       "    </tr>\n",
       "    <tr>\n",
       "      <th>10</th>\n",
       "      <td>10</td>\n",
       "      <td>Madhya Pradesh</td>\n",
       "      <td>522,009</td>\n",
       "      <td>906,672</td>\n",
       "      <td>4.29%</td>\n",
       "      <td>122.977</td>\n",
       "    </tr>\n",
       "    <tr>\n",
       "      <th>11</th>\n",
       "      <td>11</td>\n",
       "      <td>Kerala</td>\n",
       "      <td>559,412</td>\n",
       "      <td>-</td>\n",
       "      <td>4.14%</td>\n",
       "      <td>118.733</td>\n",
       "    </tr>\n",
       "    <tr>\n",
       "      <th>12</th>\n",
       "      <td>12</td>\n",
       "      <td>Delhi</td>\n",
       "      <td>590,569</td>\n",
       "      <td>856,112</td>\n",
       "      <td>4.10%</td>\n",
       "      <td>117.703</td>\n",
       "    </tr>\n",
       "    <tr>\n",
       "      <th>13</th>\n",
       "      <td>13</td>\n",
       "      <td>Haryana</td>\n",
       "      <td>531,085</td>\n",
       "      <td>831,610</td>\n",
       "      <td>3.89%</td>\n",
       "      <td>111.519</td>\n",
       "    </tr>\n",
       "    <tr>\n",
       "      <th>14</th>\n",
       "      <td>14</td>\n",
       "      <td>Bihar</td>\n",
       "      <td>375,651</td>\n",
       "      <td>611,804</td>\n",
       "      <td>2.81%</td>\n",
       "      <td>80.562</td>\n",
       "    </tr>\n",
       "    <tr>\n",
       "      <th>15</th>\n",
       "      <td>15</td>\n",
       "      <td>Punjab</td>\n",
       "      <td>397,669</td>\n",
       "      <td>574,760</td>\n",
       "      <td>2.79%</td>\n",
       "      <td>79.957</td>\n",
       "    </tr>\n",
       "    <tr>\n",
       "      <th>16</th>\n",
       "      <td>16</td>\n",
       "      <td>Odisha</td>\n",
       "      <td>376,877</td>\n",
       "      <td>521,275</td>\n",
       "      <td>2.58%</td>\n",
       "      <td>74.098</td>\n",
       "    </tr>\n",
       "    <tr>\n",
       "      <th>17</th>\n",
       "      <td>17</td>\n",
       "      <td>Assam</td>\n",
       "      <td>234,048</td>\n",
       "      <td>-</td>\n",
       "      <td>1.67%</td>\n",
       "      <td>47.982</td>\n",
       "    </tr>\n",
       "    <tr>\n",
       "      <th>18</th>\n",
       "      <td>18</td>\n",
       "      <td>Chhattisgarh</td>\n",
       "      <td>231,182</td>\n",
       "      <td>329,180</td>\n",
       "      <td>1.61%</td>\n",
       "      <td>46.187</td>\n",
       "    </tr>\n",
       "    <tr>\n",
       "      <th>19</th>\n",
       "      <td>19</td>\n",
       "      <td>Jharkhand</td>\n",
       "      <td>224,986</td>\n",
       "      <td>328,598</td>\n",
       "      <td>1.57%</td>\n",
       "      <td>45.145</td>\n",
       "    </tr>\n",
       "    <tr>\n",
       "      <th>20</th>\n",
       "      <td>20</td>\n",
       "      <td>Uttarakhand</td>\n",
       "      <td>193,273</td>\n",
       "      <td>-</td>\n",
       "      <td>1.30%</td>\n",
       "      <td>37.351</td>\n",
       "    </tr>\n",
       "    <tr>\n",
       "      <th>21</th>\n",
       "      <td>21</td>\n",
       "      <td>Jammu &amp; Kashmir</td>\n",
       "      <td>112,755</td>\n",
       "      <td>-</td>\n",
       "      <td>0.83%</td>\n",
       "      <td>23.690</td>\n",
       "    </tr>\n",
       "    <tr>\n",
       "      <th>22</th>\n",
       "      <td>22</td>\n",
       "      <td>Himachal Pradesh</td>\n",
       "      <td>117,851</td>\n",
       "      <td>165,472</td>\n",
       "      <td>0.81%</td>\n",
       "      <td>23.369</td>\n",
       "    </tr>\n",
       "    <tr>\n",
       "      <th>23</th>\n",
       "      <td>23</td>\n",
       "      <td>Goa</td>\n",
       "      <td>57,787</td>\n",
       "      <td>80,449</td>\n",
       "      <td>0.39%</td>\n",
       "      <td>11.115</td>\n",
       "    </tr>\n",
       "    <tr>\n",
       "      <th>24</th>\n",
       "      <td>24</td>\n",
       "      <td>Tripura</td>\n",
       "      <td>36,963</td>\n",
       "      <td>55,984</td>\n",
       "      <td>0.26%</td>\n",
       "      <td>7.571</td>\n",
       "    </tr>\n",
       "    <tr>\n",
       "      <th>25</th>\n",
       "      <td>25</td>\n",
       "      <td>Chandigarh</td>\n",
       "      <td>31,192</td>\n",
       "      <td>-</td>\n",
       "      <td>0.22%</td>\n",
       "      <td>6.397</td>\n",
       "    </tr>\n",
       "    <tr>\n",
       "      <th>26</th>\n",
       "      <td>26</td>\n",
       "      <td>Puducherry</td>\n",
       "      <td>23,013</td>\n",
       "      <td>38,253</td>\n",
       "      <td>0.18%</td>\n",
       "      <td>5.230</td>\n",
       "    </tr>\n",
       "    <tr>\n",
       "      <th>27</th>\n",
       "      <td>27</td>\n",
       "      <td>Meghalaya</td>\n",
       "      <td>24,682</td>\n",
       "      <td>36,572</td>\n",
       "      <td>0.18%</td>\n",
       "      <td>5.086</td>\n",
       "    </tr>\n",
       "    <tr>\n",
       "      <th>28</th>\n",
       "      <td>28</td>\n",
       "      <td>Sikkim</td>\n",
       "      <td>18,722</td>\n",
       "      <td>32,496</td>\n",
       "      <td>0.15%</td>\n",
       "      <td>4.363</td>\n",
       "    </tr>\n",
       "    <tr>\n",
       "      <th>29</th>\n",
       "      <td>29</td>\n",
       "      <td>Manipur</td>\n",
       "      <td>19,300</td>\n",
       "      <td>31,790</td>\n",
       "      <td>0.15%</td>\n",
       "      <td>4.233</td>\n",
       "    </tr>\n",
       "    <tr>\n",
       "      <th>30</th>\n",
       "      <td>30</td>\n",
       "      <td>Nagaland</td>\n",
       "      <td>17,647</td>\n",
       "      <td>-</td>\n",
       "      <td>0.14%</td>\n",
       "      <td>4.144</td>\n",
       "    </tr>\n",
       "    <tr>\n",
       "      <th>31</th>\n",
       "      <td>31</td>\n",
       "      <td>Arunachal Pradesh</td>\n",
       "      <td>16,676</td>\n",
       "      <td>-</td>\n",
       "      <td>0.13%</td>\n",
       "      <td>3.737</td>\n",
       "    </tr>\n",
       "    <tr>\n",
       "      <th>32</th>\n",
       "      <td>32</td>\n",
       "      <td>Mizoram</td>\n",
       "      <td>16,478</td>\n",
       "      <td>26,503</td>\n",
       "      <td>0.12%</td>\n",
       "      <td>3.385</td>\n",
       "    </tr>\n",
       "    <tr>\n",
       "      <th>33</th>\n",
       "      <td>33</td>\n",
       "      <td>Andaman &amp; Nicobar Islands</td>\n",
       "      <td>-</td>\n",
       "      <td>-</td>\n",
       "      <td>-</td>\n",
       "      <td>-</td>\n",
       "    </tr>\n",
       "  </tbody>\n",
       "</table>\n",
       "</div>"
      ],
      "text/plain": [
       "   Rank                      State GSDP(18-19)- at current prices  \\\n",
       "1     1                Maharashtra                      2,039,074   \n",
       "2     2                 Tamil Nadu                      1,215,307   \n",
       "3     3              Uttar Pradesh                      1,123,982   \n",
       "4     4                    Gujarat                      1,186,379   \n",
       "5     5                  Karnataka                      1,091,077   \n",
       "6     6                West Bengal                        739,525   \n",
       "7     7                  Rajasthan                        677,428   \n",
       "8     8             Andhra Pradesh                        621,301   \n",
       "9     9                  Telangana                        612,828   \n",
       "10   10             Madhya Pradesh                        522,009   \n",
       "11   11                     Kerala                        559,412   \n",
       "12   12                      Delhi                        590,569   \n",
       "13   13                    Haryana                        531,085   \n",
       "14   14                      Bihar                        375,651   \n",
       "15   15                     Punjab                        397,669   \n",
       "16   16                     Odisha                        376,877   \n",
       "17   17                      Assam                        234,048   \n",
       "18   18               Chhattisgarh                        231,182   \n",
       "19   19                  Jharkhand                        224,986   \n",
       "20   20                Uttarakhand                        193,273   \n",
       "21   21            Jammu & Kashmir                        112,755   \n",
       "22   22           Himachal Pradesh                        117,851   \n",
       "23   23                        Goa                         57,787   \n",
       "24   24                    Tripura                         36,963   \n",
       "25   25                 Chandigarh                         31,192   \n",
       "26   26                 Puducherry                         23,013   \n",
       "27   27                  Meghalaya                         24,682   \n",
       "28   28                     Sikkim                         18,722   \n",
       "29   29                    Manipur                         19,300   \n",
       "30   30                   Nagaland                         17,647   \n",
       "31   31          Arunachal Pradesh                         16,676   \n",
       "32   32                    Mizoram                         16,478   \n",
       "33   33  Andaman & Nicobar Islands                              -   \n",
       "\n",
       "   GSDP(19-20)- at current prices   Share GDP($ billion)  \n",
       "1                               -  13.94%        399.921  \n",
       "2                       1,845,853   8.63%        247.629  \n",
       "3                       1,687,818   8.39%        240.726  \n",
       "4                               -   7.96%        228.290  \n",
       "5                       1,631,977   7.91%        226.806  \n",
       "6                       1,253,832   5.77%        165.556  \n",
       "7                       1,020,989   4.99%        143.179  \n",
       "8                         972,782   4.57%        131.083  \n",
       "9                         969,604   4.56%        130.791  \n",
       "10                        906,672   4.29%        122.977  \n",
       "11                              -   4.14%        118.733  \n",
       "12                        856,112   4.10%        117.703  \n",
       "13                        831,610   3.89%        111.519  \n",
       "14                        611,804   2.81%         80.562  \n",
       "15                        574,760   2.79%         79.957  \n",
       "16                        521,275   2.58%         74.098  \n",
       "17                              -   1.67%         47.982  \n",
       "18                        329,180   1.61%         46.187  \n",
       "19                        328,598   1.57%         45.145  \n",
       "20                              -   1.30%         37.351  \n",
       "21                              -   0.83%         23.690  \n",
       "22                        165,472   0.81%         23.369  \n",
       "23                         80,449   0.39%         11.115  \n",
       "24                         55,984   0.26%          7.571  \n",
       "25                              -   0.22%          6.397  \n",
       "26                         38,253   0.18%          5.230  \n",
       "27                         36,572   0.18%          5.086  \n",
       "28                         32,496   0.15%          4.363  \n",
       "29                         31,790   0.15%          4.233  \n",
       "30                              -   0.14%          4.144  \n",
       "31                              -   0.13%          3.737  \n",
       "32                         26,503   0.12%          3.385  \n",
       "33                              -       -              -  "
      ]
     },
     "execution_count": 65,
     "metadata": {},
     "output_type": "execute_result"
    }
   ],
   "source": [
    "dfgdp=pd.DataFrame({'Rank':Rank,\"State\":State,\"GSDP(18-19)- at current prices\":GDPs,\"GSDP(19-20)- at current prices\":GDP,\"Share\":Share,\"GDP($ billion)\":GDPa})\n",
    "dfgdp.index=range(1,len(dfgdp)+1)\n",
    "dfgdp\n"
   ]
  },
  {
   "cell_type": "code",
   "execution_count": 66,
   "id": "da75da69",
   "metadata": {},
   "outputs": [],
   "source": [
    "driver.close()"
   ]
  },
  {
   "cell_type": "markdown",
   "id": "1aa291e3",
   "metadata": {},
   "source": [
    "4. Scrape the details of trending repositories on Github.com. \n",
    "Url = https://github.com/\n",
    "You have to find the following details: \n",
    "\n",
    "A) Repository title                          \n",
    "B) Repository description                             \n",
    "C) Contributors count                   \n",
    "D) Language used                        \n",
    "\n",
    "Note: - From the home page you have to click on the trending option from Explore menu through code. \n"
   ]
  },
  {
   "cell_type": "code",
   "execution_count": 3,
   "id": "aff56baf",
   "metadata": {},
   "outputs": [],
   "source": [
    "driver= webdriver.Chrome()"
   ]
  },
  {
   "cell_type": "code",
   "execution_count": 35,
   "id": "5e448f5c",
   "metadata": {},
   "outputs": [],
   "source": [
    "driver.get('https://github.com/')"
   ]
  },
  {
   "cell_type": "code",
   "execution_count": 36,
   "id": "14b4e24a",
   "metadata": {},
   "outputs": [
    {
     "data": {
      "text/plain": [
       "25"
      ]
     },
     "execution_count": 36,
     "metadata": {},
     "output_type": "execute_result"
    }
   ],
   "source": [
    "links=[]\n",
    "link=driver.find_elements(By.XPATH,'//h2/a')\n",
    "for i in link:\n",
    "    links.append(i.get_attribute(\"href\"))\n",
    "    \n",
    "len(links)"
   ]
  },
  {
   "cell_type": "code",
   "execution_count": 37,
   "id": "ab483425",
   "metadata": {},
   "outputs": [
    {
     "data": {
      "text/plain": [
       "25"
      ]
     },
     "execution_count": 37,
     "metadata": {},
     "output_type": "execute_result"
    }
   ],
   "source": [
    "Repository_name=[]\n",
    "rt=driver.find_elements(By.XPATH,'//span[@class=\"text-normal\"]')\n",
    "for i in rt:\n",
    "    Repository_name.append(i.text)\n",
    "    \n",
    "len(Repository_name)"
   ]
  },
  {
   "cell_type": "code",
   "execution_count": 45,
   "id": "6f45b6e6",
   "metadata": {},
   "outputs": [
    {
     "data": {
      "text/plain": [
       "25"
      ]
     },
     "execution_count": 45,
     "metadata": {},
     "output_type": "execute_result"
    }
   ],
   "source": [
    "Repository_description=[]\n",
    "rt=driver.find_elements(By.XPATH,'//p[@class=\"col-9 color-fg-muted my-1 pr-4\"]')\n",
    "for i in rt:\n",
    "    Repository_description.append(i.text)\n",
    "    \n",
    "len(Repository_description)"
   ]
  },
  {
   "cell_type": "code",
   "execution_count": 27,
   "id": "48b745ff",
   "metadata": {},
   "outputs": [
    {
     "data": {
      "text/plain": [
       "25"
      ]
     },
     "execution_count": 27,
     "metadata": {},
     "output_type": "execute_result"
    }
   ],
   "source": [
    "Contributors_count=[]\n",
    "for i in links:\n",
    "    driver.get(i)\n",
    "    time.sleep(0.1)\n",
    "    try:\n",
    "        cc=driver.find_element(By.XPATH,'//a/span[@class=\"Counter ml-1\"][@title!=0]')\n",
    "        Contributors_count.append(cc.text)\n",
    "    \n",
    "    except NoSuchElementException:\n",
    "        Contributors_count.append('1')\n",
    "        \n",
    "len(Contributors_count)"
   ]
  },
  {
   "cell_type": "code",
   "execution_count": 28,
   "id": "bf5d4d8d",
   "metadata": {},
   "outputs": [
    {
     "data": {
      "text/plain": [
       "25"
      ]
     },
     "execution_count": 28,
     "metadata": {},
     "output_type": "execute_result"
    }
   ],
   "source": [
    "Languages_used=[]\n",
    "for i in links:\n",
    "    driver.get(i)\n",
    "    time.sleep(0.1)\n",
    "    try:\n",
    "        lu=driver.find_element(By.XPATH,'//span[@class=\"color-fg-default text-bold mr-1\"]')\n",
    "        Languages_used.append(lu.text)\n",
    "    \n",
    "    except NoSuchElementException:\n",
    "        Languages_used.append('-')\n",
    "        \n",
    "len(Languages_used)"
   ]
  },
  {
   "cell_type": "code",
   "execution_count": 47,
   "id": "467a9205",
   "metadata": {},
   "outputs": [
    {
     "data": {
      "text/html": [
       "<div>\n",
       "<style scoped>\n",
       "    .dataframe tbody tr th:only-of-type {\n",
       "        vertical-align: middle;\n",
       "    }\n",
       "\n",
       "    .dataframe tbody tr th {\n",
       "        vertical-align: top;\n",
       "    }\n",
       "\n",
       "    .dataframe thead th {\n",
       "        text-align: right;\n",
       "    }\n",
       "</style>\n",
       "<table border=\"1\" class=\"dataframe\">\n",
       "  <thead>\n",
       "    <tr style=\"text-align: right;\">\n",
       "      <th></th>\n",
       "      <th>Repository Name</th>\n",
       "      <th>Repository Description</th>\n",
       "      <th>Contributors Count</th>\n",
       "    </tr>\n",
       "  </thead>\n",
       "  <tbody>\n",
       "    <tr>\n",
       "      <th>1</th>\n",
       "      <td>getumbrel /</td>\n",
       "      <td>A self-hosted, offline, ChatGPT-like chatbot. ...</td>\n",
       "      <td>2</td>\n",
       "    </tr>\n",
       "    <tr>\n",
       "      <th>2</th>\n",
       "      <td>elidianaandrade /</td>\n",
       "      <td>Repositório do lab Contribuindo em um Projeto ...</td>\n",
       "      <td>271</td>\n",
       "    </tr>\n",
       "    <tr>\n",
       "      <th>3</th>\n",
       "      <td>apple /</td>\n",
       "      <td>This repository contains the official implemen...</td>\n",
       "      <td>2</td>\n",
       "    </tr>\n",
       "    <tr>\n",
       "      <th>4</th>\n",
       "      <td>alibaba /</td>\n",
       "      <td>阿里巴巴 MySQL binlog 增量订阅&amp;消费组件</td>\n",
       "      <td>191</td>\n",
       "    </tr>\n",
       "    <tr>\n",
       "      <th>5</th>\n",
       "      <td>LorisYounger /</td>\n",
       "      <td>虚拟桌宠模拟器 一个开源的桌宠软件, 可以内置到任何WPF应用程序</td>\n",
       "      <td>5</td>\n",
       "    </tr>\n",
       "    <tr>\n",
       "      <th>6</th>\n",
       "      <td>systeminit /</td>\n",
       "      <td>The System Initiative software</td>\n",
       "      <td>16</td>\n",
       "    </tr>\n",
       "    <tr>\n",
       "      <th>7</th>\n",
       "      <td>ubicloud /</td>\n",
       "      <td>Open, free, and portable cloud. Elastic comput...</td>\n",
       "      <td>8</td>\n",
       "    </tr>\n",
       "    <tr>\n",
       "      <th>8</th>\n",
       "      <td>ill-inc /</td>\n",
       "      <td>Biomes is an open source sandbox MMORPG built ...</td>\n",
       "      <td>8</td>\n",
       "    </tr>\n",
       "    <tr>\n",
       "      <th>9</th>\n",
       "      <td>1Panel-dev /</td>\n",
       "      <td>🔥 🔥 🔥 现代化、开源的 Linux 服务器运维管理面板。</td>\n",
       "      <td>29</td>\n",
       "    </tr>\n",
       "    <tr>\n",
       "      <th>10</th>\n",
       "      <td>taojy123 /</td>\n",
       "      <td>类似按键精灵的鼠标键盘录制和自动化操作 模拟点击和键入 | automate mouse c...</td>\n",
       "      <td>4</td>\n",
       "    </tr>\n",
       "    <tr>\n",
       "      <th>11</th>\n",
       "      <td>jiran214 /</td>\n",
       "      <td>GPT-vup BIliBili | 抖音 | AI | 虚拟主播</td>\n",
       "      <td>1</td>\n",
       "    </tr>\n",
       "    <tr>\n",
       "      <th>12</th>\n",
       "      <td>SkyAsor /</td>\n",
       "      <td>Save time and maximize your profits with our J...</td>\n",
       "      <td>1</td>\n",
       "    </tr>\n",
       "    <tr>\n",
       "      <th>13</th>\n",
       "      <td>bellard /</td>\n",
       "      <td>Public repository of the QuickJS Javascript En...</td>\n",
       "      <td>1</td>\n",
       "    </tr>\n",
       "    <tr>\n",
       "      <th>14</th>\n",
       "      <td>rany2 /</td>\n",
       "      <td>Use Microsoft Edge's online text-to-speech ser...</td>\n",
       "      <td>6</td>\n",
       "    </tr>\n",
       "    <tr>\n",
       "      <th>15</th>\n",
       "      <td>ibaiw /</td>\n",
       "      <td>2023 HVV情报速递~</td>\n",
       "      <td>1</td>\n",
       "    </tr>\n",
       "    <tr>\n",
       "      <th>16</th>\n",
       "      <td>wangshusen /</td>\n",
       "      <td>搜索引擎原理</td>\n",
       "      <td>1</td>\n",
       "    </tr>\n",
       "    <tr>\n",
       "      <th>17</th>\n",
       "      <td>diegomura /</td>\n",
       "      <td>📄 Create PDF files using React</td>\n",
       "      <td>109</td>\n",
       "    </tr>\n",
       "    <tr>\n",
       "      <th>18</th>\n",
       "      <td>roboflow /</td>\n",
       "      <td>We write your reusable computer vision tools. 💜</td>\n",
       "      <td>17</td>\n",
       "    </tr>\n",
       "    <tr>\n",
       "      <th>19</th>\n",
       "      <td>xxlllq /</td>\n",
       "      <td>💯2023年系统架构设计师（软考高级）备考资料。</td>\n",
       "      <td>1</td>\n",
       "    </tr>\n",
       "    <tr>\n",
       "      <th>20</th>\n",
       "      <td>opentffoundation /</td>\n",
       "      <td>The OpenTF Manifesto expresses concern over Ha...</td>\n",
       "      <td>258</td>\n",
       "    </tr>\n",
       "    <tr>\n",
       "      <th>21</th>\n",
       "      <td>Kotlin /</td>\n",
       "      <td>Kotlin multiplatform / multi-format serialization</td>\n",
       "      <td>149</td>\n",
       "    </tr>\n",
       "    <tr>\n",
       "      <th>22</th>\n",
       "      <td>novuhq /</td>\n",
       "      <td>The open-source notification infrastructure wi...</td>\n",
       "      <td>8</td>\n",
       "    </tr>\n",
       "    <tr>\n",
       "      <th>23</th>\n",
       "      <td>apitable /</td>\n",
       "      <td>🚀🎉📚 APITable, an API-oriented low-code platfor...</td>\n",
       "      <td>62</td>\n",
       "    </tr>\n",
       "    <tr>\n",
       "      <th>24</th>\n",
       "      <td>ververica /</td>\n",
       "      <td>CDC Connectors for Apache Flink®</td>\n",
       "      <td>101</td>\n",
       "    </tr>\n",
       "    <tr>\n",
       "      <th>25</th>\n",
       "      <td>lllyasviel /</td>\n",
       "      <td>Focus on prompting and generating</td>\n",
       "      <td>3</td>\n",
       "    </tr>\n",
       "  </tbody>\n",
       "</table>\n",
       "</div>"
      ],
      "text/plain": [
       "       Repository Name                             Repository Description  \\\n",
       "1          getumbrel /  A self-hosted, offline, ChatGPT-like chatbot. ...   \n",
       "2    elidianaandrade /  Repositório do lab Contribuindo em um Projeto ...   \n",
       "3              apple /  This repository contains the official implemen...   \n",
       "4            alibaba /                        阿里巴巴 MySQL binlog 增量订阅&消费组件   \n",
       "5       LorisYounger /                  虚拟桌宠模拟器 一个开源的桌宠软件, 可以内置到任何WPF应用程序   \n",
       "6         systeminit /                     The System Initiative software   \n",
       "7           ubicloud /  Open, free, and portable cloud. Elastic comput...   \n",
       "8            ill-inc /  Biomes is an open source sandbox MMORPG built ...   \n",
       "9         1Panel-dev /                     🔥 🔥 🔥 现代化、开源的 Linux 服务器运维管理面板。   \n",
       "10          taojy123 /  类似按键精灵的鼠标键盘录制和自动化操作 模拟点击和键入 | automate mouse c...   \n",
       "11          jiran214 /                  GPT-vup BIliBili | 抖音 | AI | 虚拟主播   \n",
       "12           SkyAsor /  Save time and maximize your profits with our J...   \n",
       "13           bellard /  Public repository of the QuickJS Javascript En...   \n",
       "14             rany2 /  Use Microsoft Edge's online text-to-speech ser...   \n",
       "15             ibaiw /                                      2023 HVV情报速递~   \n",
       "16        wangshusen /                                             搜索引擎原理   \n",
       "17         diegomura /                     📄 Create PDF files using React   \n",
       "18          roboflow /    We write your reusable computer vision tools. 💜   \n",
       "19            xxlllq /                           💯2023年系统架构设计师（软考高级）备考资料。   \n",
       "20  opentffoundation /  The OpenTF Manifesto expresses concern over Ha...   \n",
       "21            Kotlin /  Kotlin multiplatform / multi-format serialization   \n",
       "22            novuhq /  The open-source notification infrastructure wi...   \n",
       "23          apitable /  🚀🎉📚 APITable, an API-oriented low-code platfor...   \n",
       "24         ververica /                   CDC Connectors for Apache Flink®   \n",
       "25        lllyasviel /                  Focus on prompting and generating   \n",
       "\n",
       "   Contributors Count  \n",
       "1                   2  \n",
       "2                 271  \n",
       "3                   2  \n",
       "4                 191  \n",
       "5                   5  \n",
       "6                  16  \n",
       "7                   8  \n",
       "8                   8  \n",
       "9                  29  \n",
       "10                  4  \n",
       "11                  1  \n",
       "12                  1  \n",
       "13                  1  \n",
       "14                  6  \n",
       "15                  1  \n",
       "16                  1  \n",
       "17                109  \n",
       "18                 17  \n",
       "19                  1  \n",
       "20                258  \n",
       "21                149  \n",
       "22                  8  \n",
       "23                 62  \n",
       "24                101  \n",
       "25                  3  "
      ]
     },
     "execution_count": 47,
     "metadata": {},
     "output_type": "execute_result"
    }
   ],
   "source": [
    "dfg=pd.DataFrame({'Repository Name':Repository_name,'Repository Description':Repository_description,'Contributors Count':Contributors_count})\n",
    "dfg.index=range(1,len(dfg)+1)\n",
    "dfg"
   ]
  },
  {
   "cell_type": "markdown",
   "id": "474343b8",
   "metadata": {},
   "source": [
    "5. Scrape the details of top 100 songs on billiboard.com. Url = https:/www.billboard.com/\n",
    "\n",
    "You have to find the following details: \n",
    "\n",
    "A) Song name                                                                 \n",
    "B) Artist name                                       \n",
    "C) Last week rank                                   \n",
    "D) Peak rank                                \n",
    "E) Weeks on board                        \n",
    "Note: - From the home page you have to click on the charts option then hot 100-page link through code."
   ]
  },
  {
   "cell_type": "code",
   "execution_count": 48,
   "id": "3e703701",
   "metadata": {},
   "outputs": [],
   "source": [
    "driver=webdriver.Chrome()"
   ]
  },
  {
   "cell_type": "code",
   "execution_count": 49,
   "id": "01a41731",
   "metadata": {},
   "outputs": [],
   "source": [
    "driver.get('https://www.billboard.com/')"
   ]
  },
  {
   "cell_type": "code",
   "execution_count": 57,
   "id": "9f4996e5",
   "metadata": {
    "scrolled": true
   },
   "outputs": [],
   "source": [
    "drop_down_menu=driver.find_element(By.XPATH,'/html/body/div[3]/header/div/div[3]/div/nav/ul/li[2]/a')\n",
    "drop_down_menu.click()"
   ]
  },
  {
   "cell_type": "code",
   "execution_count": 59,
   "id": "4d738bbb",
   "metadata": {},
   "outputs": [],
   "source": [
    "charts_plus_button=driver.find_element(By.XPATH,'/html/body/div[3]/header/div/div[3]/div/nav/ul/li[2]/a')\n",
    "charts_plus_button.click()"
   ]
  },
  {
   "cell_type": "code",
   "execution_count": 61,
   "id": "7d411990",
   "metadata": {},
   "outputs": [],
   "source": [
    "charts_100_button=driver.find_element(By.XPATH,'/html/body/div[3]/main/div[2]/div[1]/div[1]/div/div/div[3]/a')\n",
    "charts_100_button.click()"
   ]
  },
  {
   "cell_type": "code",
   "execution_count": 66,
   "id": "c330a455",
   "metadata": {},
   "outputs": [
    {
     "data": {
      "text/plain": [
       "100"
      ]
     },
     "execution_count": 66,
     "metadata": {},
     "output_type": "execute_result"
    }
   ],
   "source": [
    "Song_name=[]\n",
    "try:\n",
    "    for i in driver.find_elements(By.XPATH,'//li[@class=\"lrv-u-width-100p\"]/ul/li/h3'):\n",
    "        Song_name.append(i.text)\n",
    "except NoSuchElementException:\n",
    "    Song_name.append('-')\n",
    "    time.sleep(5)\n",
    "    \n",
    "len(Song_name)"
   ]
  },
  {
   "cell_type": "code",
   "execution_count": 71,
   "id": "51cff6ac",
   "metadata": {},
   "outputs": [
    {
     "data": {
      "text/plain": [
       "400"
      ]
     },
     "execution_count": 71,
     "metadata": {},
     "output_type": "execute_result"
    }
   ],
   "source": [
    "Artist_name=[]\n",
    "try:\n",
    "    for i in driver.find_elements(By.XPATH,'//li[@class=\"lrv-u-width-100p\"]/ul/li/span'):\n",
    "        Artist_name.append(i.text)\n",
    "except NoSuchElementException:\n",
    "    Artist_name.append('-')\n",
    "    time.sleep(5)\n",
    "len(Artist_name)"
   ]
  },
  {
   "cell_type": "code",
   "execution_count": 73,
   "id": "eb9d54fe",
   "metadata": {},
   "outputs": [
    {
     "data": {
      "text/plain": [
       "100"
      ]
     },
     "execution_count": 73,
     "metadata": {},
     "output_type": "execute_result"
    }
   ],
   "source": [
    "Artist_name=Artist_name[0:-1:4]\n",
    "len(Artist_name)"
   ]
  },
  {
   "cell_type": "code",
   "execution_count": 74,
   "id": "6c70d637",
   "metadata": {},
   "outputs": [
    {
     "data": {
      "text/plain": [
       "100"
      ]
     },
     "execution_count": 74,
     "metadata": {},
     "output_type": "execute_result"
    }
   ],
   "source": [
    "Peak_rank=[]\n",
    "try:\n",
    "    for i in driver.find_elements(By.XPATH,'//span[@class=\"c-label  a-font-primary-bold-l u-font-size-32@tablet u-letter-spacing-0080@tablet\"]'):\n",
    "        Peak_rank.append(i.text)\n",
    "except NoSuchElementException:\n",
    "    Peak_rank.append('-')\n",
    "    time.sleep(5)  \n",
    "len(Peak_rank)"
   ]
  },
  {
   "cell_type": "code",
   "execution_count": 75,
   "id": "a52a840f",
   "metadata": {},
   "outputs": [
    {
     "data": {
      "text/plain": [
       "200"
      ]
     },
     "execution_count": 75,
     "metadata": {},
     "output_type": "execute_result"
    }
   ],
   "source": [
    "Last_week_rank=[]\n",
    "try:\n",
    "    for i in driver.find_elements(By.XPATH,'//li[@class=\"o-chart-results-list__item // a-chart-color u-width-72 u-width-55@mobile-max u-width-55@tablet-only lrv-u-flex lrv-u-flex-shrink-0 lrv-u-align-items-center lrv-u-justify-content-center lrv-u-border-b-1 u-border-b-0@mobile-max lrv-u-border-color-grey-light u-background-color-white-064@mobile-max u-hidden@mobile-max\"]/span'):\n",
    "        Last_week_rank.append(i.text)\n",
    "except NoSuchElementException:\n",
    "    Last_week_rank.append('-')\n",
    "    time.sleep(5)\n",
    "len(Last_week_rank)"
   ]
  },
  {
   "cell_type": "code",
   "execution_count": 77,
   "id": "d36071b0",
   "metadata": {},
   "outputs": [
    {
     "data": {
      "text/plain": [
       "100"
      ]
     },
     "execution_count": 77,
     "metadata": {},
     "output_type": "execute_result"
    }
   ],
   "source": [
    "Last_week_rank=Last_week_rank[0:-1:2]\n",
    "len(Last_week_rank)"
   ]
  },
  {
   "cell_type": "code",
   "execution_count": 79,
   "id": "7c9f224c",
   "metadata": {},
   "outputs": [
    {
     "data": {
      "text/plain": [
       "200"
      ]
     },
     "execution_count": 79,
     "metadata": {},
     "output_type": "execute_result"
    }
   ],
   "source": [
    "Weeks_on_board=[]\n",
    "try:\n",
    "    for i in driver.find_elements(By.XPATH,'//li[@class=\"o-chart-results-list__item // a-chart-color u-width-72 u-width-55@mobile-max u-width-55@tablet-only lrv-u-flex lrv-u-flex-shrink-0 lrv-u-align-items-center lrv-u-justify-content-center lrv-u-border-b-1 u-border-b-0@mobile-max lrv-u-border-color-grey-light u-background-color-white-064@mobile-max u-hidden@mobile-max\"]/span'):\n",
    "        Weeks_on_board.append(i.text)\n",
    "except NoSuchElementException:\n",
    "    Weeks_on_board.append('-')\n",
    "    time.sleep(5)\n",
    "len(Weeks_on_board)"
   ]
  },
  {
   "cell_type": "code",
   "execution_count": 80,
   "id": "101729b3",
   "metadata": {},
   "outputs": [
    {
     "data": {
      "text/plain": [
       "100"
      ]
     },
     "execution_count": 80,
     "metadata": {},
     "output_type": "execute_result"
    }
   ],
   "source": [
    "Weeks_on_board=Weeks_on_board[1:400:2]\n",
    "len(Weeks_on_board)"
   ]
  },
  {
   "cell_type": "code",
   "execution_count": 81,
   "id": "e135f5cb",
   "metadata": {},
   "outputs": [
    {
     "data": {
      "text/html": [
       "<div>\n",
       "<style scoped>\n",
       "    .dataframe tbody tr th:only-of-type {\n",
       "        vertical-align: middle;\n",
       "    }\n",
       "\n",
       "    .dataframe tbody tr th {\n",
       "        vertical-align: top;\n",
       "    }\n",
       "\n",
       "    .dataframe thead th {\n",
       "        text-align: right;\n",
       "    }\n",
       "</style>\n",
       "<table border=\"1\" class=\"dataframe\">\n",
       "  <thead>\n",
       "    <tr style=\"text-align: right;\">\n",
       "      <th></th>\n",
       "      <th>Song_name</th>\n",
       "      <th>Artist_name</th>\n",
       "      <th>Peak_rank</th>\n",
       "      <th>Last_week_rank</th>\n",
       "      <th>Weeks_on_board</th>\n",
       "    </tr>\n",
       "  </thead>\n",
       "  <tbody>\n",
       "    <tr>\n",
       "      <th>1</th>\n",
       "      <td>Last Night</td>\n",
       "      <td>Morgan Wallen</td>\n",
       "      <td>1</td>\n",
       "      <td>1</td>\n",
       "      <td>28</td>\n",
       "    </tr>\n",
       "    <tr>\n",
       "      <th>2</th>\n",
       "      <td>Fast Car</td>\n",
       "      <td>Luke Combs</td>\n",
       "      <td>2</td>\n",
       "      <td>2</td>\n",
       "      <td>20</td>\n",
       "    </tr>\n",
       "    <tr>\n",
       "      <th>3</th>\n",
       "      <td>Cruel Summer</td>\n",
       "      <td>Taylor Swift</td>\n",
       "      <td>3</td>\n",
       "      <td>4</td>\n",
       "      <td>14</td>\n",
       "    </tr>\n",
       "    <tr>\n",
       "      <th>4</th>\n",
       "      <td>Calm Down</td>\n",
       "      <td>Rema &amp; Selena Gomez</td>\n",
       "      <td>4</td>\n",
       "      <td>6</td>\n",
       "      <td>49</td>\n",
       "    </tr>\n",
       "    <tr>\n",
       "      <th>5</th>\n",
       "      <td>Fukumean</td>\n",
       "      <td>Gunna</td>\n",
       "      <td>5</td>\n",
       "      <td>7</td>\n",
       "      <td>8</td>\n",
       "    </tr>\n",
       "    <tr>\n",
       "      <th>...</th>\n",
       "      <td>...</td>\n",
       "      <td>...</td>\n",
       "      <td>...</td>\n",
       "      <td>...</td>\n",
       "      <td>...</td>\n",
       "    </tr>\n",
       "    <tr>\n",
       "      <th>96</th>\n",
       "      <td>Lagunas</td>\n",
       "      <td>Peso Pluma &amp; Jasiel Nunez</td>\n",
       "      <td>96</td>\n",
       "      <td>-</td>\n",
       "      <td>6</td>\n",
       "    </tr>\n",
       "    <tr>\n",
       "      <th>97</th>\n",
       "      <td>Overdrive</td>\n",
       "      <td>Post Malone</td>\n",
       "      <td>97</td>\n",
       "      <td>68</td>\n",
       "      <td>3</td>\n",
       "    </tr>\n",
       "    <tr>\n",
       "      <th>98</th>\n",
       "      <td>Bzrp Music Sessions, Vol. 55</td>\n",
       "      <td>Bizarrap &amp; Peso Pluma</td>\n",
       "      <td>98</td>\n",
       "      <td>99</td>\n",
       "      <td>10</td>\n",
       "    </tr>\n",
       "    <tr>\n",
       "      <th>99</th>\n",
       "      <td>Dawns</td>\n",
       "      <td>Zach Bryan Featuring Maggie Rogers</td>\n",
       "      <td>99</td>\n",
       "      <td>-</td>\n",
       "      <td>15</td>\n",
       "    </tr>\n",
       "    <tr>\n",
       "      <th>100</th>\n",
       "      <td>Rubicon</td>\n",
       "      <td>Peso Pluma</td>\n",
       "      <td>100</td>\n",
       "      <td>-</td>\n",
       "      <td>6</td>\n",
       "    </tr>\n",
       "  </tbody>\n",
       "</table>\n",
       "<p>100 rows × 5 columns</p>\n",
       "</div>"
      ],
      "text/plain": [
       "                        Song_name                         Artist_name  \\\n",
       "1                      Last Night                       Morgan Wallen   \n",
       "2                        Fast Car                          Luke Combs   \n",
       "3                    Cruel Summer                        Taylor Swift   \n",
       "4                       Calm Down                 Rema & Selena Gomez   \n",
       "5                        Fukumean                               Gunna   \n",
       "..                            ...                                 ...   \n",
       "96                        Lagunas           Peso Pluma & Jasiel Nunez   \n",
       "97                      Overdrive                         Post Malone   \n",
       "98   Bzrp Music Sessions, Vol. 55               Bizarrap & Peso Pluma   \n",
       "99                          Dawns  Zach Bryan Featuring Maggie Rogers   \n",
       "100                       Rubicon                          Peso Pluma   \n",
       "\n",
       "    Peak_rank Last_week_rank Weeks_on_board  \n",
       "1           1              1             28  \n",
       "2           2              2             20  \n",
       "3           3              4             14  \n",
       "4           4              6             49  \n",
       "5           5              7              8  \n",
       "..        ...            ...            ...  \n",
       "96         96              -              6  \n",
       "97         97             68              3  \n",
       "98         98             99             10  \n",
       "99         99              -             15  \n",
       "100       100              -              6  \n",
       "\n",
       "[100 rows x 5 columns]"
      ]
     },
     "execution_count": 81,
     "metadata": {},
     "output_type": "execute_result"
    }
   ],
   "source": [
    "dfsong=pd.DataFrame({\"Song_name\":Song_name,\"Artist_name\":Artist_name,\"Peak_rank\":Peak_rank,\"Last_week_rank\":Last_week_rank,\"Weeks_on_board\":Weeks_on_board})\n",
    "dfsong.index=range(1,len(dfsong)+1)\n",
    "dfsong"
   ]
  },
  {
   "cell_type": "code",
   "execution_count": null,
   "id": "81e2edd6",
   "metadata": {},
   "outputs": [],
   "source": []
  },
  {
   "cell_type": "markdown",
   "id": "a5e3bf30",
   "metadata": {},
   "source": [
    "Url = https://www.theguardian.com/news/datablog/2012/aug/09/best-selling-books-all-time-fifty-shades-grey-                           \n",
    "\n",
    "You have to find the following details:\n",
    "\n",
    "6. Scrape the details of Highest selling novels. \n",
    "compare                            \n",
    "A) Book name                                     \n",
    "B) Author name                                                               \n",
    "C) Volumes sold                                               \n",
    "D) Publisher                                            \n",
    "E) Genre                                 \n",
    "    "
   ]
  },
  {
   "cell_type": "code",
   "execution_count": 82,
   "id": "60aa0f49",
   "metadata": {},
   "outputs": [],
   "source": [
    "driver=webdriver.Chrome()"
   ]
  },
  {
   "cell_type": "code",
   "execution_count": 83,
   "id": "2cf706be",
   "metadata": {},
   "outputs": [],
   "source": [
    "driver.get('https://www.theguardian.com/news/datablog/2012/aug/09/best-selling-books-all-time-fifty-shades-grey-compare')"
   ]
  },
  {
   "cell_type": "code",
   "execution_count": 107,
   "id": "8e0b1b2e",
   "metadata": {},
   "outputs": [
    {
     "data": {
      "text/plain": [
       "100"
      ]
     },
     "execution_count": 107,
     "metadata": {},
     "output_type": "execute_result"
    }
   ],
   "source": [
    "Book_name=[]\n",
    "try:\n",
    "    for i in driver.find_elements(By.XPATH,'//table[@class=\"in-article sortable\"]//tbody//tr//td[2]'):\n",
    "        Book_name.append(i.text)\n",
    "except NoSuchElementException:\n",
    "    Book_name.append('-')\n",
    "    time.sleep(5)\n",
    "len(Book_name)"
   ]
  },
  {
   "cell_type": "code",
   "execution_count": 102,
   "id": "f015a7ba",
   "metadata": {},
   "outputs": [
    {
     "data": {
      "text/plain": [
       "100"
      ]
     },
     "execution_count": 102,
     "metadata": {},
     "output_type": "execute_result"
    }
   ],
   "source": [
    "Author_name=[]\n",
    "try:\n",
    "    for i in driver.find_elements(By.XPATH,'//table[@class=\"in-article sortable\"]//tbody//tr//td[3]'):\n",
    "        Author_name.append(i.text)\n",
    "except NoSuchElementException:\n",
    "    Author_name.append('-')\n",
    "    time.sleep(5)\n",
    "len(Author_name)"
   ]
  },
  {
   "cell_type": "code",
   "execution_count": 108,
   "id": "9e9eaf0e",
   "metadata": {},
   "outputs": [
    {
     "data": {
      "text/plain": [
       "100"
      ]
     },
     "execution_count": 108,
     "metadata": {},
     "output_type": "execute_result"
    }
   ],
   "source": [
    "Volumes_sold=[]\n",
    "try:\n",
    "    for i in driver.find_elements(By.XPATH,'//table[@class=\"in-article sortable\"]//tbody//tr//td[4]'):\n",
    "        Volumes_sold.append(i.text)\n",
    "except NoSuchElementException:\n",
    "    Volumes_sold.append('-')\n",
    "    time.sleep(5)\n",
    "    \n",
    "len(Volumes_sold)"
   ]
  },
  {
   "cell_type": "code",
   "execution_count": 109,
   "id": "1e90ee3b",
   "metadata": {},
   "outputs": [
    {
     "data": {
      "text/plain": [
       "100"
      ]
     },
     "execution_count": 109,
     "metadata": {},
     "output_type": "execute_result"
    }
   ],
   "source": [
    "Publisher=[]\n",
    "try:\n",
    "    for i in driver.find_elements(By.XPATH,'//table[@class=\"in-article sortable\"]//tbody//tr//td[5]'):\n",
    "        Publisher.append(i.text)\n",
    "except NoSuchElementException:\n",
    "    Publisher.append('-')\n",
    "    time.sleep(5)\n",
    "len(Publisher)"
   ]
  },
  {
   "cell_type": "code",
   "execution_count": 110,
   "id": "fd3e294a",
   "metadata": {},
   "outputs": [
    {
     "data": {
      "text/plain": [
       "100"
      ]
     },
     "execution_count": 110,
     "metadata": {},
     "output_type": "execute_result"
    }
   ],
   "source": [
    "Genre=[]\n",
    "try:\n",
    "    for i in driver.find_elements(By.XPATH,'//table[@class=\"in-article sortable\"]//tbody//tr//td[6]'):\n",
    "        Genre.append(i.text)\n",
    "except NoSuchElementException:\n",
    "    Genre.append('-')\n",
    "    time.sleep(5)\n",
    "    \n",
    "len(Genre)"
   ]
  },
  {
   "cell_type": "code",
   "execution_count": 111,
   "id": "f25595ec",
   "metadata": {},
   "outputs": [
    {
     "data": {
      "text/html": [
       "<div>\n",
       "<style scoped>\n",
       "    .dataframe tbody tr th:only-of-type {\n",
       "        vertical-align: middle;\n",
       "    }\n",
       "\n",
       "    .dataframe tbody tr th {\n",
       "        vertical-align: top;\n",
       "    }\n",
       "\n",
       "    .dataframe thead th {\n",
       "        text-align: right;\n",
       "    }\n",
       "</style>\n",
       "<table border=\"1\" class=\"dataframe\">\n",
       "  <thead>\n",
       "    <tr style=\"text-align: right;\">\n",
       "      <th></th>\n",
       "      <th>Book_name</th>\n",
       "      <th>Author_name</th>\n",
       "      <th>Volumes_sold</th>\n",
       "      <th>Publisher</th>\n",
       "      <th>Genre</th>\n",
       "    </tr>\n",
       "  </thead>\n",
       "  <tbody>\n",
       "    <tr>\n",
       "      <th>1</th>\n",
       "      <td>Da Vinci Code,The</td>\n",
       "      <td>Brown, Dan</td>\n",
       "      <td>5,094,805</td>\n",
       "      <td>Transworld</td>\n",
       "      <td>Crime, Thriller &amp; Adventure</td>\n",
       "    </tr>\n",
       "    <tr>\n",
       "      <th>2</th>\n",
       "      <td>Harry Potter and the Deathly Hallows</td>\n",
       "      <td>Rowling, J.K.</td>\n",
       "      <td>4,475,152</td>\n",
       "      <td>Bloomsbury</td>\n",
       "      <td>Children's Fiction</td>\n",
       "    </tr>\n",
       "    <tr>\n",
       "      <th>3</th>\n",
       "      <td>Harry Potter and the Philosopher's Stone</td>\n",
       "      <td>Rowling, J.K.</td>\n",
       "      <td>4,200,654</td>\n",
       "      <td>Bloomsbury</td>\n",
       "      <td>Children's Fiction</td>\n",
       "    </tr>\n",
       "    <tr>\n",
       "      <th>4</th>\n",
       "      <td>Harry Potter and the Order of the Phoenix</td>\n",
       "      <td>Rowling, J.K.</td>\n",
       "      <td>4,179,479</td>\n",
       "      <td>Bloomsbury</td>\n",
       "      <td>Children's Fiction</td>\n",
       "    </tr>\n",
       "    <tr>\n",
       "      <th>5</th>\n",
       "      <td>Fifty Shades of Grey</td>\n",
       "      <td>James, E. L.</td>\n",
       "      <td>3,758,936</td>\n",
       "      <td>Random House</td>\n",
       "      <td>Romance &amp; Sagas</td>\n",
       "    </tr>\n",
       "    <tr>\n",
       "      <th>...</th>\n",
       "      <td>...</td>\n",
       "      <td>...</td>\n",
       "      <td>...</td>\n",
       "      <td>...</td>\n",
       "      <td>...</td>\n",
       "    </tr>\n",
       "    <tr>\n",
       "      <th>96</th>\n",
       "      <td>Ghost,The</td>\n",
       "      <td>Harris, Robert</td>\n",
       "      <td>807,311</td>\n",
       "      <td>Random House</td>\n",
       "      <td>General &amp; Literary Fiction</td>\n",
       "    </tr>\n",
       "    <tr>\n",
       "      <th>97</th>\n",
       "      <td>Happy Days with the Naked Chef</td>\n",
       "      <td>Oliver, Jamie</td>\n",
       "      <td>794,201</td>\n",
       "      <td>Penguin</td>\n",
       "      <td>Food &amp; Drink: General</td>\n",
       "    </tr>\n",
       "    <tr>\n",
       "      <th>98</th>\n",
       "      <td>Hunger Games,The:Hunger Games Trilogy</td>\n",
       "      <td>Collins, Suzanne</td>\n",
       "      <td>792,187</td>\n",
       "      <td>Scholastic Ltd.</td>\n",
       "      <td>Young Adult Fiction</td>\n",
       "    </tr>\n",
       "    <tr>\n",
       "      <th>99</th>\n",
       "      <td>Lost Boy,The:A Foster Child's Search for the L...</td>\n",
       "      <td>Pelzer, Dave</td>\n",
       "      <td>791,507</td>\n",
       "      <td>Orion</td>\n",
       "      <td>Biography: General</td>\n",
       "    </tr>\n",
       "    <tr>\n",
       "      <th>100</th>\n",
       "      <td>Jamie's Ministry of Food:Anyone Can Learn to C...</td>\n",
       "      <td>Oliver, Jamie</td>\n",
       "      <td>791,095</td>\n",
       "      <td>Penguin</td>\n",
       "      <td>Food &amp; Drink: General</td>\n",
       "    </tr>\n",
       "  </tbody>\n",
       "</table>\n",
       "<p>100 rows × 5 columns</p>\n",
       "</div>"
      ],
      "text/plain": [
       "                                             Book_name       Author_name  \\\n",
       "1                                    Da Vinci Code,The        Brown, Dan   \n",
       "2                 Harry Potter and the Deathly Hallows     Rowling, J.K.   \n",
       "3             Harry Potter and the Philosopher's Stone     Rowling, J.K.   \n",
       "4            Harry Potter and the Order of the Phoenix     Rowling, J.K.   \n",
       "5                                 Fifty Shades of Grey      James, E. L.   \n",
       "..                                                 ...               ...   \n",
       "96                                           Ghost,The    Harris, Robert   \n",
       "97                      Happy Days with the Naked Chef     Oliver, Jamie   \n",
       "98               Hunger Games,The:Hunger Games Trilogy  Collins, Suzanne   \n",
       "99   Lost Boy,The:A Foster Child's Search for the L...      Pelzer, Dave   \n",
       "100  Jamie's Ministry of Food:Anyone Can Learn to C...     Oliver, Jamie   \n",
       "\n",
       "    Volumes_sold        Publisher                        Genre  \n",
       "1      5,094,805       Transworld  Crime, Thriller & Adventure  \n",
       "2      4,475,152       Bloomsbury           Children's Fiction  \n",
       "3      4,200,654       Bloomsbury           Children's Fiction  \n",
       "4      4,179,479       Bloomsbury           Children's Fiction  \n",
       "5      3,758,936     Random House              Romance & Sagas  \n",
       "..           ...              ...                          ...  \n",
       "96       807,311     Random House   General & Literary Fiction  \n",
       "97       794,201          Penguin        Food & Drink: General  \n",
       "98       792,187  Scholastic Ltd.          Young Adult Fiction  \n",
       "99       791,507            Orion           Biography: General  \n",
       "100      791,095          Penguin        Food & Drink: General  \n",
       "\n",
       "[100 rows x 5 columns]"
      ]
     },
     "execution_count": 111,
     "metadata": {},
     "output_type": "execute_result"
    }
   ],
   "source": [
    "dfbook=pd.DataFrame({'Book_name':Book_name,\"Author_name\":Author_name,\"Volumes_sold\":Volumes_sold,\"Publisher\":Publisher,\"Genre\":Genre})\n",
    "dfbook.index=range(1,len(dfbook)+1)\n",
    "dfbook\n"
   ]
  },
  {
   "cell_type": "code",
   "execution_count": 112,
   "id": "7f829bec",
   "metadata": {},
   "outputs": [],
   "source": [
    "driver.close()"
   ]
  },
  {
   "cell_type": "markdown",
   "id": "7b679314",
   "metadata": {},
   "source": [
    "7. Scrape the details most watched tv series of all time from imdb.com. \n",
    "Url = https://www.imdb.com/list/ls095964455/ \n",
    "    \n",
    "You have to find the following details:                                        \n",
    "A) Name                                     \n",
    "B) Year span                                \n",
    "C) Genre                                   \n",
    "D) Run time                                     \n",
    "E) Ratings                        \n",
    "F) Votes                             "
   ]
  },
  {
   "cell_type": "code",
   "execution_count": 73,
   "id": "8535558b",
   "metadata": {},
   "outputs": [],
   "source": [
    "driver=webdriver.Chrome()"
   ]
  },
  {
   "cell_type": "code",
   "execution_count": 74,
   "id": "b34dd53c",
   "metadata": {},
   "outputs": [],
   "source": [
    "driver.get('https://www.imdb.com/list/ls095964455/')"
   ]
  },
  {
   "cell_type": "code",
   "execution_count": 75,
   "id": "e273b212",
   "metadata": {},
   "outputs": [
    {
     "data": {
      "text/plain": [
       "100"
      ]
     },
     "execution_count": 75,
     "metadata": {},
     "output_type": "execute_result"
    }
   ],
   "source": [
    "Name=[]\n",
    "try:\n",
    "    for i in driver.find_elements(By.XPATH,\"//h3[@class='lister-item-header']//a\"):\n",
    "        Name.append(i.text)\n",
    "except NoSuchElementException:\n",
    "    Name.append('-')\n",
    "    time.sleep(5)\n",
    "    \n",
    "len(Name)\n",
    "   \n"
   ]
  },
  {
   "cell_type": "code",
   "execution_count": 76,
   "id": "9829e3c5",
   "metadata": {},
   "outputs": [
    {
     "data": {
      "text/plain": [
       "100"
      ]
     },
     "execution_count": 76,
     "metadata": {},
     "output_type": "execute_result"
    }
   ],
   "source": [
    "Year_span=[]\n",
    "try:\n",
    "    for i in driver.find_elements(By.XPATH,'//span[@class=\"lister-item-year text-muted unbold\"]'):\n",
    "        Year_span.append(i.text)\n",
    "except NoSuchElementException:\n",
    "    Year_span.append('-')\n",
    "    time.sleep(5)\n",
    "    \n",
    "len(Year_span)\n"
   ]
  },
  {
   "cell_type": "code",
   "execution_count": 77,
   "id": "03229dd6",
   "metadata": {},
   "outputs": [
    {
     "data": {
      "text/plain": [
       "100"
      ]
     },
     "execution_count": 77,
     "metadata": {},
     "output_type": "execute_result"
    }
   ],
   "source": [
    "Genre=[]\n",
    "try:\n",
    "    for i in driver.find_elements(By.XPATH,'//span[@class=\"genre\"]'):\n",
    "        Genre.append(i.text)\n",
    "except NoSuchElementException:\n",
    "    Genre.append('-')\n",
    "    time.sleep(5)\n",
    "    \n",
    "len(Genre)\n"
   ]
  },
  {
   "cell_type": "code",
   "execution_count": 78,
   "id": "87f158e2",
   "metadata": {},
   "outputs": [
    {
     "data": {
      "text/plain": [
       "100"
      ]
     },
     "execution_count": 78,
     "metadata": {},
     "output_type": "execute_result"
    }
   ],
   "source": [
    "\n",
    "Run_time=[]\n",
    "try:\n",
    "    for i in driver.find_elements(By.XPATH,'//span[@class=\"runtime\"]'):\n",
    "        Run_time.append(i.text)\n",
    "except NoSuchElementException:\n",
    "    Run_time.append('-')\n",
    "    time.sleep(5)\n",
    "    \n",
    "len(Run_time)"
   ]
  },
  {
   "cell_type": "code",
   "execution_count": 79,
   "id": "d785338b",
   "metadata": {},
   "outputs": [
    {
     "data": {
      "text/plain": [
       "100"
      ]
     },
     "execution_count": 79,
     "metadata": {},
     "output_type": "execute_result"
    }
   ],
   "source": [
    "Ratings=[]\n",
    "try:\n",
    "    for i in driver.find_elements(By.XPATH,'//div[@class=\"ipl-rating-star small\"]//span[2]'):\n",
    "        Ratings.append(i.text)\n",
    "except NoSuchElementException:\n",
    "    Ratings.append('-')\n",
    "    time.sleep(5)\n",
    "    \n",
    "len(Ratings)"
   ]
  },
  {
   "cell_type": "code",
   "execution_count": 80,
   "id": "0ad5f87a",
   "metadata": {},
   "outputs": [
    {
     "data": {
      "text/plain": [
       "100"
      ]
     },
     "execution_count": 80,
     "metadata": {},
     "output_type": "execute_result"
    }
   ],
   "source": [
    "Vote=[]\n",
    "try:\n",
    "    for i in driver.find_elements(By.XPATH,'//span[@name=\"nv\"]'):\n",
    "        Vote.append(i.text)\n",
    "except NoSuchElementException:\n",
    "    Vote.append('-')\n",
    "    time.sleep(5)\n",
    "    \n",
    "len(Vote)"
   ]
  },
  {
   "cell_type": "code",
   "execution_count": 81,
   "id": "05e17934",
   "metadata": {},
   "outputs": [
    {
     "data": {
      "text/html": [
       "<div>\n",
       "<style scoped>\n",
       "    .dataframe tbody tr th:only-of-type {\n",
       "        vertical-align: middle;\n",
       "    }\n",
       "\n",
       "    .dataframe tbody tr th {\n",
       "        vertical-align: top;\n",
       "    }\n",
       "\n",
       "    .dataframe thead th {\n",
       "        text-align: right;\n",
       "    }\n",
       "</style>\n",
       "<table border=\"1\" class=\"dataframe\">\n",
       "  <thead>\n",
       "    <tr style=\"text-align: right;\">\n",
       "      <th></th>\n",
       "      <th>Name</th>\n",
       "      <th>Year_span</th>\n",
       "      <th>Genre</th>\n",
       "      <th>Run_time</th>\n",
       "      <th>Ratings</th>\n",
       "      <th>Vote</th>\n",
       "    </tr>\n",
       "  </thead>\n",
       "  <tbody>\n",
       "    <tr>\n",
       "      <th>1</th>\n",
       "      <td>Game of Thrones</td>\n",
       "      <td>(2011–2019)</td>\n",
       "      <td>Action, Adventure, Drama</td>\n",
       "      <td>57 min</td>\n",
       "      <td>9.2</td>\n",
       "      <td>2,192,840</td>\n",
       "    </tr>\n",
       "    <tr>\n",
       "      <th>2</th>\n",
       "      <td>Stranger Things</td>\n",
       "      <td>(2016–2024)</td>\n",
       "      <td>Drama, Fantasy, Horror</td>\n",
       "      <td>51 min</td>\n",
       "      <td>8.7</td>\n",
       "      <td>1,266,630</td>\n",
       "    </tr>\n",
       "    <tr>\n",
       "      <th>3</th>\n",
       "      <td>The Walking Dead</td>\n",
       "      <td>(2010–2022)</td>\n",
       "      <td>Drama, Horror, Thriller</td>\n",
       "      <td>44 min</td>\n",
       "      <td>8.1</td>\n",
       "      <td>1,040,860</td>\n",
       "    </tr>\n",
       "    <tr>\n",
       "      <th>4</th>\n",
       "      <td>13 Reasons Why</td>\n",
       "      <td>(2017–2020)</td>\n",
       "      <td>Drama, Mystery, Thriller</td>\n",
       "      <td>60 min</td>\n",
       "      <td>7.5</td>\n",
       "      <td>305,931</td>\n",
       "    </tr>\n",
       "    <tr>\n",
       "      <th>5</th>\n",
       "      <td>The 100</td>\n",
       "      <td>(2014–2020)</td>\n",
       "      <td>Drama, Mystery, Sci-Fi</td>\n",
       "      <td>43 min</td>\n",
       "      <td>7.6</td>\n",
       "      <td>265,002</td>\n",
       "    </tr>\n",
       "    <tr>\n",
       "      <th>...</th>\n",
       "      <td>...</td>\n",
       "      <td>...</td>\n",
       "      <td>...</td>\n",
       "      <td>...</td>\n",
       "      <td>...</td>\n",
       "      <td>...</td>\n",
       "    </tr>\n",
       "    <tr>\n",
       "      <th>96</th>\n",
       "      <td>Reign</td>\n",
       "      <td>(2013–2017)</td>\n",
       "      <td>Drama</td>\n",
       "      <td>42 min</td>\n",
       "      <td>7.5</td>\n",
       "      <td>52,416</td>\n",
       "    </tr>\n",
       "    <tr>\n",
       "      <th>97</th>\n",
       "      <td>A Series of Unfortunate Events</td>\n",
       "      <td>(2017–2019)</td>\n",
       "      <td>Adventure, Comedy, Drama</td>\n",
       "      <td>50 min</td>\n",
       "      <td>7.8</td>\n",
       "      <td>64,448</td>\n",
       "    </tr>\n",
       "    <tr>\n",
       "      <th>98</th>\n",
       "      <td>Criminal Minds</td>\n",
       "      <td>(2005– )</td>\n",
       "      <td>Crime, Drama, Mystery</td>\n",
       "      <td>42 min</td>\n",
       "      <td>8.1</td>\n",
       "      <td>210,076</td>\n",
       "    </tr>\n",
       "    <tr>\n",
       "      <th>99</th>\n",
       "      <td>Scream: The TV Series</td>\n",
       "      <td>(2015–2019)</td>\n",
       "      <td>Comedy, Crime, Drama</td>\n",
       "      <td>45 min</td>\n",
       "      <td>7</td>\n",
       "      <td>43,678</td>\n",
       "    </tr>\n",
       "    <tr>\n",
       "      <th>100</th>\n",
       "      <td>The Haunting of Hill House</td>\n",
       "      <td>(2018)</td>\n",
       "      <td>Drama, Horror, Mystery</td>\n",
       "      <td>572 min</td>\n",
       "      <td>8.6</td>\n",
       "      <td>263,614</td>\n",
       "    </tr>\n",
       "  </tbody>\n",
       "</table>\n",
       "<p>100 rows × 6 columns</p>\n",
       "</div>"
      ],
      "text/plain": [
       "                               Name    Year_span                     Genre  \\\n",
       "1                   Game of Thrones  (2011–2019)  Action, Adventure, Drama   \n",
       "2                   Stranger Things  (2016–2024)    Drama, Fantasy, Horror   \n",
       "3                  The Walking Dead  (2010–2022)   Drama, Horror, Thriller   \n",
       "4                    13 Reasons Why  (2017–2020)  Drama, Mystery, Thriller   \n",
       "5                           The 100  (2014–2020)    Drama, Mystery, Sci-Fi   \n",
       "..                              ...          ...                       ...   \n",
       "96                            Reign  (2013–2017)                     Drama   \n",
       "97   A Series of Unfortunate Events  (2017–2019)  Adventure, Comedy, Drama   \n",
       "98                   Criminal Minds     (2005– )     Crime, Drama, Mystery   \n",
       "99            Scream: The TV Series  (2015–2019)      Comedy, Crime, Drama   \n",
       "100      The Haunting of Hill House       (2018)    Drama, Horror, Mystery   \n",
       "\n",
       "    Run_time Ratings       Vote  \n",
       "1     57 min     9.2  2,192,840  \n",
       "2     51 min     8.7  1,266,630  \n",
       "3     44 min     8.1  1,040,860  \n",
       "4     60 min     7.5    305,931  \n",
       "5     43 min     7.6    265,002  \n",
       "..       ...     ...        ...  \n",
       "96    42 min     7.5     52,416  \n",
       "97    50 min     7.8     64,448  \n",
       "98    42 min     8.1    210,076  \n",
       "99    45 min       7     43,678  \n",
       "100  572 min     8.6    263,614  \n",
       "\n",
       "[100 rows x 6 columns]"
      ]
     },
     "execution_count": 81,
     "metadata": {},
     "output_type": "execute_result"
    }
   ],
   "source": [
    "dfs=pd.DataFrame({\"Name\":Name,\"Year_span\":Year_span,\"Genre\":Genre,\"Run_time\":Run_time,\"Ratings\":Ratings,\"Vote\":Vote})\n",
    "dfs.index=range(1,len(dfs)+1)\n",
    "dfs"
   ]
  },
  {
   "cell_type": "code",
   "execution_count": 82,
   "id": "45cd00db",
   "metadata": {},
   "outputs": [],
   "source": [
    "driver.close()"
   ]
  },
  {
   "cell_type": "markdown",
   "id": "fc142455",
   "metadata": {},
   "source": [
    "8. Details of Datasets from UCI machine learning repositories. \n",
    "Url = https://archive.ics.uci.edu/\n",
    "    \n",
    "You have to find the following details:                          \n",
    "A) Dataset name                                      \n",
    "B) Data type                              \n",
    "C) Task                              \n",
    "D) Attribute type                                \n",
    "E) No of instances                    \n",
    "F) No of attribute                                              \n",
    "G) Year                                                                          \n",
    "Note: - from the home page you have to go to the Show All Dataset page through code"
   ]
  },
  {
   "cell_type": "code",
   "execution_count": 92,
   "id": "5f7b1f62",
   "metadata": {},
   "outputs": [],
   "source": [
    "driver=webdriver.Chrome()"
   ]
  },
  {
   "cell_type": "code",
   "execution_count": 121,
   "id": "d9626a13",
   "metadata": {},
   "outputs": [],
   "source": [
    "driver.get('https://archive.ics.uci.edu/')"
   ]
  },
  {
   "cell_type": "code",
   "execution_count": 122,
   "id": "a05aa512",
   "metadata": {},
   "outputs": [],
   "source": [
    "see_all_datasets_button=driver.find_element(By.XPATH,'/html/body/div/div[1]/div[1]/main/div/div[2]/section[1]/div[2]/a').click()\n"
   ]
  },
  {
   "cell_type": "code",
   "execution_count": 113,
   "id": "55e1bcfb",
   "metadata": {},
   "outputs": [],
   "source": [
    "links=[]\n",
    "link=driver.find_elements(By.XPATH,'//a[@class=\"link-hover link text-xl font-semibold\"]')\n",
    "for i in link:\n",
    "    links.append(i.get_attribute('href'))"
   ]
  },
  {
   "cell_type": "code",
   "execution_count": 123,
   "id": "d2f79d90",
   "metadata": {},
   "outputs": [],
   "source": [
    "Dataset_name=[]\n",
    "dn=driver.find_elements(By.XPATH,'//a[@class=\"link-hover link text-xl font-semibold\"]')\n",
    "for i in dn:\n",
    "    Dataset_name.append(i.text)"
   ]
  },
  {
   "cell_type": "code",
   "execution_count": 124,
   "id": "ad09dc9d",
   "metadata": {},
   "outputs": [],
   "source": [
    "Data_type=[]\n",
    "Task=[]\n",
    "Attribute_type=[]\n",
    "Instances=[]\n",
    "Attributes=[]\n",
    "Year=[]\n",
    "for i in links:\n",
    "    driver.get(i)\n",
    "    try:\n",
    "        dt=driver.find_element(By.XPATH,'(//p[@class=\"text-md\"])[1]')\n",
    "        Data_type.append(dt.text)\n",
    "    except NoSuchElementException:\n",
    "        Data_type.append(\"-\")\n",
    "        \n",
    "    try:\n",
    "        t=driver.find_element(By.XPATH,'(//p[@class=\"text-md\"])[3]')\n",
    "        Task.append(t.text)\n",
    "    except NoSuchElementException:\n",
    "        Task.append(\"-\")\n",
    "        \n",
    "    try:\n",
    "        at=driver.find_element(By.XPATH,'(//p[@class=\"text-md\"])[4]')\n",
    "        Attribute_type.append(at.text)\n",
    "    except NoSuchElementException:\n",
    "        Attribute_type.append(\"-\")\n",
    "        \n",
    "    try:\n",
    "        instance=driver.find_element(By.XPATH,'(//p[@class=\"text-md\"])[5]')\n",
    "        Instances.append(instance.text)\n",
    "    except NoSuchElementException:\n",
    "        Instances.append(\"-\")\n",
    "        \n",
    "    try:\n",
    "        a=driver.find_element(By.XPATH,'(//p[@class=\"text-md\"])[6]')\n",
    "        Attributes.append(a.text)\n",
    "    except NoSuchElementException:\n",
    "        Attributes.append(\"-\")\n",
    "    \n",
    "    try:\n",
    "        y=driver.find_element(By.XPATH,'//h2[@class=\"text-primary-content\"]')\n",
    "        Year.append(y.text)\n",
    "    except NoSuchElementException:\n",
    "        Year.append(\"-\")"
   ]
  },
  {
   "cell_type": "code",
   "execution_count": 125,
   "id": "6e1ab5db",
   "metadata": {},
   "outputs": [
    {
     "data": {
      "text/plain": [
       "(25, 25, 25, 25, 25, 25, 25)"
      ]
     },
     "execution_count": 125,
     "metadata": {},
     "output_type": "execute_result"
    }
   ],
   "source": [
    "len(Dataset_name),len(Data_type),len(Task),len(Attribute_type),len(Instances),len(Attributes),len(Y)\n"
   ]
  },
  {
   "cell_type": "code",
   "execution_count": 127,
   "id": "7230d5c6",
   "metadata": {},
   "outputs": [
    {
     "data": {
      "text/html": [
       "<div>\n",
       "<style scoped>\n",
       "    .dataframe tbody tr th:only-of-type {\n",
       "        vertical-align: middle;\n",
       "    }\n",
       "\n",
       "    .dataframe tbody tr th {\n",
       "        vertical-align: top;\n",
       "    }\n",
       "\n",
       "    .dataframe thead th {\n",
       "        text-align: right;\n",
       "    }\n",
       "</style>\n",
       "<table border=\"1\" class=\"dataframe\">\n",
       "  <thead>\n",
       "    <tr style=\"text-align: right;\">\n",
       "      <th></th>\n",
       "      <th>Dataset Name</th>\n",
       "      <th>Data Type</th>\n",
       "      <th>Task</th>\n",
       "      <th>Attribute Type</th>\n",
       "      <th>Instances</th>\n",
       "      <th>Attributes</th>\n",
       "      <th>Year</th>\n",
       "    </tr>\n",
       "  </thead>\n",
       "  <tbody>\n",
       "    <tr>\n",
       "      <th>1</th>\n",
       "      <td>Iris</td>\n",
       "      <td>Multivariate</td>\n",
       "      <td>Classification</td>\n",
       "      <td>Real</td>\n",
       "      <td>150</td>\n",
       "      <td>4</td>\n",
       "      <td>Donated on 6/30/1988</td>\n",
       "    </tr>\n",
       "    <tr>\n",
       "      <th>2</th>\n",
       "      <td>Heart Disease</td>\n",
       "      <td>Multivariate</td>\n",
       "      <td>Classification</td>\n",
       "      <td>Categorical, Integer, Real</td>\n",
       "      <td>303</td>\n",
       "      <td>13</td>\n",
       "      <td>Donated on 6/30/1988</td>\n",
       "    </tr>\n",
       "    <tr>\n",
       "      <th>3</th>\n",
       "      <td>Adult</td>\n",
       "      <td>Multivariate</td>\n",
       "      <td>Classification</td>\n",
       "      <td>Categorical, Integer</td>\n",
       "      <td>48842</td>\n",
       "      <td>14</td>\n",
       "      <td>Donated on 4/30/1996</td>\n",
       "    </tr>\n",
       "    <tr>\n",
       "      <th>4</th>\n",
       "      <td>Dry Bean Dataset</td>\n",
       "      <td>Multivariate</td>\n",
       "      <td>Classification</td>\n",
       "      <td>Integer, Real</td>\n",
       "      <td>13611</td>\n",
       "      <td>16</td>\n",
       "      <td>Donated on 9/13/2020</td>\n",
       "    </tr>\n",
       "    <tr>\n",
       "      <th>5</th>\n",
       "      <td>Diabetes</td>\n",
       "      <td>Multivariate, Time-Series</td>\n",
       "      <td>Categorical, Integer</td>\n",
       "      <td>20</td>\n",
       "      <td>-</td>\n",
       "      <td>-</td>\n",
       "      <td>-</td>\n",
       "    </tr>\n",
       "    <tr>\n",
       "      <th>6</th>\n",
       "      <td>Wine</td>\n",
       "      <td>Multivariate</td>\n",
       "      <td>Classification</td>\n",
       "      <td>Integer, Real</td>\n",
       "      <td>178</td>\n",
       "      <td>13</td>\n",
       "      <td>Donated on 6/30/1991</td>\n",
       "    </tr>\n",
       "    <tr>\n",
       "      <th>7</th>\n",
       "      <td>Breast Cancer Wisconsin (Diagnostic)</td>\n",
       "      <td>Multivariate</td>\n",
       "      <td>Classification</td>\n",
       "      <td>Real</td>\n",
       "      <td>569</td>\n",
       "      <td>30</td>\n",
       "      <td>Donated on 10/31/1995</td>\n",
       "    </tr>\n",
       "    <tr>\n",
       "      <th>8</th>\n",
       "      <td>Rice (Cammeo and Osmancik)</td>\n",
       "      <td>Multivariate</td>\n",
       "      <td>Classification</td>\n",
       "      <td>Real</td>\n",
       "      <td>3810</td>\n",
       "      <td>8</td>\n",
       "      <td>Donated on 10/5/2019</td>\n",
       "    </tr>\n",
       "    <tr>\n",
       "      <th>9</th>\n",
       "      <td>Car Evaluation</td>\n",
       "      <td>Multivariate</td>\n",
       "      <td>Classification</td>\n",
       "      <td>Categorical</td>\n",
       "      <td>1728</td>\n",
       "      <td>6</td>\n",
       "      <td>Donated on 5/31/1997</td>\n",
       "    </tr>\n",
       "    <tr>\n",
       "      <th>10</th>\n",
       "      <td>Mushroom</td>\n",
       "      <td>Multivariate</td>\n",
       "      <td>Classification</td>\n",
       "      <td>Categorical</td>\n",
       "      <td>8124</td>\n",
       "      <td>22</td>\n",
       "      <td>Donated on 4/26/1987</td>\n",
       "    </tr>\n",
       "    <tr>\n",
       "      <th>11</th>\n",
       "      <td>Abalone</td>\n",
       "      <td>Multivariate</td>\n",
       "      <td>Classification</td>\n",
       "      <td>Categorical, Integer, Real</td>\n",
       "      <td>4177</td>\n",
       "      <td>8</td>\n",
       "      <td>Donated on 11/30/1995</td>\n",
       "    </tr>\n",
       "    <tr>\n",
       "      <th>12</th>\n",
       "      <td>Breast Cancer</td>\n",
       "      <td>Multivariate</td>\n",
       "      <td>Classification</td>\n",
       "      <td>Categorical</td>\n",
       "      <td>286</td>\n",
       "      <td>9</td>\n",
       "      <td>Donated on 7/10/1988</td>\n",
       "    </tr>\n",
       "    <tr>\n",
       "      <th>13</th>\n",
       "      <td>Statlog (German Credit Data)</td>\n",
       "      <td>Multivariate</td>\n",
       "      <td>Classification</td>\n",
       "      <td>Categorical, Integer</td>\n",
       "      <td>1000</td>\n",
       "      <td>20</td>\n",
       "      <td>Donated on 11/16/1994</td>\n",
       "    </tr>\n",
       "    <tr>\n",
       "      <th>14</th>\n",
       "      <td>Glass Identification</td>\n",
       "      <td>Multivariate</td>\n",
       "      <td>Classification</td>\n",
       "      <td>Real</td>\n",
       "      <td>214</td>\n",
       "      <td>9</td>\n",
       "      <td>Donated on 8/31/1987</td>\n",
       "    </tr>\n",
       "    <tr>\n",
       "      <th>15</th>\n",
       "      <td>Wine Quality</td>\n",
       "      <td>Multivariate</td>\n",
       "      <td>Classification, Regression</td>\n",
       "      <td>Real</td>\n",
       "      <td>4898</td>\n",
       "      <td>12</td>\n",
       "      <td>Donated on 10/6/2009</td>\n",
       "    </tr>\n",
       "    <tr>\n",
       "      <th>16</th>\n",
       "      <td>Census Income</td>\n",
       "      <td>Multivariate</td>\n",
       "      <td>Classification</td>\n",
       "      <td>Categorical, Integer</td>\n",
       "      <td>48842</td>\n",
       "      <td>14</td>\n",
       "      <td>Donated on 4/30/1996</td>\n",
       "    </tr>\n",
       "    <tr>\n",
       "      <th>17</th>\n",
       "      <td>Breast Cancer Wisconsin (Original)</td>\n",
       "      <td>Multivariate</td>\n",
       "      <td>Classification</td>\n",
       "      <td>Integer</td>\n",
       "      <td>699</td>\n",
       "      <td>9</td>\n",
       "      <td>Donated on 7/14/1992</td>\n",
       "    </tr>\n",
       "    <tr>\n",
       "      <th>18</th>\n",
       "      <td>Auto MPG</td>\n",
       "      <td>Multivariate</td>\n",
       "      <td>Regression</td>\n",
       "      <td>Real, Categorical, Integer</td>\n",
       "      <td>398</td>\n",
       "      <td>7</td>\n",
       "      <td>Donated on 7/6/1993</td>\n",
       "    </tr>\n",
       "    <tr>\n",
       "      <th>19</th>\n",
       "      <td>Thyroid Disease</td>\n",
       "      <td>Multivariate, Domain-Theory</td>\n",
       "      <td>Classification</td>\n",
       "      <td>Categorical, Real</td>\n",
       "      <td>7200</td>\n",
       "      <td>5</td>\n",
       "      <td>Donated on 12/31/1986</td>\n",
       "    </tr>\n",
       "    <tr>\n",
       "      <th>20</th>\n",
       "      <td>Automobile</td>\n",
       "      <td>Multivariate</td>\n",
       "      <td>Regression</td>\n",
       "      <td>Categorical, Integer, Real</td>\n",
       "      <td>205</td>\n",
       "      <td>25</td>\n",
       "      <td>Donated on 5/18/1987</td>\n",
       "    </tr>\n",
       "    <tr>\n",
       "      <th>21</th>\n",
       "      <td>Bank Marketing</td>\n",
       "      <td>Multivariate</td>\n",
       "      <td>Classification</td>\n",
       "      <td>Real</td>\n",
       "      <td>45211</td>\n",
       "      <td>17</td>\n",
       "      <td>Donated on 2/13/2012</td>\n",
       "    </tr>\n",
       "    <tr>\n",
       "      <th>22</th>\n",
       "      <td>Spambase</td>\n",
       "      <td>Multivariate</td>\n",
       "      <td>Classification</td>\n",
       "      <td>Integer, Real</td>\n",
       "      <td>4601</td>\n",
       "      <td>57</td>\n",
       "      <td>Donated on 6/30/1999</td>\n",
       "    </tr>\n",
       "    <tr>\n",
       "      <th>23</th>\n",
       "      <td>Predict students' dropout and academic success</td>\n",
       "      <td>Tabular</td>\n",
       "      <td>Classification</td>\n",
       "      <td>4424</td>\n",
       "      <td>36</td>\n",
       "      <td>-</td>\n",
       "      <td>Donated on 12/12/2021</td>\n",
       "    </tr>\n",
       "    <tr>\n",
       "      <th>24</th>\n",
       "      <td>Optical Recognition of Handwritten Digits</td>\n",
       "      <td>Multivariate</td>\n",
       "      <td>Classification</td>\n",
       "      <td>Integer</td>\n",
       "      <td>5620</td>\n",
       "      <td>64</td>\n",
       "      <td>Donated on 6/30/1998</td>\n",
       "    </tr>\n",
       "    <tr>\n",
       "      <th>25</th>\n",
       "      <td>Credit Approval</td>\n",
       "      <td>Multivariate</td>\n",
       "      <td>Classification</td>\n",
       "      <td>Categorical, Integer, Real</td>\n",
       "      <td>690</td>\n",
       "      <td>15</td>\n",
       "      <td>-</td>\n",
       "    </tr>\n",
       "  </tbody>\n",
       "</table>\n",
       "</div>"
      ],
      "text/plain": [
       "                                      Dataset Name  \\\n",
       "1                                             Iris   \n",
       "2                                    Heart Disease   \n",
       "3                                            Adult   \n",
       "4                                 Dry Bean Dataset   \n",
       "5                                         Diabetes   \n",
       "6                                             Wine   \n",
       "7             Breast Cancer Wisconsin (Diagnostic)   \n",
       "8                       Rice (Cammeo and Osmancik)   \n",
       "9                                   Car Evaluation   \n",
       "10                                        Mushroom   \n",
       "11                                         Abalone   \n",
       "12                                   Breast Cancer   \n",
       "13                    Statlog (German Credit Data)   \n",
       "14                            Glass Identification   \n",
       "15                                    Wine Quality   \n",
       "16                                   Census Income   \n",
       "17              Breast Cancer Wisconsin (Original)   \n",
       "18                                        Auto MPG   \n",
       "19                                 Thyroid Disease   \n",
       "20                                      Automobile   \n",
       "21                                  Bank Marketing   \n",
       "22                                        Spambase   \n",
       "23  Predict students' dropout and academic success   \n",
       "24       Optical Recognition of Handwritten Digits   \n",
       "25                                 Credit Approval   \n",
       "\n",
       "                      Data Type                        Task  \\\n",
       "1                  Multivariate              Classification   \n",
       "2                  Multivariate              Classification   \n",
       "3                  Multivariate              Classification   \n",
       "4                  Multivariate              Classification   \n",
       "5     Multivariate, Time-Series        Categorical, Integer   \n",
       "6                  Multivariate              Classification   \n",
       "7                  Multivariate              Classification   \n",
       "8                  Multivariate              Classification   \n",
       "9                  Multivariate              Classification   \n",
       "10                 Multivariate              Classification   \n",
       "11                 Multivariate              Classification   \n",
       "12                 Multivariate              Classification   \n",
       "13                 Multivariate              Classification   \n",
       "14                 Multivariate              Classification   \n",
       "15                 Multivariate  Classification, Regression   \n",
       "16                 Multivariate              Classification   \n",
       "17                 Multivariate              Classification   \n",
       "18                 Multivariate                  Regression   \n",
       "19  Multivariate, Domain-Theory              Classification   \n",
       "20                 Multivariate                  Regression   \n",
       "21                 Multivariate              Classification   \n",
       "22                 Multivariate              Classification   \n",
       "23                      Tabular              Classification   \n",
       "24                 Multivariate              Classification   \n",
       "25                 Multivariate              Classification   \n",
       "\n",
       "                Attribute Type Instances Attributes                   Year  \n",
       "1                         Real       150          4   Donated on 6/30/1988  \n",
       "2   Categorical, Integer, Real       303         13   Donated on 6/30/1988  \n",
       "3         Categorical, Integer     48842         14   Donated on 4/30/1996  \n",
       "4                Integer, Real     13611         16   Donated on 9/13/2020  \n",
       "5                           20         -          -                      -  \n",
       "6                Integer, Real       178         13   Donated on 6/30/1991  \n",
       "7                         Real       569         30  Donated on 10/31/1995  \n",
       "8                         Real      3810          8   Donated on 10/5/2019  \n",
       "9                  Categorical      1728          6   Donated on 5/31/1997  \n",
       "10                 Categorical      8124         22   Donated on 4/26/1987  \n",
       "11  Categorical, Integer, Real      4177          8  Donated on 11/30/1995  \n",
       "12                 Categorical       286          9   Donated on 7/10/1988  \n",
       "13        Categorical, Integer      1000         20  Donated on 11/16/1994  \n",
       "14                        Real       214          9   Donated on 8/31/1987  \n",
       "15                        Real      4898         12   Donated on 10/6/2009  \n",
       "16        Categorical, Integer     48842         14   Donated on 4/30/1996  \n",
       "17                     Integer       699          9   Donated on 7/14/1992  \n",
       "18  Real, Categorical, Integer       398          7    Donated on 7/6/1993  \n",
       "19           Categorical, Real      7200          5  Donated on 12/31/1986  \n",
       "20  Categorical, Integer, Real       205         25   Donated on 5/18/1987  \n",
       "21                        Real     45211         17   Donated on 2/13/2012  \n",
       "22               Integer, Real      4601         57   Donated on 6/30/1999  \n",
       "23                        4424        36          -  Donated on 12/12/2021  \n",
       "24                     Integer      5620         64   Donated on 6/30/1998  \n",
       "25  Categorical, Integer, Real       690         15                      -  "
      ]
     },
     "execution_count": 127,
     "metadata": {},
     "output_type": "execute_result"
    }
   ],
   "source": [
    "dfuci=pd.DataFrame({\"Dataset Name\":DN,\"Data Type\":Data_type,\"Task\":Task,\"Attribute Type\":Attribute_type,\"Instances\":Instances,\"Attributes\":Attributes,\"Year\":Year})\n",
    "dfuci.index=range(1,len(dfuci)+1)\n",
    "dfuci\n"
   ]
  },
  {
   "cell_type": "code",
   "execution_count": 128,
   "id": "38ecafdc",
   "metadata": {},
   "outputs": [],
   "source": [
    "driver.close()"
   ]
  }
 ],
 "metadata": {
  "kernelspec": {
   "display_name": "Python 3 (ipykernel)",
   "language": "python",
   "name": "python3"
  },
  "language_info": {
   "codemirror_mode": {
    "name": "ipython",
    "version": 3
   },
   "file_extension": ".py",
   "mimetype": "text/x-python",
   "name": "python",
   "nbconvert_exporter": "python",
   "pygments_lexer": "ipython3",
   "version": "3.11.3"
  }
 },
 "nbformat": 4,
 "nbformat_minor": 5
}
