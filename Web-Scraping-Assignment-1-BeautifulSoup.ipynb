{
 "cells": [
  {
   "cell_type": "markdown",
   "id": "5089d190",
   "metadata": {},
   "source": [
    "# ASSIGNMENT-1\n",
    "WEB SCRAPING"
   ]
  },
  {
   "cell_type": "code",
   "execution_count": 1,
   "id": "25bde279",
   "metadata": {},
   "outputs": [
    {
     "name": "stdout",
     "output_type": "stream",
     "text": [
      "Requirement already satisfied: bs4 in c:\\users\\khushboo rani\\anaconda3\\lib\\site-packages (0.0.1)\n",
      "Requirement already satisfied: beautifulsoup4 in c:\\users\\khushboo rani\\anaconda3\\lib\\site-packages (from bs4) (4.11.1)\n",
      "Requirement already satisfied: soupsieve>1.2 in c:\\users\\khushboo rani\\anaconda3\\lib\\site-packages (from beautifulsoup4->bs4) (2.3.1)\n",
      "Requirement already satisfied: requests in c:\\users\\khushboo rani\\anaconda3\\lib\\site-packages (2.28.1)\n",
      "Requirement already satisfied: charset-normalizer<3,>=2 in c:\\users\\khushboo rani\\anaconda3\\lib\\site-packages (from requests) (2.0.4)\n",
      "Requirement already satisfied: certifi>=2017.4.17 in c:\\users\\khushboo rani\\anaconda3\\lib\\site-packages (from requests) (2022.9.14)\n",
      "Requirement already satisfied: urllib3<1.27,>=1.21.1 in c:\\users\\khushboo rani\\anaconda3\\lib\\site-packages (from requests) (1.26.11)\n",
      "Requirement already satisfied: idna<4,>=2.5 in c:\\users\\khushboo rani\\anaconda3\\lib\\site-packages (from requests) (3.3)\n"
     ]
    }
   ],
   "source": [
    "!pip install bs4\n",
    "!pip install requests"
   ]
  },
  {
   "cell_type": "markdown",
   "id": "42c48a90",
   "metadata": {},
   "source": [
    "# Import Required Libraries"
   ]
  },
  {
   "cell_type": "code",
   "execution_count": 2,
   "id": "a0573619",
   "metadata": {},
   "outputs": [],
   "source": [
    "from bs4 import BeautifulSoup\n",
    "import requests\n",
    "import numpy as np\n",
    "import pandas as pd"
   ]
  },
  {
   "cell_type": "markdown",
   "id": "391ddd82",
   "metadata": {},
   "source": [
    "# 1. Write a python program to display all the header tags from wikipedia.org and make data frame."
   ]
  },
  {
   "cell_type": "code",
   "execution_count": 3,
   "id": "eec2ae81",
   "metadata": {},
   "outputs": [
    {
     "data": {
      "text/plain": [
       "<Response [200]>"
      ]
     },
     "execution_count": 3,
     "metadata": {},
     "output_type": "execute_result"
    }
   ],
   "source": [
    "# Send get request to the Webpage server to get the source code of the page \n",
    "page=requests.get('https://www.wikipedia.org/')\n",
    "soup=BeautifulSoup(page.content)\n",
    "page\n"
   ]
  },
  {
   "cell_type": "markdown",
   "id": "ed54fbae",
   "metadata": {},
   "source": [
    "Scraping Titles & Making DataFrame"
   ]
  },
  {
   "cell_type": "code",
   "execution_count": 4,
   "id": "9fee5e4e",
   "metadata": {},
   "outputs": [
    {
     "data": {
      "text/html": [
       "<div>\n",
       "<style scoped>\n",
       "    .dataframe tbody tr th:only-of-type {\n",
       "        vertical-align: middle;\n",
       "    }\n",
       "\n",
       "    .dataframe tbody tr th {\n",
       "        vertical-align: top;\n",
       "    }\n",
       "\n",
       "    .dataframe thead th {\n",
       "        text-align: right;\n",
       "    }\n",
       "</style>\n",
       "<table border=\"1\" class=\"dataframe\">\n",
       "  <thead>\n",
       "    <tr style=\"text-align: right;\">\n",
       "      <th></th>\n",
       "      <th>Titles</th>\n",
       "    </tr>\n",
       "  </thead>\n",
       "  <tbody>\n",
       "    <tr>\n",
       "      <th>1</th>\n",
       "      <td>Commons</td>\n",
       "    </tr>\n",
       "    <tr>\n",
       "      <th>2</th>\n",
       "      <td>Wikivoyage</td>\n",
       "    </tr>\n",
       "    <tr>\n",
       "      <th>3</th>\n",
       "      <td>Wiktionary</td>\n",
       "    </tr>\n",
       "    <tr>\n",
       "      <th>4</th>\n",
       "      <td>Wikibooks</td>\n",
       "    </tr>\n",
       "    <tr>\n",
       "      <th>5</th>\n",
       "      <td>Wikinews</td>\n",
       "    </tr>\n",
       "    <tr>\n",
       "      <th>6</th>\n",
       "      <td>Wikidata</td>\n",
       "    </tr>\n",
       "    <tr>\n",
       "      <th>7</th>\n",
       "      <td>Wikiversity</td>\n",
       "    </tr>\n",
       "    <tr>\n",
       "      <th>8</th>\n",
       "      <td>Wikiquote</td>\n",
       "    </tr>\n",
       "    <tr>\n",
       "      <th>9</th>\n",
       "      <td>MediaWiki</td>\n",
       "    </tr>\n",
       "    <tr>\n",
       "      <th>10</th>\n",
       "      <td>Wikisource</td>\n",
       "    </tr>\n",
       "    <tr>\n",
       "      <th>11</th>\n",
       "      <td>Wikispecies</td>\n",
       "    </tr>\n",
       "    <tr>\n",
       "      <th>12</th>\n",
       "      <td>Meta-Wiki</td>\n",
       "    </tr>\n",
       "  </tbody>\n",
       "</table>\n",
       "</div>"
      ],
      "text/plain": [
       "         Titles\n",
       "1       Commons\n",
       "2    Wikivoyage\n",
       "3    Wiktionary\n",
       "4     Wikibooks\n",
       "5      Wikinews\n",
       "6      Wikidata\n",
       "7   Wikiversity\n",
       "8     Wikiquote\n",
       "9     MediaWiki\n",
       "10   Wikisource\n",
       "11  Wikispecies\n",
       "12    Meta-Wiki"
      ]
     },
     "execution_count": 4,
     "metadata": {},
     "output_type": "execute_result"
    }
   ],
   "source": [
    "titles=[]\n",
    "for i in soup.find_all('span',class_=\"other-project-title jsl10n\"):\n",
    "    titles.append(i.text)\n",
    "    \n",
    "import pandas as pd\n",
    "dfwiki=pd.DataFrame({'Titles':titles})   #----------------making DataFrame\n",
    "dfwiki.index=np.arange(1,len(dfwiki)+1)  #---------------start indexing by 1\n",
    "dfwiki"
   ]
  },
  {
   "cell_type": "markdown",
   "id": "f80095e6",
   "metadata": {},
   "source": [
    "# 2. Write s python program to display list of respected former presidents of India(i.e. Name , Term of office)\n",
    "from https://presidentofindia.nic.in/former-presidents.htm and make data frame."
   ]
  },
  {
   "cell_type": "code",
   "execution_count": 5,
   "id": "29f1a2eb",
   "metadata": {},
   "outputs": [
    {
     "data": {
      "text/plain": [
       "<Response [200]>"
      ]
     },
     "execution_count": 5,
     "metadata": {},
     "output_type": "execute_result"
    }
   ],
   "source": [
    "# Send get request to the Webpage server to get the source code of the page \n",
    "page2 = requests.get('https://presidentofindia.nic.in/former-presidents.htm')\n",
    "soup2=BeautifulSoup(page2.content)\n",
    "page2"
   ]
  },
  {
   "cell_type": "markdown",
   "id": "f98dd08a",
   "metadata": {},
   "source": [
    "Scraping Data"
   ]
  },
  {
   "cell_type": "code",
   "execution_count": 6,
   "id": "1181d981",
   "metadata": {},
   "outputs": [],
   "source": [
    "a= soup2.find_all('div',class_=\"presidentListing\")\n",
    "name = []\n",
    "\n",
    "for i in a:\n",
    "    for j in i.find_all('h3'):\n",
    "        name.append(j.text.replace('\\n',''))\n",
    "\n",
    "toi = []\n",
    "\n",
    "for k in soup2.find_all('div',class_=\"presidentListing\"):\n",
    "    for h in k.find_all('p'):\n",
    "        toi.append(h.text)\n",
    "del toi[1:9:2]        #---------deleting unnecessary"
   ]
  },
  {
   "cell_type": "markdown",
   "id": "657ea6ae",
   "metadata": {},
   "source": [
    "Making DataFrame"
   ]
  },
  {
   "cell_type": "code",
   "execution_count": 7,
   "id": "f927f4ae",
   "metadata": {},
   "outputs": [
    {
     "data": {
      "text/html": [
       "<div>\n",
       "<style scoped>\n",
       "    .dataframe tbody tr th:only-of-type {\n",
       "        vertical-align: middle;\n",
       "    }\n",
       "\n",
       "    .dataframe tbody tr th {\n",
       "        vertical-align: top;\n",
       "    }\n",
       "\n",
       "    .dataframe thead th {\n",
       "        text-align: right;\n",
       "    }\n",
       "</style>\n",
       "<table border=\"1\" class=\"dataframe\">\n",
       "  <thead>\n",
       "    <tr style=\"text-align: right;\">\n",
       "      <th></th>\n",
       "      <th>Respected President Name</th>\n",
       "      <th>Term of Office</th>\n",
       "    </tr>\n",
       "  </thead>\n",
       "  <tbody>\n",
       "    <tr>\n",
       "      <th>1</th>\n",
       "      <td>Shri Ram Nath Kovind (birth - 1945)</td>\n",
       "      <td>Term of Office: 25 July, 2017 to 25 July, 2022</td>\n",
       "    </tr>\n",
       "    <tr>\n",
       "      <th>2</th>\n",
       "      <td>Shri Pranab Mukherjee (1935-2020)</td>\n",
       "      <td>Term of Office: 25 July, 2012 to 25 July, 2017</td>\n",
       "    </tr>\n",
       "    <tr>\n",
       "      <th>3</th>\n",
       "      <td>Smt Pratibha Devisingh Patil (birth - 1934)</td>\n",
       "      <td>Term of Office: 25 July, 2007 to 25 July, 2012</td>\n",
       "    </tr>\n",
       "    <tr>\n",
       "      <th>4</th>\n",
       "      <td>DR. A.P.J. Abdul Kalam (1931-2015)</td>\n",
       "      <td>Term of Office: 25 July, 2002 to 25 July, 2007</td>\n",
       "    </tr>\n",
       "    <tr>\n",
       "      <th>5</th>\n",
       "      <td>Shri K. R. Narayanan (1920 - 2005)</td>\n",
       "      <td>Term of Office: 25 July, 1997 to 25 July, 2002</td>\n",
       "    </tr>\n",
       "    <tr>\n",
       "      <th>6</th>\n",
       "      <td>Dr Shankar Dayal Sharma (1918-1999)</td>\n",
       "      <td>Term of Office: 25 July, 1992 to 25 July, 1997</td>\n",
       "    </tr>\n",
       "    <tr>\n",
       "      <th>7</th>\n",
       "      <td>Shri R Venkataraman (1910-2009)</td>\n",
       "      <td>Term of Office: 25 July, 1987 to 25 July, 1992</td>\n",
       "    </tr>\n",
       "    <tr>\n",
       "      <th>8</th>\n",
       "      <td>Giani Zail Singh (1916-1994)</td>\n",
       "      <td>Term of Office: 25 July, 1982 to 25 July, 1987</td>\n",
       "    </tr>\n",
       "    <tr>\n",
       "      <th>9</th>\n",
       "      <td>Shri Neelam Sanjiva Reddy (1913-1996)</td>\n",
       "      <td>Term of Office: 25 July, 1977 to 25 July, 1982</td>\n",
       "    </tr>\n",
       "    <tr>\n",
       "      <th>10</th>\n",
       "      <td>Dr. Fakhruddin Ali Ahmed (1905-1977)</td>\n",
       "      <td>Term of Office: 24 August, 1974 to 11 February...</td>\n",
       "    </tr>\n",
       "    <tr>\n",
       "      <th>11</th>\n",
       "      <td>Shri Varahagiri Venkata Giri (1894-1980)</td>\n",
       "      <td>Term of Office: 3 May, 1969 to 20 July, 1969 a...</td>\n",
       "    </tr>\n",
       "    <tr>\n",
       "      <th>12</th>\n",
       "      <td>Dr. Zakir Husain (1897-1969)</td>\n",
       "      <td>Term of Office: 13 May, 1967 to 3 May, 1969</td>\n",
       "    </tr>\n",
       "    <tr>\n",
       "      <th>13</th>\n",
       "      <td>Dr. Sarvepalli Radhakrishnan (1888-1975)</td>\n",
       "      <td>Term of Office: 13 May, 1962 to 13 May, 1967</td>\n",
       "    </tr>\n",
       "    <tr>\n",
       "      <th>14</th>\n",
       "      <td>Dr. Rajendra Prasad (1884-1963)</td>\n",
       "      <td>Term of Office: 26 January, 1950 to 13 May, 1962</td>\n",
       "    </tr>\n",
       "  </tbody>\n",
       "</table>\n",
       "</div>"
      ],
      "text/plain": [
       "                       Respected President Name  \\\n",
       "1           Shri Ram Nath Kovind (birth - 1945)   \n",
       "2             Shri Pranab Mukherjee (1935-2020)   \n",
       "3   Smt Pratibha Devisingh Patil (birth - 1934)   \n",
       "4            DR. A.P.J. Abdul Kalam (1931-2015)   \n",
       "5            Shri K. R. Narayanan (1920 - 2005)   \n",
       "6           Dr Shankar Dayal Sharma (1918-1999)   \n",
       "7               Shri R Venkataraman (1910-2009)   \n",
       "8                  Giani Zail Singh (1916-1994)   \n",
       "9         Shri Neelam Sanjiva Reddy (1913-1996)   \n",
       "10         Dr. Fakhruddin Ali Ahmed (1905-1977)   \n",
       "11     Shri Varahagiri Venkata Giri (1894-1980)   \n",
       "12                 Dr. Zakir Husain (1897-1969)   \n",
       "13     Dr. Sarvepalli Radhakrishnan (1888-1975)   \n",
       "14             Dr. Rajendra Prasad (1884-1963)    \n",
       "\n",
       "                                       Term of Office  \n",
       "1     Term of Office: 25 July, 2017 to 25 July, 2022   \n",
       "2     Term of Office: 25 July, 2012 to 25 July, 2017   \n",
       "3     Term of Office: 25 July, 2007 to 25 July, 2012   \n",
       "4     Term of Office: 25 July, 2002 to 25 July, 2007   \n",
       "5     Term of Office: 25 July, 1997 to 25 July, 2002   \n",
       "6     Term of Office: 25 July, 1992 to 25 July, 1997   \n",
       "7     Term of Office: 25 July, 1987 to 25 July, 1992   \n",
       "8     Term of Office: 25 July, 1982 to 25 July, 1987   \n",
       "9     Term of Office: 25 July, 1977 to 25 July, 1982   \n",
       "10  Term of Office: 24 August, 1974 to 11 February...  \n",
       "11  Term of Office: 3 May, 1969 to 20 July, 1969 a...  \n",
       "12        Term of Office: 13 May, 1967 to 3 May, 1969  \n",
       "13       Term of Office: 13 May, 1962 to 13 May, 1967  \n",
       "14   Term of Office: 26 January, 1950 to 13 May, 1962  "
      ]
     },
     "execution_count": 7,
     "metadata": {},
     "output_type": "execute_result"
    }
   ],
   "source": [
    "presidentdf= pd.DataFrame({'Respected President Name':name, 'Term of Office':toi})\n",
    "presidentdf.index = np.arange(1,len(presidentdf)+1)\n",
    "presidentdf"
   ]
  },
  {
   "cell_type": "markdown",
   "id": "50f79328",
   "metadata": {},
   "source": [
    "# 3) Write a python program to scrape cricket rankings from icc-cricket.com You have to scrape and make data frame.\n",
    "1. Top 10 ODI teams in men’s cricket along with the records for matches, points and rating.\n",
    "2. Top 10 ODI Batsmen along with the records of their team and rating.\n",
    "3. Top 10 ODI bowlers along with the records of their team and rating."
   ]
  },
  {
   "cell_type": "markdown",
   "id": "0ae51f96",
   "metadata": {},
   "source": [
    "1.Top 10 ODI teams in men’s cricket along with the records for matches, points and rating."
   ]
  },
  {
   "cell_type": "code",
   "execution_count": 8,
   "id": "0a1a880a",
   "metadata": {},
   "outputs": [
    {
     "data": {
      "text/plain": [
       "<Response [200]>"
      ]
     },
     "execution_count": 8,
     "metadata": {},
     "output_type": "execute_result"
    }
   ],
   "source": [
    "# Send get request to the Webpage server to get the source code of the page \n",
    "page3a=requests.get('https://www.icc-cricket.com/rankings/mens/team-rankings/odi')\n",
    "\n",
    "soup3a=BeautifulSoup(page3a.content)\n",
    "page3a"
   ]
  },
  {
   "cell_type": "code",
   "execution_count": 9,
   "id": "75c2ccdb",
   "metadata": {},
   "outputs": [
    {
     "name": "stdout",
     "output_type": "stream",
     "text": [
      "20\n"
     ]
    }
   ],
   "source": [
    "teams3a=[]\n",
    "for i in soup3a.find_all('span',class_=\"u-hide-phablet\"):\n",
    "    teams3a.append(i.text)\n",
    "print(len(teams3a))"
   ]
  },
  {
   "cell_type": "code",
   "execution_count": 10,
   "id": "4b536541",
   "metadata": {},
   "outputs": [
    {
     "name": "stdout",
     "output_type": "stream",
     "text": [
      "20\n"
     ]
    }
   ],
   "source": [
    "match1=[]\n",
    "for i in soup3a.find_all('td',class_=\"rankings-block__banner--matches\"):\n",
    "    match1.append(i.text)\n",
    "match2=[]\n",
    "for j in soup3a.find_all('td',class_=\"table-body__cell u-center-text\"):\n",
    "    match2.append(j.text)\n",
    "del match2[1:39:2]    #deleting unwanted results\n",
    "\n",
    "matches3a=match1+match2\n",
    "\n",
    "print(len(matches3a))"
   ]
  },
  {
   "cell_type": "code",
   "execution_count": 11,
   "id": "560902cf",
   "metadata": {},
   "outputs": [
    {
     "name": "stdout",
     "output_type": "stream",
     "text": [
      "20\n"
     ]
    }
   ],
   "source": [
    "point1=[]\n",
    "for i in soup3a.find_all('td',class_=\"rankings-block__banner--points\"):\n",
    "    point1.append(i.text)\n",
    "    \n",
    "point2=[]\n",
    "for j in soup3a.find_all('td',class_=\"table-body__cell u-center-text\"):\n",
    "    point2.append(j.text)\n",
    "del point2[0:39:2]\n",
    "\n",
    "points3a=point2+point1\n",
    "print(len(points3a))\n"
   ]
  },
  {
   "cell_type": "code",
   "execution_count": 12,
   "id": "ff15725d",
   "metadata": {},
   "outputs": [
    {
     "name": "stdout",
     "output_type": "stream",
     "text": [
      "20\n"
     ]
    }
   ],
   "source": [
    "rating1=[]\n",
    "for i in soup3a.find_all('td',class_=\"rankings-block__banner--rating u-text-right\"):\n",
    "    rating1.append(i.text.replace('\\n',''))\n",
    "\n",
    "rating2=[]\n",
    "for j in soup3a.find_all('td',class_=\"table-body__cell u-text-right rating\"):\n",
    "    rating2.append(j.text)\n",
    "ratings3a=rating1+rating2\n",
    "print(len(ratings3a))"
   ]
  },
  {
   "cell_type": "markdown",
   "id": "2e814022",
   "metadata": {},
   "source": [
    "Making DataFrame"
   ]
  },
  {
   "cell_type": "code",
   "execution_count": 13,
   "id": "89d88770",
   "metadata": {},
   "outputs": [
    {
     "data": {
      "text/html": [
       "<div>\n",
       "<style scoped>\n",
       "    .dataframe tbody tr th:only-of-type {\n",
       "        vertical-align: middle;\n",
       "    }\n",
       "\n",
       "    .dataframe tbody tr th {\n",
       "        vertical-align: top;\n",
       "    }\n",
       "\n",
       "    .dataframe thead th {\n",
       "        text-align: right;\n",
       "    }\n",
       "</style>\n",
       "<table border=\"1\" class=\"dataframe\">\n",
       "  <thead>\n",
       "    <tr style=\"text-align: right;\">\n",
       "      <th></th>\n",
       "      <th>Teams</th>\n",
       "      <th>Matches</th>\n",
       "      <th>Points</th>\n",
       "      <th>Rating</th>\n",
       "    </tr>\n",
       "  </thead>\n",
       "  <tbody>\n",
       "    <tr>\n",
       "      <th>1</th>\n",
       "      <td>Australia</td>\n",
       "      <td>23</td>\n",
       "      <td>2,316</td>\n",
       "      <td>118               ...</td>\n",
       "    </tr>\n",
       "    <tr>\n",
       "      <th>2</th>\n",
       "      <td>Pakistan</td>\n",
       "      <td>20</td>\n",
       "      <td>3,807</td>\n",
       "      <td>116</td>\n",
       "    </tr>\n",
       "    <tr>\n",
       "      <th>3</th>\n",
       "      <td>India</td>\n",
       "      <td>33</td>\n",
       "      <td>2,806</td>\n",
       "      <td>115</td>\n",
       "    </tr>\n",
       "    <tr>\n",
       "      <th>4</th>\n",
       "      <td>New Zealand</td>\n",
       "      <td>27</td>\n",
       "      <td>2,426</td>\n",
       "      <td>104</td>\n",
       "    </tr>\n",
       "    <tr>\n",
       "      <th>5</th>\n",
       "      <td>England</td>\n",
       "      <td>24</td>\n",
       "      <td>1,910</td>\n",
       "      <td>101</td>\n",
       "    </tr>\n",
       "    <tr>\n",
       "      <th>6</th>\n",
       "      <td>South Africa</td>\n",
       "      <td>19</td>\n",
       "      <td>2,451</td>\n",
       "      <td>101</td>\n",
       "    </tr>\n",
       "    <tr>\n",
       "      <th>7</th>\n",
       "      <td>Bangladesh</td>\n",
       "      <td>25</td>\n",
       "      <td>2,378</td>\n",
       "      <td>98</td>\n",
       "    </tr>\n",
       "    <tr>\n",
       "      <th>8</th>\n",
       "      <td>Sri Lanka</td>\n",
       "      <td>28</td>\n",
       "      <td>1,067</td>\n",
       "      <td>85</td>\n",
       "    </tr>\n",
       "    <tr>\n",
       "      <th>9</th>\n",
       "      <td>Afghanistan</td>\n",
       "      <td>13</td>\n",
       "      <td>2,201</td>\n",
       "      <td>82</td>\n",
       "    </tr>\n",
       "    <tr>\n",
       "      <th>10</th>\n",
       "      <td>West Indies</td>\n",
       "      <td>32</td>\n",
       "      <td>1,530</td>\n",
       "      <td>69</td>\n",
       "    </tr>\n",
       "  </tbody>\n",
       "</table>\n",
       "</div>"
      ],
      "text/plain": [
       "           Teams Matches Points  \\\n",
       "1      Australia      23  2,316   \n",
       "2       Pakistan      20  3,807   \n",
       "3          India      33  2,806   \n",
       "4    New Zealand      27  2,426   \n",
       "5        England      24  1,910   \n",
       "6   South Africa      19  2,451   \n",
       "7     Bangladesh      25  2,378   \n",
       "8      Sri Lanka      28  1,067   \n",
       "9    Afghanistan      13  2,201   \n",
       "10   West Indies      32  1,530   \n",
       "\n",
       "                                               Rating  \n",
       "1                               118               ...  \n",
       "2                                                 116  \n",
       "3                                                 115  \n",
       "4                                                 104  \n",
       "5                                                 101  \n",
       "6                                                 101  \n",
       "7                                                  98  \n",
       "8                                                  85  \n",
       "9                                                  82  \n",
       "10                                                 69  "
      ]
     },
     "execution_count": 13,
     "metadata": {},
     "output_type": "execute_result"
    }
   ],
   "source": [
    "df=pd.DataFrame({'Teams':teams3a,'Matches':matches3a,'Points':points3a,'Rating':ratings3a})  #Making DataFrame\n",
    "df.index = np.arange(1,len(df)+1)\n",
    "teamsdf=df.head(10)\n",
    "teamsdf"
   ]
  },
  {
   "cell_type": "markdown",
   "id": "f6de4a09",
   "metadata": {},
   "source": [
    "2.Top 10 ODI Batsmen along with the records of their team andrating."
   ]
  },
  {
   "cell_type": "code",
   "execution_count": 14,
   "id": "5c3b6f67",
   "metadata": {},
   "outputs": [
    {
     "name": "stdout",
     "output_type": "stream",
     "text": [
      "<Response [200]>\n"
     ]
    }
   ],
   "source": [
    "# Send get request to the Webpage server to get the source code of the page \n",
    "page3b=requests.get('https://www.icc-cricket.com/rankings/mens/player-rankings/odi/batting')\n",
    "\n",
    "soup3b=BeautifulSoup(page3b.content)\n",
    "\n",
    "print(page3b)"
   ]
  },
  {
   "cell_type": "code",
   "execution_count": 15,
   "id": "15d61276",
   "metadata": {},
   "outputs": [
    {
     "name": "stdout",
     "output_type": "stream",
     "text": [
      "100\n"
     ]
    }
   ],
   "source": [
    "player1=[]\n",
    "for i in soup3b.find_all('div',class_=\"rankings-block__banner--name-large\"):\n",
    "    player1.append(i.text)\n",
    "\n",
    "\n",
    "player2=[]\n",
    "for j in soup3b.find_all('td',class_=\"table-body__cell rankings-table__name name\"):\n",
    "    player2.append(j.text.replace('\\n',''))\n",
    "players3b=player1+player2\n",
    "print(len(players3b))"
   ]
  },
  {
   "cell_type": "code",
   "execution_count": 16,
   "id": "27471675",
   "metadata": {},
   "outputs": [
    {
     "name": "stdout",
     "output_type": "stream",
     "text": [
      "100\n"
     ]
    }
   ],
   "source": [
    "team1=[]\n",
    "for c in soup3b.find_all('div',class_=\"rankings-block__banner--nationality\"):\n",
    "    team1.append(c.text.replace('\\n',''))\n",
    "    \n",
    "team2=[]\n",
    "for d in soup3b.find_all('span',class_=\"table-body__logo-text\"):\n",
    "    team2.append(d.text)\n",
    "teams3b=team1+team2\n",
    "print(len(teams3b))"
   ]
  },
  {
   "cell_type": "code",
   "execution_count": 17,
   "id": "0563a37b",
   "metadata": {},
   "outputs": [
    {
     "name": "stdout",
     "output_type": "stream",
     "text": [
      "100\n"
     ]
    }
   ],
   "source": [
    "rating1=[]\n",
    "for e in soup3b.find_all('div',class_=\"rankings-block__banner--rating\"):\n",
    "    rating1.append(e.text)\n",
    "\n",
    "\n",
    "rating2=[]\n",
    "for f in soup3b.find_all('td',class_=\"table-body__cell rating\"):\n",
    "    rating2.append(f.text)\n",
    "    \n",
    "ratings3b=rating1+rating2\n",
    "print(len(ratings3b))"
   ]
  },
  {
   "cell_type": "markdown",
   "id": "2ab28cfd",
   "metadata": {},
   "source": [
    "Making DataFrame"
   ]
  },
  {
   "cell_type": "code",
   "execution_count": 18,
   "id": "9d3e909a",
   "metadata": {},
   "outputs": [
    {
     "data": {
      "text/html": [
       "<div>\n",
       "<style scoped>\n",
       "    .dataframe tbody tr th:only-of-type {\n",
       "        vertical-align: middle;\n",
       "    }\n",
       "\n",
       "    .dataframe tbody tr th {\n",
       "        vertical-align: top;\n",
       "    }\n",
       "\n",
       "    .dataframe thead th {\n",
       "        text-align: right;\n",
       "    }\n",
       "</style>\n",
       "<table border=\"1\" class=\"dataframe\">\n",
       "  <thead>\n",
       "    <tr style=\"text-align: right;\">\n",
       "      <th></th>\n",
       "      <th>Batsmen</th>\n",
       "      <th>Team</th>\n",
       "      <th>Rating</th>\n",
       "    </tr>\n",
       "  </thead>\n",
       "  <tbody>\n",
       "    <tr>\n",
       "      <th>1</th>\n",
       "      <td>Babar Azam</td>\n",
       "      <td>PAK</td>\n",
       "      <td>886</td>\n",
       "    </tr>\n",
       "    <tr>\n",
       "      <th>2</th>\n",
       "      <td>Rassie van der Dussen</td>\n",
       "      <td>SA</td>\n",
       "      <td>777</td>\n",
       "    </tr>\n",
       "    <tr>\n",
       "      <th>3</th>\n",
       "      <td>Fakhar Zaman</td>\n",
       "      <td>PAK</td>\n",
       "      <td>755</td>\n",
       "    </tr>\n",
       "    <tr>\n",
       "      <th>4</th>\n",
       "      <td>Imam-ul-Haq</td>\n",
       "      <td>PAK</td>\n",
       "      <td>745</td>\n",
       "    </tr>\n",
       "    <tr>\n",
       "      <th>5</th>\n",
       "      <td>Shubman Gill</td>\n",
       "      <td>IND</td>\n",
       "      <td>738</td>\n",
       "    </tr>\n",
       "    <tr>\n",
       "      <th>6</th>\n",
       "      <td>David Warner</td>\n",
       "      <td>AUS</td>\n",
       "      <td>726</td>\n",
       "    </tr>\n",
       "    <tr>\n",
       "      <th>7</th>\n",
       "      <td>Harry Tector</td>\n",
       "      <td>IRE</td>\n",
       "      <td>723</td>\n",
       "    </tr>\n",
       "    <tr>\n",
       "      <th>8</th>\n",
       "      <td>Virat Kohli</td>\n",
       "      <td>IND</td>\n",
       "      <td>719</td>\n",
       "    </tr>\n",
       "    <tr>\n",
       "      <th>9</th>\n",
       "      <td>Quinton de Kock</td>\n",
       "      <td>SA</td>\n",
       "      <td>718</td>\n",
       "    </tr>\n",
       "    <tr>\n",
       "      <th>10</th>\n",
       "      <td>Rohit Sharma</td>\n",
       "      <td>IND</td>\n",
       "      <td>707</td>\n",
       "    </tr>\n",
       "  </tbody>\n",
       "</table>\n",
       "</div>"
      ],
      "text/plain": [
       "                  Batsmen                     Team Rating\n",
       "1              Babar Azam  PAK                        886\n",
       "2   Rassie van der Dussen                       SA    777\n",
       "3            Fakhar Zaman                      PAK    755\n",
       "4             Imam-ul-Haq                      PAK    745\n",
       "5            Shubman Gill                      IND    738\n",
       "6            David Warner                      AUS    726\n",
       "7            Harry Tector                      IRE    723\n",
       "8             Virat Kohli                      IND    719\n",
       "9         Quinton de Kock                       SA    718\n",
       "10           Rohit Sharma                      IND    707"
      ]
     },
     "execution_count": 18,
     "metadata": {},
     "output_type": "execute_result"
    }
   ],
   "source": [
    "df3b=pd.DataFrame({'Batsmen':players3b,'Team':teams3b,'Rating':ratings3b})\n",
    "df3b.index = np.arange(1,len(df3b)+1)\n",
    "batsmandf=df3b.head(10)\n",
    "batsmandf\n"
   ]
  },
  {
   "cell_type": "markdown",
   "id": "df3391ed",
   "metadata": {},
   "source": [
    "3. Top 10 ODI bowlers along with the records of their team and rating."
   ]
  },
  {
   "cell_type": "code",
   "execution_count": 19,
   "id": "45866fdb",
   "metadata": {},
   "outputs": [
    {
     "data": {
      "text/plain": [
       "<Response [200]>"
      ]
     },
     "execution_count": 19,
     "metadata": {},
     "output_type": "execute_result"
    }
   ],
   "source": [
    "# Send get request to the Webpage server to get the source code of the page \n",
    "page3c=requests.get('https://www.icc-cricket.com/rankings/mens/player-rankings/odi/bowling')\n",
    "soup3c=BeautifulSoup(page3c.content)\n",
    "page3c"
   ]
  },
  {
   "cell_type": "code",
   "execution_count": 20,
   "id": "1885b7bc",
   "metadata": {},
   "outputs": [
    {
     "name": "stdout",
     "output_type": "stream",
     "text": [
      "100\n"
     ]
    }
   ],
   "source": [
    "player1=[]\n",
    "for s in soup3c.find_all('div',class_=\"rankings-block__banner--name-large\"):\n",
    "    player1.append(s.text)\n",
    "\n",
    "player2=[]\n",
    "for t in soup3c.find_all('td',class_=\"table-body__cell rankings-table__name name\"):\n",
    "    player2.append(t.text.replace('\\n',''))\n",
    "players3c=player1+player2\n",
    "print(len(players3c))"
   ]
  },
  {
   "cell_type": "code",
   "execution_count": 21,
   "id": "679a213e",
   "metadata": {},
   "outputs": [
    {
     "name": "stdout",
     "output_type": "stream",
     "text": [
      "100\n"
     ]
    }
   ],
   "source": [
    "team1=[]\n",
    "for i in soup3c.find_all('div',class_=\"rankings-block__banner--nationality\"):\n",
    "    team1.append(i.text.replace('\\n',''))\n",
    "    \n",
    "team2=[]\n",
    "for j in soup3c.find_all('span',class_=\"table-body__logo-text\"):\n",
    "    team2.append(j.text)\n",
    "teams3c=team1+team2\n",
    "print(len(teams3c))"
   ]
  },
  {
   "cell_type": "code",
   "execution_count": 22,
   "id": "11fc7346",
   "metadata": {},
   "outputs": [
    {
     "name": "stdout",
     "output_type": "stream",
     "text": [
      "100\n"
     ]
    }
   ],
   "source": [
    "rating1=[] \n",
    "for i in soup3c.find_all('div',class_=\"rankings-block__banner--rating\"):\n",
    "    rating1.append(i.text)\n",
    "    \n",
    "rating2=[]\n",
    "for j in soup3c.find_all('td',class_=\"table-body__cell rating\"):\n",
    "    rating2.append(j.text)\n",
    "ratings3c=rating1+rating2\n",
    "print(len(ratings3c))"
   ]
  },
  {
   "cell_type": "markdown",
   "id": "bbfb98e5",
   "metadata": {},
   "source": [
    "Making DataFrame"
   ]
  },
  {
   "cell_type": "code",
   "execution_count": 23,
   "id": "08661ea6",
   "metadata": {},
   "outputs": [
    {
     "data": {
      "text/html": [
       "<div>\n",
       "<style scoped>\n",
       "    .dataframe tbody tr th:only-of-type {\n",
       "        vertical-align: middle;\n",
       "    }\n",
       "\n",
       "    .dataframe tbody tr th {\n",
       "        vertical-align: top;\n",
       "    }\n",
       "\n",
       "    .dataframe thead th {\n",
       "        text-align: right;\n",
       "    }\n",
       "</style>\n",
       "<table border=\"1\" class=\"dataframe\">\n",
       "  <thead>\n",
       "    <tr style=\"text-align: right;\">\n",
       "      <th></th>\n",
       "      <th>Bowlers</th>\n",
       "      <th>Team</th>\n",
       "      <th>Rating</th>\n",
       "    </tr>\n",
       "  </thead>\n",
       "  <tbody>\n",
       "    <tr>\n",
       "      <th>1</th>\n",
       "      <td>Josh Hazlewood</td>\n",
       "      <td>AUS</td>\n",
       "      <td>705</td>\n",
       "    </tr>\n",
       "    <tr>\n",
       "      <th>2</th>\n",
       "      <td>Mohammed Siraj</td>\n",
       "      <td>IND</td>\n",
       "      <td>691</td>\n",
       "    </tr>\n",
       "    <tr>\n",
       "      <th>3</th>\n",
       "      <td>Mitchell Starc</td>\n",
       "      <td>AUS</td>\n",
       "      <td>686</td>\n",
       "    </tr>\n",
       "    <tr>\n",
       "      <th>4</th>\n",
       "      <td>Matt Henry</td>\n",
       "      <td>NZ</td>\n",
       "      <td>667</td>\n",
       "    </tr>\n",
       "    <tr>\n",
       "      <th>5</th>\n",
       "      <td>Trent Boult</td>\n",
       "      <td>NZ</td>\n",
       "      <td>660</td>\n",
       "    </tr>\n",
       "    <tr>\n",
       "      <th>6</th>\n",
       "      <td>Adam Zampa</td>\n",
       "      <td>AUS</td>\n",
       "      <td>652</td>\n",
       "    </tr>\n",
       "    <tr>\n",
       "      <th>7</th>\n",
       "      <td>Rashid Khan</td>\n",
       "      <td>AFG</td>\n",
       "      <td>640</td>\n",
       "    </tr>\n",
       "    <tr>\n",
       "      <th>8</th>\n",
       "      <td>Shaheen Afridi</td>\n",
       "      <td>PAK</td>\n",
       "      <td>630</td>\n",
       "    </tr>\n",
       "    <tr>\n",
       "      <th>9</th>\n",
       "      <td>Mujeeb Ur Rahman</td>\n",
       "      <td>AFG</td>\n",
       "      <td>630</td>\n",
       "    </tr>\n",
       "    <tr>\n",
       "      <th>10</th>\n",
       "      <td>Mohammad Nabi</td>\n",
       "      <td>AFG</td>\n",
       "      <td>626</td>\n",
       "    </tr>\n",
       "  </tbody>\n",
       "</table>\n",
       "</div>"
      ],
      "text/plain": [
       "             Bowlers                     Team Rating\n",
       "1     Josh Hazlewood  AUS                        705\n",
       "2     Mohammed Siraj                      IND    691\n",
       "3     Mitchell Starc                      AUS    686\n",
       "4         Matt Henry                       NZ    667\n",
       "5        Trent Boult                       NZ    660\n",
       "6         Adam Zampa                      AUS    652\n",
       "7        Rashid Khan                      AFG    640\n",
       "8     Shaheen Afridi                      PAK    630\n",
       "9   Mujeeb Ur Rahman                      AFG    630\n",
       "10     Mohammad Nabi                      AFG    626"
      ]
     },
     "execution_count": 23,
     "metadata": {},
     "output_type": "execute_result"
    }
   ],
   "source": [
    "df3c=pd.DataFrame({'Bowlers':players3c,'Team':teams3c,'Rating':ratings3c})\n",
    "df3c.index = np.arange(1,len(df3c)+1)\n",
    "bowlersdf=df3c.head(10)\n",
    "bowlersdf"
   ]
  },
  {
   "cell_type": "markdown",
   "id": "d13f95c1",
   "metadata": {},
   "source": [
    "# 4) Write a python program to scrape cricket rankings from icc-cricket.com. You have to scrape and make data frame.                                           \n",
    "a) Top 10 ODI teams in women’s cricket along with the records for matches, points and rating.                                   \n",
    "b) Top 10 women’s ODI Batting players along with the records of their team and rating.                                              \n",
    "c) Top 10 women’s ODI all-rounder along with the records of their team and rating."
   ]
  },
  {
   "cell_type": "code",
   "execution_count": 24,
   "id": "74ae16b8",
   "metadata": {},
   "outputs": [
    {
     "data": {
      "text/plain": [
       "<Response [200]>"
      ]
     },
     "execution_count": 24,
     "metadata": {},
     "output_type": "execute_result"
    }
   ],
   "source": [
    "# Send get request to the Webpage server to get the source code of the page \n",
    "page4a = requests.get(\"https://www.icc-cricket.com/rankings/womens/team-rankings/odi\")\n",
    "soup4a = BeautifulSoup(page4a.content)\n",
    "page4a"
   ]
  },
  {
   "cell_type": "markdown",
   "id": "2692ab4d",
   "metadata": {},
   "source": [
    "a) Top 10 ODI teams in women’s cricket along with the records for matches, points and rating."
   ]
  },
  {
   "cell_type": "markdown",
   "id": "fa714070",
   "metadata": {},
   "source": [
    "Teams"
   ]
  },
  {
   "cell_type": "code",
   "execution_count": 25,
   "id": "ab5c9a7a",
   "metadata": {},
   "outputs": [
    {
     "name": "stdout",
     "output_type": "stream",
     "text": [
      "13\n"
     ]
    }
   ],
   "source": [
    "team4a=[]\n",
    "for i in soup4a.find_all('span',class_=\"u-hide-phablet\"):\n",
    "    team4a.append(i.text)\n",
    "print(len(team4a))"
   ]
  },
  {
   "cell_type": "markdown",
   "id": "b1fceb34",
   "metadata": {},
   "source": [
    "Matches"
   ]
  },
  {
   "cell_type": "code",
   "execution_count": 26,
   "id": "48a9fba3",
   "metadata": {},
   "outputs": [
    {
     "name": "stdout",
     "output_type": "stream",
     "text": [
      "13\n"
     ]
    }
   ],
   "source": [
    "mt1=[]\n",
    "for i in soup4a.find_all('td',class_=\"rankings-block__banner--matches\"):\n",
    "    mt1.append(i.text)\n",
    "\n",
    "mt2=[]\n",
    "for j in soup4a.find_all('td',class_=\"table-body__cell u-center-text\"):\n",
    "    mt2.append(j.text)\n",
    "del mt2[1:39:2]\n",
    "matches4a=mt1+mt2\n",
    "print(len(matches4a))\n",
    "#matches4a"
   ]
  },
  {
   "cell_type": "markdown",
   "id": "9a9ae277",
   "metadata": {},
   "source": [
    "Points"
   ]
  },
  {
   "cell_type": "code",
   "execution_count": 27,
   "id": "ce682bd9",
   "metadata": {},
   "outputs": [
    {
     "name": "stdout",
     "output_type": "stream",
     "text": [
      "13\n"
     ]
    }
   ],
   "source": [
    "pt1=[]\n",
    "for i in soup4a.find_all('td',class_=\"rankings-block__banner--points\"):\n",
    "    pt1.append(i.text)\n",
    "    \n",
    "pt2=[]\n",
    "for j in soup4a.find_all('td',class_=\"table-body__cell u-center-text\"):\n",
    "    pt2.append(j.text)\n",
    "del pt2[0:39:2]\n",
    "points4a=pt1+pt2\n",
    "print(len(points4a))\n",
    "#points\n"
   ]
  },
  {
   "cell_type": "markdown",
   "id": "aceac1c7",
   "metadata": {},
   "source": [
    "Ratings\n"
   ]
  },
  {
   "cell_type": "code",
   "execution_count": 28,
   "id": "c0af95c8",
   "metadata": {},
   "outputs": [
    {
     "name": "stdout",
     "output_type": "stream",
     "text": [
      "13\n"
     ]
    }
   ],
   "source": [
    "rat1=[]\n",
    "for i in soup4a.find_all('td',class_=\"rankings-block__banner--rating u-text-right\"):\n",
    "    rat1.append(i.text.replace('\\n',''))\n",
    "\n",
    "\n",
    "rat2=[]\n",
    "for j in soup4a.find_all('td',class_=\"table-body__cell u-text-right rating\"):\n",
    "    rat2.append(j.text)\n",
    "ratings4a=rat1+rat2\n",
    "print(len(ratings4a))"
   ]
  },
  {
   "cell_type": "markdown",
   "id": "d17ee02b",
   "metadata": {},
   "source": [
    "Making DataFrame"
   ]
  },
  {
   "cell_type": "code",
   "execution_count": 29,
   "id": "4fc9cd20",
   "metadata": {
    "scrolled": true
   },
   "outputs": [
    {
     "name": "stdout",
     "output_type": "stream",
     "text": [
      "Top 10 ODI teams in women’s cricket along with the records for matches, points and rating:\n"
     ]
    },
    {
     "data": {
      "text/html": [
       "<div>\n",
       "<style scoped>\n",
       "    .dataframe tbody tr th:only-of-type {\n",
       "        vertical-align: middle;\n",
       "    }\n",
       "\n",
       "    .dataframe tbody tr th {\n",
       "        vertical-align: top;\n",
       "    }\n",
       "\n",
       "    .dataframe thead th {\n",
       "        text-align: right;\n",
       "    }\n",
       "</style>\n",
       "<table border=\"1\" class=\"dataframe\">\n",
       "  <thead>\n",
       "    <tr style=\"text-align: right;\">\n",
       "      <th></th>\n",
       "      <th>Teams</th>\n",
       "      <th>Matches</th>\n",
       "      <th>Points</th>\n",
       "      <th>Ratings</th>\n",
       "    </tr>\n",
       "  </thead>\n",
       "  <tbody>\n",
       "    <tr>\n",
       "      <th>1</th>\n",
       "      <td>Australia</td>\n",
       "      <td>21</td>\n",
       "      <td>3,603</td>\n",
       "      <td>172               ...</td>\n",
       "    </tr>\n",
       "    <tr>\n",
       "      <th>2</th>\n",
       "      <td>England</td>\n",
       "      <td>28</td>\n",
       "      <td>3,342</td>\n",
       "      <td>119</td>\n",
       "    </tr>\n",
       "    <tr>\n",
       "      <th>3</th>\n",
       "      <td>South Africa</td>\n",
       "      <td>26</td>\n",
       "      <td>3,098</td>\n",
       "      <td>119</td>\n",
       "    </tr>\n",
       "    <tr>\n",
       "      <th>4</th>\n",
       "      <td>India</td>\n",
       "      <td>27</td>\n",
       "      <td>2,820</td>\n",
       "      <td>104</td>\n",
       "    </tr>\n",
       "    <tr>\n",
       "      <th>5</th>\n",
       "      <td>New Zealand</td>\n",
       "      <td>25</td>\n",
       "      <td>2,553</td>\n",
       "      <td>102</td>\n",
       "    </tr>\n",
       "    <tr>\n",
       "      <th>6</th>\n",
       "      <td>West Indies</td>\n",
       "      <td>27</td>\n",
       "      <td>2,535</td>\n",
       "      <td>94</td>\n",
       "    </tr>\n",
       "    <tr>\n",
       "      <th>7</th>\n",
       "      <td>Thailand</td>\n",
       "      <td>11</td>\n",
       "      <td>821</td>\n",
       "      <td>75</td>\n",
       "    </tr>\n",
       "    <tr>\n",
       "      <th>8</th>\n",
       "      <td>Bangladesh</td>\n",
       "      <td>14</td>\n",
       "      <td>977</td>\n",
       "      <td>70</td>\n",
       "    </tr>\n",
       "    <tr>\n",
       "      <th>9</th>\n",
       "      <td>Pakistan</td>\n",
       "      <td>27</td>\n",
       "      <td>1,678</td>\n",
       "      <td>62</td>\n",
       "    </tr>\n",
       "    <tr>\n",
       "      <th>10</th>\n",
       "      <td>Sri Lanka</td>\n",
       "      <td>9</td>\n",
       "      <td>479</td>\n",
       "      <td>53</td>\n",
       "    </tr>\n",
       "  </tbody>\n",
       "</table>\n",
       "</div>"
      ],
      "text/plain": [
       "           Teams Matches Points  \\\n",
       "1      Australia      21  3,603   \n",
       "2        England      28  3,342   \n",
       "3   South Africa      26  3,098   \n",
       "4          India      27  2,820   \n",
       "5    New Zealand      25  2,553   \n",
       "6    West Indies      27  2,535   \n",
       "7       Thailand      11    821   \n",
       "8     Bangladesh      14    977   \n",
       "9       Pakistan      27  1,678   \n",
       "10     Sri Lanka       9    479   \n",
       "\n",
       "                                              Ratings  \n",
       "1                               172               ...  \n",
       "2                                                 119  \n",
       "3                                                 119  \n",
       "4                                                 104  \n",
       "5                                                 102  \n",
       "6                                                  94  \n",
       "7                                                  75  \n",
       "8                                                  70  \n",
       "9                                                  62  \n",
       "10                                                 53  "
      ]
     },
     "execution_count": 29,
     "metadata": {},
     "output_type": "execute_result"
    }
   ],
   "source": [
    "womens_team=pd.DataFrame({'Teams':team4a,'Matches':matches4a,'Points':points4a,'Ratings':ratings4a}).head(10)\n",
    "womens_team.index = np.arange(1,len(womens_team)+1)\n",
    "print('Top 10 ODI teams in women’s cricket along with the records for matches, points and rating:')\n",
    "\n",
    "womens_team"
   ]
  },
  {
   "cell_type": "markdown",
   "id": "68ee295d",
   "metadata": {},
   "source": [
    "b) Top 10 women’s ODI Batting players along with the records of their team and rating."
   ]
  },
  {
   "cell_type": "code",
   "execution_count": 30,
   "id": "712eb66c",
   "metadata": {},
   "outputs": [
    {
     "data": {
      "text/plain": [
       "<Response [200]>"
      ]
     },
     "execution_count": 30,
     "metadata": {},
     "output_type": "execute_result"
    }
   ],
   "source": [
    "# Send get request to the Webpage server to get the source code of the page \n",
    "page4b=requests.get('https://www.icc-cricket.com/rankings/womens/player-rankings/odi/batting')\n",
    "soup4b=BeautifulSoup(page4b.content)\n",
    "page4b"
   ]
  },
  {
   "cell_type": "markdown",
   "id": "531f9d0d",
   "metadata": {},
   "source": [
    "Players"
   ]
  },
  {
   "cell_type": "code",
   "execution_count": 31,
   "id": "949b3d12",
   "metadata": {},
   "outputs": [
    {
     "data": {
      "text/plain": [
       "100"
      ]
     },
     "execution_count": 31,
     "metadata": {},
     "output_type": "execute_result"
    }
   ],
   "source": [
    "pl1=[]\n",
    "for i in soup4b.find_all('div',class_=\"rankings-block__banner--name-large\"):\n",
    "    pl1.append(i.text)\n",
    "\n",
    "\n",
    "pl2=[]\n",
    "for j in soup4b.find_all('td',class_=\"table-body__cell rankings-table__name name\"):\n",
    "    pl2.append(j.text.replace('\\n',''))\n",
    "players4b=pl1+pl2\n",
    "len(players4b)"
   ]
  },
  {
   "cell_type": "markdown",
   "id": "1c5cc297",
   "metadata": {},
   "source": [
    "Teams"
   ]
  },
  {
   "cell_type": "code",
   "execution_count": 32,
   "id": "dd13238b",
   "metadata": {},
   "outputs": [
    {
     "name": "stdout",
     "output_type": "stream",
     "text": [
      "100\n"
     ]
    }
   ],
   "source": [
    "t1=[]\n",
    "for i in soup4b.find_all('div',class_=\"rankings-block__banner--nationality\"):\n",
    "    t1.append(i.text.replace('\\n',''))\n",
    "\n",
    "t2=[]\n",
    "\n",
    "for j in soup4b.find_all('span',class_=\"table-body__logo-text\"):\n",
    "    t2.append(j.text)\n",
    "teams4b=t1+t2\n",
    "print(len(teams4b))"
   ]
  },
  {
   "cell_type": "markdown",
   "id": "0903b212",
   "metadata": {},
   "source": [
    "Ratings"
   ]
  },
  {
   "cell_type": "code",
   "execution_count": 33,
   "id": "e7233fab",
   "metadata": {},
   "outputs": [
    {
     "name": "stdout",
     "output_type": "stream",
     "text": [
      "100\n"
     ]
    }
   ],
   "source": [
    "r1=[]\n",
    "for i in soup4b.find_all('div',class_=\"rankings-block__banner--rating\"):\n",
    "    r1.append(i.text)\n",
    "\n",
    "r2=[]\n",
    "for j in soup4b.find_all('td',class_=\"table-body__cell rating\"):\n",
    "    r2.append(j.text)\n",
    "ratings4b=r1+r2\n",
    "print(len(ratings4b))"
   ]
  },
  {
   "cell_type": "markdown",
   "id": "cec10f93",
   "metadata": {},
   "source": [
    "Making DataFrame"
   ]
  },
  {
   "cell_type": "code",
   "execution_count": 34,
   "id": "ac2523be",
   "metadata": {},
   "outputs": [
    {
     "name": "stdout",
     "output_type": "stream",
     "text": [
      "Top 10 Womens ODI Battting Players :\n"
     ]
    },
    {
     "data": {
      "text/html": [
       "<div>\n",
       "<style scoped>\n",
       "    .dataframe tbody tr th:only-of-type {\n",
       "        vertical-align: middle;\n",
       "    }\n",
       "\n",
       "    .dataframe tbody tr th {\n",
       "        vertical-align: top;\n",
       "    }\n",
       "\n",
       "    .dataframe thead th {\n",
       "        text-align: right;\n",
       "    }\n",
       "</style>\n",
       "<table border=\"1\" class=\"dataframe\">\n",
       "  <thead>\n",
       "    <tr style=\"text-align: right;\">\n",
       "      <th></th>\n",
       "      <th>Batting Players</th>\n",
       "      <th>Team</th>\n",
       "      <th>Rating</th>\n",
       "    </tr>\n",
       "  </thead>\n",
       "  <tbody>\n",
       "    <tr>\n",
       "      <th>1</th>\n",
       "      <td>Beth Mooney</td>\n",
       "      <td>AUS</td>\n",
       "      <td>754</td>\n",
       "    </tr>\n",
       "    <tr>\n",
       "      <th>2</th>\n",
       "      <td>Laura Wolvaardt</td>\n",
       "      <td>SA</td>\n",
       "      <td>732</td>\n",
       "    </tr>\n",
       "    <tr>\n",
       "      <th>3</th>\n",
       "      <td>Natalie Sciver</td>\n",
       "      <td>ENG</td>\n",
       "      <td>731</td>\n",
       "    </tr>\n",
       "    <tr>\n",
       "      <th>4</th>\n",
       "      <td>Meg Lanning</td>\n",
       "      <td>AUS</td>\n",
       "      <td>717</td>\n",
       "    </tr>\n",
       "    <tr>\n",
       "      <th>5</th>\n",
       "      <td>Harmanpreet Kaur</td>\n",
       "      <td>IND</td>\n",
       "      <td>716</td>\n",
       "    </tr>\n",
       "    <tr>\n",
       "      <th>6</th>\n",
       "      <td>Smriti Mandhana</td>\n",
       "      <td>IND</td>\n",
       "      <td>714</td>\n",
       "    </tr>\n",
       "    <tr>\n",
       "      <th>7</th>\n",
       "      <td>Chamari Athapaththu</td>\n",
       "      <td>SL</td>\n",
       "      <td>673</td>\n",
       "    </tr>\n",
       "    <tr>\n",
       "      <th>8</th>\n",
       "      <td>Ellyse Perry</td>\n",
       "      <td>AUS</td>\n",
       "      <td>626</td>\n",
       "    </tr>\n",
       "    <tr>\n",
       "      <th>9</th>\n",
       "      <td>Tammy Beaumont</td>\n",
       "      <td>ENG</td>\n",
       "      <td>595</td>\n",
       "    </tr>\n",
       "    <tr>\n",
       "      <th>10</th>\n",
       "      <td>Stafanie Taylor</td>\n",
       "      <td>WI</td>\n",
       "      <td>588</td>\n",
       "    </tr>\n",
       "  </tbody>\n",
       "</table>\n",
       "</div>"
      ],
      "text/plain": [
       "        Batting Players                     Team Rating\n",
       "1           Beth Mooney  AUS                        754\n",
       "2       Laura Wolvaardt                       SA    732\n",
       "3        Natalie Sciver                      ENG    731\n",
       "4           Meg Lanning                      AUS    717\n",
       "5      Harmanpreet Kaur                      IND    716\n",
       "6       Smriti Mandhana                      IND    714\n",
       "7   Chamari Athapaththu                       SL    673\n",
       "8          Ellyse Perry                      AUS    626\n",
       "9        Tammy Beaumont                      ENG    595\n",
       "10      Stafanie Taylor                       WI    588"
      ]
     },
     "execution_count": 34,
     "metadata": {},
     "output_type": "execute_result"
    }
   ],
   "source": [
    "w_battings_df=pd.DataFrame({'Batting Players':players4b,'Team':teams4b,'Rating':ratings4b}).head(10)\n",
    "w_battings_df.index=np.arange(1,len(w_battings_df)+1)\n",
    "print('Top 10 Womens ODI Battting Players :')\n",
    "w_battings_df"
   ]
  },
  {
   "cell_type": "markdown",
   "id": "aa1aaddd",
   "metadata": {},
   "source": [
    "c) Top 10 women’s ODI all-rounder along with the records of their team and rating."
   ]
  },
  {
   "cell_type": "code",
   "execution_count": 35,
   "id": "a5579cd7",
   "metadata": {},
   "outputs": [
    {
     "data": {
      "text/plain": [
       "<Response [200]>"
      ]
     },
     "execution_count": 35,
     "metadata": {},
     "output_type": "execute_result"
    }
   ],
   "source": [
    "# Send get request to the Webpage server to get the source code of the page \n",
    "page4c=requests.get('https://www.icc-cricket.com/rankings/womens/player-rankings/odi/all-rounder')\n",
    "soup4c=BeautifulSoup(page4c.content)\n",
    "page4c"
   ]
  },
  {
   "cell_type": "markdown",
   "id": "6371edb4",
   "metadata": {},
   "source": [
    "Players"
   ]
  },
  {
   "cell_type": "code",
   "execution_count": 36,
   "id": "56b3bcee",
   "metadata": {},
   "outputs": [
    {
     "data": {
      "text/plain": [
       "20"
      ]
     },
     "execution_count": 36,
     "metadata": {},
     "output_type": "execute_result"
    }
   ],
   "source": [
    "pr1=[]\n",
    "for i in soup4c.find_all('div',class_=\"rankings-block__banner--name-large\"):\n",
    "    pr1.append(i.text)\n",
    "    \n",
    "pr2=[]\n",
    "for j in soup4c.find_all('td',class_=\"table-body__cell rankings-table__name name\"):\n",
    "    pr2.append(j.text.replace('\\n',''))\n",
    "players4c=pr1+pr2\n",
    "len(players4c)"
   ]
  },
  {
   "cell_type": "markdown",
   "id": "7915ce05",
   "metadata": {},
   "source": [
    "Teams"
   ]
  },
  {
   "cell_type": "code",
   "execution_count": 37,
   "id": "6938c5b8",
   "metadata": {},
   "outputs": [
    {
     "data": {
      "text/plain": [
       "20"
      ]
     },
     "execution_count": 37,
     "metadata": {},
     "output_type": "execute_result"
    }
   ],
   "source": [
    "tm1=[]\n",
    "for i in soup4c.find_all('div',class_=\"rankings-block__banner--nationality\"):\n",
    "    tm1.append(i.text.replace('\\n',''))\n",
    "    \n",
    "tm2=[]\n",
    "for j in soup4c.find_all('span',class_=\"table-body__logo-text\"):\n",
    "    tm2.append(j.text)\n",
    "teams4c=tm1+tm2\n",
    "len(teams4c)"
   ]
  },
  {
   "cell_type": "markdown",
   "id": "117b792e",
   "metadata": {},
   "source": [
    "Ratings"
   ]
  },
  {
   "cell_type": "code",
   "execution_count": 38,
   "id": "3c13bf7e",
   "metadata": {},
   "outputs": [
    {
     "data": {
      "text/plain": [
       "20"
      ]
     },
     "execution_count": 38,
     "metadata": {},
     "output_type": "execute_result"
    }
   ],
   "source": [
    "rg1=[]\n",
    "for i in soup4c.find_all('div',class_=\"rankings-block__banner--rating\"):\n",
    "    rg1.append(i.text)\n",
    "    \n",
    "rg2=[]\n",
    "for j in soup4c.find_all('td',class_=\"table-body__cell rating\"):\n",
    "    rg2.append(j.text)\n",
    "ratings4c=rg1+rg2\n",
    "len(ratings4c)"
   ]
  },
  {
   "cell_type": "markdown",
   "id": "1de9bef5",
   "metadata": {},
   "source": [
    "Making DataFrame"
   ]
  },
  {
   "cell_type": "code",
   "execution_count": 39,
   "id": "02c8e4c3",
   "metadata": {},
   "outputs": [
    {
     "name": "stdout",
     "output_type": "stream",
     "text": [
      "Top 10 Womens ODI All-Rounder:\n"
     ]
    },
    {
     "data": {
      "text/html": [
       "<div>\n",
       "<style scoped>\n",
       "    .dataframe tbody tr th:only-of-type {\n",
       "        vertical-align: middle;\n",
       "    }\n",
       "\n",
       "    .dataframe tbody tr th {\n",
       "        vertical-align: top;\n",
       "    }\n",
       "\n",
       "    .dataframe thead th {\n",
       "        text-align: right;\n",
       "    }\n",
       "</style>\n",
       "<table border=\"1\" class=\"dataframe\">\n",
       "  <thead>\n",
       "    <tr style=\"text-align: right;\">\n",
       "      <th></th>\n",
       "      <th>All-Rounder</th>\n",
       "      <th>Teams</th>\n",
       "      <th>Ratings</th>\n",
       "    </tr>\n",
       "  </thead>\n",
       "  <tbody>\n",
       "    <tr>\n",
       "      <th>1</th>\n",
       "      <td>Hayley Matthews</td>\n",
       "      <td>WI</td>\n",
       "      <td>373</td>\n",
       "    </tr>\n",
       "    <tr>\n",
       "      <th>2</th>\n",
       "      <td>Natalie Sciver</td>\n",
       "      <td>ENG</td>\n",
       "      <td>371</td>\n",
       "    </tr>\n",
       "    <tr>\n",
       "      <th>3</th>\n",
       "      <td>Ellyse Perry</td>\n",
       "      <td>AUS</td>\n",
       "      <td>366</td>\n",
       "    </tr>\n",
       "    <tr>\n",
       "      <th>4</th>\n",
       "      <td>Marizanne Kapp</td>\n",
       "      <td>SA</td>\n",
       "      <td>349</td>\n",
       "    </tr>\n",
       "    <tr>\n",
       "      <th>5</th>\n",
       "      <td>Amelia Kerr</td>\n",
       "      <td>NZ</td>\n",
       "      <td>336</td>\n",
       "    </tr>\n",
       "    <tr>\n",
       "      <th>6</th>\n",
       "      <td>Deepti Sharma</td>\n",
       "      <td>IND</td>\n",
       "      <td>322</td>\n",
       "    </tr>\n",
       "    <tr>\n",
       "      <th>7</th>\n",
       "      <td>Ashleigh Gardner</td>\n",
       "      <td>AUS</td>\n",
       "      <td>292</td>\n",
       "    </tr>\n",
       "    <tr>\n",
       "      <th>8</th>\n",
       "      <td>Jess Jonassen</td>\n",
       "      <td>AUS</td>\n",
       "      <td>250</td>\n",
       "    </tr>\n",
       "    <tr>\n",
       "      <th>9</th>\n",
       "      <td>Nida Dar</td>\n",
       "      <td>PAK</td>\n",
       "      <td>232</td>\n",
       "    </tr>\n",
       "    <tr>\n",
       "      <th>10</th>\n",
       "      <td>Sophie Ecclestone</td>\n",
       "      <td>ENG</td>\n",
       "      <td>205</td>\n",
       "    </tr>\n",
       "  </tbody>\n",
       "</table>\n",
       "</div>"
      ],
      "text/plain": [
       "          All-Rounder                   Teams Ratings\n",
       "1     Hayley Matthews  WI                         373\n",
       "2      Natalie Sciver                     ENG     371\n",
       "3        Ellyse Perry                     AUS     366\n",
       "4      Marizanne Kapp                      SA     349\n",
       "5         Amelia Kerr                      NZ     336\n",
       "6       Deepti Sharma                     IND     322\n",
       "7    Ashleigh Gardner                     AUS     292\n",
       "8       Jess Jonassen                     AUS     250\n",
       "9            Nida Dar                     PAK     232\n",
       "10  Sophie Ecclestone                     ENG     205"
      ]
     },
     "execution_count": 39,
     "metadata": {},
     "output_type": "execute_result"
    }
   ],
   "source": [
    "w_alldf=pd.DataFrame({'All-Rounder':players4c,'Teams':teams4c,'Ratings':ratings4c}).head(10)\n",
    "w_alldf.index = np.arange(1,len(w_alldf)+1)\n",
    "print('Top 10 Womens ODI All-Rounder:')\n",
    "w_alldf"
   ]
  },
  {
   "cell_type": "markdown",
   "id": "af60c430",
   "metadata": {},
   "source": [
    "# 5) Write a python program to scrape mentioned news details from https://www.cnbc.com/world/?region=world and make data frame. \n",
    "1) Headline              \n",
    "ii) Time                              \n",
    "iii) News Link"
   ]
  },
  {
   "cell_type": "code",
   "execution_count": 40,
   "id": "47faa3eb",
   "metadata": {},
   "outputs": [
    {
     "data": {
      "text/plain": [
       "<Response [200]>"
      ]
     },
     "execution_count": 40,
     "metadata": {},
     "output_type": "execute_result"
    }
   ],
   "source": [
    "# Send get request to the Webpage server to get the source code of the page \n",
    "page5=requests.get('https://www.cnbc.com/world/?region=world')\n",
    "page5\n"
   ]
  },
  {
   "cell_type": "code",
   "execution_count": 41,
   "id": "ddefa9fb",
   "metadata": {},
   "outputs": [],
   "source": [
    "soup5=BeautifulSoup(page5.content)\n"
   ]
  },
  {
   "cell_type": "markdown",
   "id": "08eefe8a",
   "metadata": {},
   "source": [
    "1 Headline"
   ]
  },
  {
   "cell_type": "code",
   "execution_count": 42,
   "id": "53fe009c",
   "metadata": {},
   "outputs": [
    {
     "name": "stdout",
     "output_type": "stream",
     "text": [
      "30\n"
     ]
    }
   ],
   "source": [
    "headline=[]\n",
    "\n",
    "for i in soup5.find_all('a',class_=\"LatestNews-headline\"):\n",
    "    headline.append(i.text)\n",
    "print(len(headline))\n"
   ]
  },
  {
   "cell_type": "markdown",
   "id": "226d31c4",
   "metadata": {},
   "source": [
    "2.Time"
   ]
  },
  {
   "cell_type": "code",
   "execution_count": 43,
   "id": "16d64bd2",
   "metadata": {},
   "outputs": [
    {
     "name": "stdout",
     "output_type": "stream",
     "text": [
      "30\n"
     ]
    }
   ],
   "source": [
    "time=[]\n",
    "\n",
    "for i in soup5.find_all('span',class_=\"LatestNews-wrapper\"):\n",
    "    time.append(i.text)\n",
    "print(len(time))"
   ]
  },
  {
   "cell_type": "markdown",
   "id": "8c564a9a",
   "metadata": {},
   "source": [
    "3.News Link"
   ]
  },
  {
   "cell_type": "code",
   "execution_count": 44,
   "id": "c88af857",
   "metadata": {},
   "outputs": [
    {
     "name": "stdout",
     "output_type": "stream",
     "text": [
      "30\n"
     ]
    }
   ],
   "source": [
    "link = []\n",
    "for i in soup5.find_all('a',class_=\"LatestNews-headline\"):\n",
    "    link.append(i['href'])\n",
    "print(len(link))"
   ]
  },
  {
   "cell_type": "markdown",
   "id": "2e5d3cf9",
   "metadata": {},
   "source": [
    "Making DataFrame"
   ]
  },
  {
   "cell_type": "code",
   "execution_count": 45,
   "id": "3d504f2c",
   "metadata": {},
   "outputs": [
    {
     "data": {
      "text/html": [
       "<div>\n",
       "<style scoped>\n",
       "    .dataframe tbody tr th:only-of-type {\n",
       "        vertical-align: middle;\n",
       "    }\n",
       "\n",
       "    .dataframe tbody tr th {\n",
       "        vertical-align: top;\n",
       "    }\n",
       "\n",
       "    .dataframe thead th {\n",
       "        text-align: right;\n",
       "    }\n",
       "</style>\n",
       "<table border=\"1\" class=\"dataframe\">\n",
       "  <thead>\n",
       "    <tr style=\"text-align: right;\">\n",
       "      <th></th>\n",
       "      <th>Headline</th>\n",
       "      <th>Time</th>\n",
       "      <th>News Links</th>\n",
       "    </tr>\n",
       "  </thead>\n",
       "  <tbody>\n",
       "    <tr>\n",
       "      <th>1</th>\n",
       "      <td>Ariana Madix is selling 'Scandoval' merch and ...</td>\n",
       "      <td>22 Min Ago</td>\n",
       "      <td>https://www.cnbc.com/2023/07/01/vanderpump-rul...</td>\n",
       "    </tr>\n",
       "    <tr>\n",
       "      <th>2</th>\n",
       "      <td>40-year-old pays $1,600/month to live in a tin...</td>\n",
       "      <td>1 Hour Ago</td>\n",
       "      <td>https://www.cnbc.com/2023/07/01/40-year-old-pa...</td>\n",
       "    </tr>\n",
       "    <tr>\n",
       "      <th>3</th>\n",
       "      <td>Meet the couples winning free weddings worth u...</td>\n",
       "      <td>1 Hour Ago</td>\n",
       "      <td>https://www.cnbc.com/2023/07/01/couples-win-fr...</td>\n",
       "    </tr>\n",
       "    <tr>\n",
       "      <th>4</th>\n",
       "      <td>4 lucrative side hustles for summer 2023—one p...</td>\n",
       "      <td>1 Hour Ago</td>\n",
       "      <td>https://www.cnbc.com/2023/07/01/side-hustles-f...</td>\n",
       "    </tr>\n",
       "    <tr>\n",
       "      <th>5</th>\n",
       "      <td>The allure of using an annuity is a guaranteed...</td>\n",
       "      <td>2 Hours Ago</td>\n",
       "      <td>https://www.cnbc.com/2023/07/01/heres-how-to-g...</td>\n",
       "    </tr>\n",
       "    <tr>\n",
       "      <th>6</th>\n",
       "      <td>Why Ford says new high-tech features for Super...</td>\n",
       "      <td>2 Hours Ago</td>\n",
       "      <td>https://www.cnbc.com/2023/07/01/ford-super-dut...</td>\n",
       "    </tr>\n",
       "    <tr>\n",
       "      <th>7</th>\n",
       "      <td>Local business owners applaud July 1 minimum w...</td>\n",
       "      <td>2 Hours Ago</td>\n",
       "      <td>https://www.cnbc.com/2023/07/01/local-business...</td>\n",
       "    </tr>\n",
       "    <tr>\n",
       "      <th>8</th>\n",
       "      <td>Kim Kardashian’s $3.2 billion Skims brand star...</td>\n",
       "      <td>2 Hours Ago</td>\n",
       "      <td>https://www.cnbc.com/2023/07/01/kim-kardashian...</td>\n",
       "    </tr>\n",
       "    <tr>\n",
       "      <th>9</th>\n",
       "      <td>How the U.S. power grid can prepare for the EV...</td>\n",
       "      <td>2 Hours Ago</td>\n",
       "      <td>https://www.cnbc.com/2023/07/01/why-the-ev-boo...</td>\n",
       "    </tr>\n",
       "    <tr>\n",
       "      <th>10</th>\n",
       "      <td>Make way for 'an old school money contraction'...</td>\n",
       "      <td>3 Hours Ago</td>\n",
       "      <td>https://www.cnbc.com/2023/07/01/make-way-for-a...</td>\n",
       "    </tr>\n",
       "  </tbody>\n",
       "</table>\n",
       "</div>"
      ],
      "text/plain": [
       "                                             Headline         Time  \\\n",
       "1   Ariana Madix is selling 'Scandoval' merch and ...   22 Min Ago   \n",
       "2   40-year-old pays $1,600/month to live in a tin...   1 Hour Ago   \n",
       "3   Meet the couples winning free weddings worth u...   1 Hour Ago   \n",
       "4   4 lucrative side hustles for summer 2023—one p...   1 Hour Ago   \n",
       "5   The allure of using an annuity is a guaranteed...  2 Hours Ago   \n",
       "6   Why Ford says new high-tech features for Super...  2 Hours Ago   \n",
       "7   Local business owners applaud July 1 minimum w...  2 Hours Ago   \n",
       "8   Kim Kardashian’s $3.2 billion Skims brand star...  2 Hours Ago   \n",
       "9   How the U.S. power grid can prepare for the EV...  2 Hours Ago   \n",
       "10  Make way for 'an old school money contraction'...  3 Hours Ago   \n",
       "\n",
       "                                           News Links  \n",
       "1   https://www.cnbc.com/2023/07/01/vanderpump-rul...  \n",
       "2   https://www.cnbc.com/2023/07/01/40-year-old-pa...  \n",
       "3   https://www.cnbc.com/2023/07/01/couples-win-fr...  \n",
       "4   https://www.cnbc.com/2023/07/01/side-hustles-f...  \n",
       "5   https://www.cnbc.com/2023/07/01/heres-how-to-g...  \n",
       "6   https://www.cnbc.com/2023/07/01/ford-super-dut...  \n",
       "7   https://www.cnbc.com/2023/07/01/local-business...  \n",
       "8   https://www.cnbc.com/2023/07/01/kim-kardashian...  \n",
       "9   https://www.cnbc.com/2023/07/01/why-the-ev-boo...  \n",
       "10  https://www.cnbc.com/2023/07/01/make-way-for-a...  "
      ]
     },
     "execution_count": 45,
     "metadata": {},
     "output_type": "execute_result"
    }
   ],
   "source": [
    "import pandas as pd\n",
    "df_5=pd.DataFrame({'Headline':headline,'Time':time,'News Links':link})\n",
    "df_5.index = np.arange(1,len(df_5)+1)\n",
    "df_5.head(10)"
   ]
  },
  {
   "cell_type": "markdown",
   "id": "4e9ab893",
   "metadata": {},
   "source": [
    "# 6) Write a python program to scrape the details of most downloaded articles from AI in last 90 days.https://www.journals.elsevier.com/artificial-intelligence/most-downloaded-articles Scrape below mentioned details and make data frame.                  \n",
    "i) Paper Title                                      \n",
    "ii) Authors                 \n",
    "iii) Published Date             \n",
    "iv) Paper URL                        \n"
   ]
  },
  {
   "cell_type": "code",
   "execution_count": 46,
   "id": "bf9479f0",
   "metadata": {},
   "outputs": [
    {
     "data": {
      "text/plain": [
       "<Response [200]>"
      ]
     },
     "execution_count": 46,
     "metadata": {},
     "output_type": "execute_result"
    }
   ],
   "source": [
    "# Send get request to the Webpage server to get the source code of the page \n",
    "page6=requests.get('https://www.journals.elsevier.com/artificial-intelligence/most-downloaded-articles')\n",
    "soup6=BeautifulSoup(page6.content)\n",
    "page6\n"
   ]
  },
  {
   "cell_type": "markdown",
   "id": "72c4feb8",
   "metadata": {},
   "source": [
    "1.Paper Title"
   ]
  },
  {
   "cell_type": "code",
   "execution_count": 47,
   "id": "87ef946e",
   "metadata": {},
   "outputs": [
    {
     "name": "stdout",
     "output_type": "stream",
     "text": [
      "24\n"
     ]
    }
   ],
   "source": [
    "paper_title=[]\n",
    "\n",
    "for i in soup6.find_all('a',class_=\"sc-5smygv-0 fIXTHm\"):\n",
    "    paper_title.append(i.text)\n",
    "    \n",
    "print(len(paper_title))"
   ]
  },
  {
   "cell_type": "markdown",
   "id": "92e2c3d5",
   "metadata": {},
   "source": [
    "2.Authors"
   ]
  },
  {
   "cell_type": "code",
   "execution_count": 48,
   "id": "2d62a6c5",
   "metadata": {},
   "outputs": [
    {
     "name": "stdout",
     "output_type": "stream",
     "text": [
      "24\n"
     ]
    }
   ],
   "source": [
    "authors=[]\n",
    "\n",
    "for i in soup6.find_all('span',class_=\"sc-1w3fpd7-0 dnCnAO\"):\n",
    "    authors.append(i.text)\n",
    "print(len(authors))"
   ]
  },
  {
   "cell_type": "markdown",
   "id": "0137ec92",
   "metadata": {},
   "source": [
    "3.Published Date"
   ]
  },
  {
   "cell_type": "code",
   "execution_count": 49,
   "id": "4dd6403f",
   "metadata": {},
   "outputs": [
    {
     "name": "stdout",
     "output_type": "stream",
     "text": [
      "24\n"
     ]
    }
   ],
   "source": [
    "published_date=[]\n",
    "\n",
    "for i in soup6.find_all('span',class_=\"sc-1thf9ly-2 dvggWt\"):\n",
    "    published_date.append(i.text)\n",
    "print(len(published_date))"
   ]
  },
  {
   "cell_type": "markdown",
   "id": "c35f81d2",
   "metadata": {},
   "source": [
    "4.Paper URL"
   ]
  },
  {
   "cell_type": "code",
   "execution_count": 50,
   "id": "6c500d4d",
   "metadata": {},
   "outputs": [
    {
     "name": "stdout",
     "output_type": "stream",
     "text": [
      "24\n"
     ]
    }
   ],
   "source": [
    "paper_url=[]\n",
    "for i in soup6.find_all('a',class_=\"sc-5smygv-0 fIXTHm\"):\n",
    "    paper_url.append(i['href'])\n",
    "print(len(paper_url))\n"
   ]
  },
  {
   "cell_type": "markdown",
   "id": "8cc9e935",
   "metadata": {},
   "source": [
    "Making DataFrame"
   ]
  },
  {
   "cell_type": "code",
   "execution_count": 51,
   "id": "fc0dfb5e",
   "metadata": {},
   "outputs": [
    {
     "data": {
      "text/html": [
       "<div>\n",
       "<style scoped>\n",
       "    .dataframe tbody tr th:only-of-type {\n",
       "        vertical-align: middle;\n",
       "    }\n",
       "\n",
       "    .dataframe tbody tr th {\n",
       "        vertical-align: top;\n",
       "    }\n",
       "\n",
       "    .dataframe thead th {\n",
       "        text-align: right;\n",
       "    }\n",
       "</style>\n",
       "<table border=\"1\" class=\"dataframe\">\n",
       "  <thead>\n",
       "    <tr style=\"text-align: right;\">\n",
       "      <th></th>\n",
       "      <th>Paper Title</th>\n",
       "      <th>Authors</th>\n",
       "      <th>Published Date</th>\n",
       "      <th>Paper URL</th>\n",
       "    </tr>\n",
       "  </thead>\n",
       "  <tbody>\n",
       "    <tr>\n",
       "      <th>1</th>\n",
       "      <td>Reward is enough</td>\n",
       "      <td>David Silver, Satinder Singh, Doina Precup, Ri...</td>\n",
       "      <td>October 2021</td>\n",
       "      <td>https://www.sciencedirect.com/science/article/...</td>\n",
       "    </tr>\n",
       "    <tr>\n",
       "      <th>2</th>\n",
       "      <td>Explanation in artificial intelligence: Insigh...</td>\n",
       "      <td>Tim Miller</td>\n",
       "      <td>February 2019</td>\n",
       "      <td>https://www.sciencedirect.com/science/article/...</td>\n",
       "    </tr>\n",
       "    <tr>\n",
       "      <th>3</th>\n",
       "      <td>Creativity and artificial intelligence</td>\n",
       "      <td>Margaret A. Boden</td>\n",
       "      <td>August 1998</td>\n",
       "      <td>https://www.sciencedirect.com/science/article/...</td>\n",
       "    </tr>\n",
       "    <tr>\n",
       "      <th>4</th>\n",
       "      <td>Conflict-based search for optimal multi-agent ...</td>\n",
       "      <td>Guni Sharon, Roni Stern, Ariel Felner, Nathan ...</td>\n",
       "      <td>February 2015</td>\n",
       "      <td>https://www.sciencedirect.com/science/article/...</td>\n",
       "    </tr>\n",
       "    <tr>\n",
       "      <th>5</th>\n",
       "      <td>Knowledge graphs as tools for explainable mach...</td>\n",
       "      <td>Ilaria Tiddi, Stefan Schlobach</td>\n",
       "      <td>January 2022</td>\n",
       "      <td>https://www.sciencedirect.com/science/article/...</td>\n",
       "    </tr>\n",
       "    <tr>\n",
       "      <th>6</th>\n",
       "      <td>Law and logic: A review from an argumentation ...</td>\n",
       "      <td>Henry Prakken, Giovanni Sartor</td>\n",
       "      <td>October 2015</td>\n",
       "      <td>https://www.sciencedirect.com/science/article/...</td>\n",
       "    </tr>\n",
       "    <tr>\n",
       "      <th>7</th>\n",
       "      <td>Between MDPs and semi-MDPs: A framework for te...</td>\n",
       "      <td>Richard S. Sutton, Doina Precup, Satinder Singh</td>\n",
       "      <td>August 1999</td>\n",
       "      <td>https://www.sciencedirect.com/science/article/...</td>\n",
       "    </tr>\n",
       "    <tr>\n",
       "      <th>8</th>\n",
       "      <td>Explaining individual predictions when feature...</td>\n",
       "      <td>Kjersti Aas, Martin Jullum, Anders Løland</td>\n",
       "      <td>September 2021</td>\n",
       "      <td>https://www.sciencedirect.com/science/article/...</td>\n",
       "    </tr>\n",
       "    <tr>\n",
       "      <th>9</th>\n",
       "      <td>Multiple object tracking: A literature review</td>\n",
       "      <td>Wenhan Luo, Junliang Xing and 4 more</td>\n",
       "      <td>April 2021</td>\n",
       "      <td>https://www.sciencedirect.com/science/article/...</td>\n",
       "    </tr>\n",
       "    <tr>\n",
       "      <th>10</th>\n",
       "      <td>A survey of inverse reinforcement learning: Ch...</td>\n",
       "      <td>Saurabh Arora, Prashant Doshi</td>\n",
       "      <td>August 2021</td>\n",
       "      <td>https://www.sciencedirect.com/science/article/...</td>\n",
       "    </tr>\n",
       "    <tr>\n",
       "      <th>11</th>\n",
       "      <td>Evaluating XAI: A comparison of rule-based and...</td>\n",
       "      <td>Jasper van der Waa, Elisabeth Nieuwburg, Anita...</td>\n",
       "      <td>February 2021</td>\n",
       "      <td>https://www.sciencedirect.com/science/article/...</td>\n",
       "    </tr>\n",
       "    <tr>\n",
       "      <th>12</th>\n",
       "      <td>Explainable AI tools for legal reasoning about...</td>\n",
       "      <td>Joe Collenette, Katie Atkinson, Trevor Bench-C...</td>\n",
       "      <td>April 2023</td>\n",
       "      <td>https://www.sciencedirect.com/science/article/...</td>\n",
       "    </tr>\n",
       "    <tr>\n",
       "      <th>13</th>\n",
       "      <td>Hard choices in artificial intelligence</td>\n",
       "      <td>Roel Dobbe, Thomas Krendl Gilbert, Yonatan Mintz</td>\n",
       "      <td>November 2021</td>\n",
       "      <td>https://www.sciencedirect.com/science/article/...</td>\n",
       "    </tr>\n",
       "    <tr>\n",
       "      <th>14</th>\n",
       "      <td>Assessing the communication gap between AI mod...</td>\n",
       "      <td>Oskar Wysocki, Jessica Katharine Davies and 5 ...</td>\n",
       "      <td>March 2023</td>\n",
       "      <td>https://www.sciencedirect.com/science/article/...</td>\n",
       "    </tr>\n",
       "    <tr>\n",
       "      <th>15</th>\n",
       "      <td>Explaining black-box classifiers using post-ho...</td>\n",
       "      <td>Eoin M. Kenny, Courtney Ford, Molly Quinn, Mar...</td>\n",
       "      <td>May 2021</td>\n",
       "      <td>https://www.sciencedirect.com/science/article/...</td>\n",
       "    </tr>\n",
       "    <tr>\n",
       "      <th>16</th>\n",
       "      <td>The Hanabi challenge: A new frontier for AI re...</td>\n",
       "      <td>Nolan Bard, Jakob N. Foerster and 13 more</td>\n",
       "      <td>March 2020</td>\n",
       "      <td>https://www.sciencedirect.com/science/article/...</td>\n",
       "    </tr>\n",
       "    <tr>\n",
       "      <th>17</th>\n",
       "      <td>Wrappers for feature subset selection</td>\n",
       "      <td>Ron Kohavi, George H. John</td>\n",
       "      <td>December 1997</td>\n",
       "      <td>https://www.sciencedirect.com/science/article/...</td>\n",
       "    </tr>\n",
       "    <tr>\n",
       "      <th>18</th>\n",
       "      <td>Artificial cognition for social human–robot in...</td>\n",
       "      <td>Séverin Lemaignan, Mathieu Warnier and 3 more</td>\n",
       "      <td>June 2017</td>\n",
       "      <td>https://www.sciencedirect.com/science/article/...</td>\n",
       "    </tr>\n",
       "    <tr>\n",
       "      <th>19</th>\n",
       "      <td>A review of possible effects of cognitive bias...</td>\n",
       "      <td>Tomáš Kliegr, Štěpán Bahník, Johannes Fürnkranz</td>\n",
       "      <td>June 2021</td>\n",
       "      <td>https://www.sciencedirect.com/science/article/...</td>\n",
       "    </tr>\n",
       "    <tr>\n",
       "      <th>20</th>\n",
       "      <td>The multifaceted impact of Ada Lovelace in the...</td>\n",
       "      <td>Luigia Carlucci Aiello</td>\n",
       "      <td>June 2016</td>\n",
       "      <td>https://www.sciencedirect.com/science/article/...</td>\n",
       "    </tr>\n",
       "    <tr>\n",
       "      <th>21</th>\n",
       "      <td>Robot ethics: Mapping the issues for a mechani...</td>\n",
       "      <td>Patrick Lin, Keith Abney, George Bekey</td>\n",
       "      <td>April 2011</td>\n",
       "      <td>https://www.sciencedirect.com/science/article/...</td>\n",
       "    </tr>\n",
       "    <tr>\n",
       "      <th>22</th>\n",
       "      <td>Reward (Mis)design for autonomous driving</td>\n",
       "      <td>W. Bradley Knox, Alessandro Allievi and 3 more</td>\n",
       "      <td>March 2023</td>\n",
       "      <td>https://www.sciencedirect.com/science/article/...</td>\n",
       "    </tr>\n",
       "    <tr>\n",
       "      <th>23</th>\n",
       "      <td>Planning and acting in partially observable st...</td>\n",
       "      <td>Leslie Pack Kaelbling, Michael L. Littman, Ant...</td>\n",
       "      <td>May 1998</td>\n",
       "      <td>https://www.sciencedirect.com/science/article/...</td>\n",
       "    </tr>\n",
       "    <tr>\n",
       "      <th>24</th>\n",
       "      <td>What do we want from Explainable Artificial In...</td>\n",
       "      <td>Markus Langer, Daniel Oster and 6 more</td>\n",
       "      <td>July 2021</td>\n",
       "      <td>https://www.sciencedirect.com/science/article/...</td>\n",
       "    </tr>\n",
       "  </tbody>\n",
       "</table>\n",
       "</div>"
      ],
      "text/plain": [
       "                                          Paper Title  \\\n",
       "1                                    Reward is enough   \n",
       "2   Explanation in artificial intelligence: Insigh...   \n",
       "3              Creativity and artificial intelligence   \n",
       "4   Conflict-based search for optimal multi-agent ...   \n",
       "5   Knowledge graphs as tools for explainable mach...   \n",
       "6   Law and logic: A review from an argumentation ...   \n",
       "7   Between MDPs and semi-MDPs: A framework for te...   \n",
       "8   Explaining individual predictions when feature...   \n",
       "9       Multiple object tracking: A literature review   \n",
       "10  A survey of inverse reinforcement learning: Ch...   \n",
       "11  Evaluating XAI: A comparison of rule-based and...   \n",
       "12  Explainable AI tools for legal reasoning about...   \n",
       "13            Hard choices in artificial intelligence   \n",
       "14  Assessing the communication gap between AI mod...   \n",
       "15  Explaining black-box classifiers using post-ho...   \n",
       "16  The Hanabi challenge: A new frontier for AI re...   \n",
       "17              Wrappers for feature subset selection   \n",
       "18  Artificial cognition for social human–robot in...   \n",
       "19  A review of possible effects of cognitive bias...   \n",
       "20  The multifaceted impact of Ada Lovelace in the...   \n",
       "21  Robot ethics: Mapping the issues for a mechani...   \n",
       "22          Reward (Mis)design for autonomous driving   \n",
       "23  Planning and acting in partially observable st...   \n",
       "24  What do we want from Explainable Artificial In...   \n",
       "\n",
       "                                              Authors  Published Date  \\\n",
       "1   David Silver, Satinder Singh, Doina Precup, Ri...    October 2021   \n",
       "2                                         Tim Miller    February 2019   \n",
       "3                                  Margaret A. Boden      August 1998   \n",
       "4   Guni Sharon, Roni Stern, Ariel Felner, Nathan ...   February 2015   \n",
       "5                     Ilaria Tiddi, Stefan Schlobach     January 2022   \n",
       "6                     Henry Prakken, Giovanni Sartor     October 2015   \n",
       "7    Richard S. Sutton, Doina Precup, Satinder Singh      August 1999   \n",
       "8          Kjersti Aas, Martin Jullum, Anders Løland   September 2021   \n",
       "9                Wenhan Luo, Junliang Xing and 4 more      April 2021   \n",
       "10                     Saurabh Arora, Prashant Doshi      August 2021   \n",
       "11  Jasper van der Waa, Elisabeth Nieuwburg, Anita...   February 2021   \n",
       "12  Joe Collenette, Katie Atkinson, Trevor Bench-C...      April 2023   \n",
       "13  Roel Dobbe, Thomas Krendl Gilbert, Yonatan Mintz    November 2021   \n",
       "14  Oskar Wysocki, Jessica Katharine Davies and 5 ...      March 2023   \n",
       "15  Eoin M. Kenny, Courtney Ford, Molly Quinn, Mar...        May 2021   \n",
       "16          Nolan Bard, Jakob N. Foerster and 13 more      March 2020   \n",
       "17                        Ron Kohavi, George H. John    December 1997   \n",
       "18      Séverin Lemaignan, Mathieu Warnier and 3 more       June 2017   \n",
       "19   Tomáš Kliegr, Štěpán Bahník, Johannes Fürnkranz        June 2021   \n",
       "20                            Luigia Carlucci Aiello        June 2016   \n",
       "21            Patrick Lin, Keith Abney, George Bekey       April 2011   \n",
       "22     W. Bradley Knox, Alessandro Allievi and 3 more      March 2023   \n",
       "23  Leslie Pack Kaelbling, Michael L. Littman, Ant...        May 1998   \n",
       "24             Markus Langer, Daniel Oster and 6 more       July 2021   \n",
       "\n",
       "                                            Paper URL  \n",
       "1   https://www.sciencedirect.com/science/article/...  \n",
       "2   https://www.sciencedirect.com/science/article/...  \n",
       "3   https://www.sciencedirect.com/science/article/...  \n",
       "4   https://www.sciencedirect.com/science/article/...  \n",
       "5   https://www.sciencedirect.com/science/article/...  \n",
       "6   https://www.sciencedirect.com/science/article/...  \n",
       "7   https://www.sciencedirect.com/science/article/...  \n",
       "8   https://www.sciencedirect.com/science/article/...  \n",
       "9   https://www.sciencedirect.com/science/article/...  \n",
       "10  https://www.sciencedirect.com/science/article/...  \n",
       "11  https://www.sciencedirect.com/science/article/...  \n",
       "12  https://www.sciencedirect.com/science/article/...  \n",
       "13  https://www.sciencedirect.com/science/article/...  \n",
       "14  https://www.sciencedirect.com/science/article/...  \n",
       "15  https://www.sciencedirect.com/science/article/...  \n",
       "16  https://www.sciencedirect.com/science/article/...  \n",
       "17  https://www.sciencedirect.com/science/article/...  \n",
       "18  https://www.sciencedirect.com/science/article/...  \n",
       "19  https://www.sciencedirect.com/science/article/...  \n",
       "20  https://www.sciencedirect.com/science/article/...  \n",
       "21  https://www.sciencedirect.com/science/article/...  \n",
       "22  https://www.sciencedirect.com/science/article/...  \n",
       "23  https://www.sciencedirect.com/science/article/...  \n",
       "24  https://www.sciencedirect.com/science/article/...  "
      ]
     },
     "execution_count": 51,
     "metadata": {},
     "output_type": "execute_result"
    }
   ],
   "source": [
    "articlesdf=pd.DataFrame({'Paper Title':paper_title,'Authors':authors,'Published Date':published_date,'Paper URL':paper_url})\n",
    "articlesdf.index = np.arange(1,len(articlesdf)+1)\n",
    "articlesdf"
   ]
  },
  {
   "cell_type": "markdown",
   "id": "86bd6865",
   "metadata": {},
   "source": [
    "# 7. Write a python program to scrape mentioned details from dineout.co.in and make data frame.                           \n",
    "i) Restaurant name                 \n",
    "ii) Cuisine                                                                         \n",
    "iii) Location                                                             \n",
    "iv) Ratings                                          \n",
    "v) Image UR"
   ]
  },
  {
   "cell_type": "code",
   "execution_count": 52,
   "id": "50afa59a",
   "metadata": {},
   "outputs": [
    {
     "data": {
      "text/plain": [
       "<Response [200]>"
      ]
     },
     "execution_count": 52,
     "metadata": {},
     "output_type": "execute_result"
    }
   ],
   "source": [
    "# Send get request to the Webpage server to get the source code of the page \n",
    "page7=requests.get('https://www.dineout.co.in/delhi-restaurants/buffet-special')\n",
    "soup7=BeautifulSoup(page7.content)\n",
    "page7\n"
   ]
  },
  {
   "cell_type": "markdown",
   "id": "0e6f3752",
   "metadata": {},
   "source": [
    "i) Restaurant name"
   ]
  },
  {
   "cell_type": "code",
   "execution_count": 53,
   "id": "e1eaec26",
   "metadata": {},
   "outputs": [
    {
     "data": {
      "text/plain": [
       "9"
      ]
     },
     "execution_count": 53,
     "metadata": {},
     "output_type": "execute_result"
    }
   ],
   "source": [
    "r_name=[]\n",
    "\n",
    "for i in soup7.find_all('a',class_=\"restnt-name ellipsis\"):\n",
    "    r_name.append(i.text)\n",
    "len(r_name)"
   ]
  },
  {
   "cell_type": "markdown",
   "id": "2a139b17",
   "metadata": {},
   "source": [
    "ii) Cuisine"
   ]
  },
  {
   "cell_type": "code",
   "execution_count": 54,
   "id": "202d17ba",
   "metadata": {},
   "outputs": [
    {
     "data": {
      "text/plain": [
       "9"
      ]
     },
     "execution_count": 54,
     "metadata": {},
     "output_type": "execute_result"
    }
   ],
   "source": [
    "cuisine=[]\n",
    "for i in soup7.find_all('div',class_=\"detail-info\"):\n",
    "    cuisine.append(i.text.split('|')[1])\n",
    "len(cuisine)"
   ]
  },
  {
   "cell_type": "markdown",
   "id": "514d86e6",
   "metadata": {},
   "source": [
    "iii) Location"
   ]
  },
  {
   "cell_type": "code",
   "execution_count": 55,
   "id": "e74eddc8",
   "metadata": {},
   "outputs": [
    {
     "data": {
      "text/plain": [
       "9"
      ]
     },
     "execution_count": 55,
     "metadata": {},
     "output_type": "execute_result"
    }
   ],
   "source": [
    "location= []\n",
    "for i in soup7.find_all('div',class_=\"restnt-loc ellipsis\"):\n",
    "    location.append(i.text)\n",
    "len(location)"
   ]
  },
  {
   "cell_type": "markdown",
   "id": "6f0402d1",
   "metadata": {},
   "source": [
    "iv) Ratings"
   ]
  },
  {
   "cell_type": "code",
   "execution_count": 56,
   "id": "70c0278d",
   "metadata": {},
   "outputs": [
    {
     "data": {
      "text/plain": [
       "9"
      ]
     },
     "execution_count": 56,
     "metadata": {},
     "output_type": "execute_result"
    }
   ],
   "source": [
    "ratings=[]\n",
    "for i in soup7.find_all('div',class_=\"restnt-rating rating-4\"):\n",
    "    ratings.append(i.text)\n",
    "len(ratings)"
   ]
  },
  {
   "cell_type": "markdown",
   "id": "b9edfe16",
   "metadata": {},
   "source": [
    "v) Image UR"
   ]
  },
  {
   "cell_type": "code",
   "execution_count": 57,
   "id": "d28507e0",
   "metadata": {},
   "outputs": [
    {
     "data": {
      "text/plain": [
       "9"
      ]
     },
     "execution_count": 57,
     "metadata": {},
     "output_type": "execute_result"
    }
   ],
   "source": [
    "images=[]\n",
    "for i in soup7.find_all('img',class_=\"no-img\"):\n",
    "    images.append(i['data-src'])\n",
    "len(images)"
   ]
  },
  {
   "cell_type": "markdown",
   "id": "42a0d1aa",
   "metadata": {},
   "source": [
    "Making DataFrame"
   ]
  },
  {
   "cell_type": "code",
   "execution_count": 58,
   "id": "6ebe1397",
   "metadata": {},
   "outputs": [
    {
     "data": {
      "text/html": [
       "<div>\n",
       "<style scoped>\n",
       "    .dataframe tbody tr th:only-of-type {\n",
       "        vertical-align: middle;\n",
       "    }\n",
       "\n",
       "    .dataframe tbody tr th {\n",
       "        vertical-align: top;\n",
       "    }\n",
       "\n",
       "    .dataframe thead th {\n",
       "        text-align: right;\n",
       "    }\n",
       "</style>\n",
       "<table border=\"1\" class=\"dataframe\">\n",
       "  <thead>\n",
       "    <tr style=\"text-align: right;\">\n",
       "      <th></th>\n",
       "      <th>Restaurants Name</th>\n",
       "      <th>Cuisines</th>\n",
       "      <th>Location</th>\n",
       "      <th>Ratings</th>\n",
       "      <th>Image URL</th>\n",
       "    </tr>\n",
       "  </thead>\n",
       "  <tbody>\n",
       "    <tr>\n",
       "      <th>1</th>\n",
       "      <td>Castle Barbeque</td>\n",
       "      <td>Chinese, North Indian</td>\n",
       "      <td>Connaught Place, Central Delhi</td>\n",
       "      <td>4</td>\n",
       "      <td>https://im1.dineout.co.in/images/uploads/resta...</td>\n",
       "    </tr>\n",
       "    <tr>\n",
       "      <th>2</th>\n",
       "      <td>Jungle Jamboree</td>\n",
       "      <td>North Indian, Asian, Italian</td>\n",
       "      <td>3CS Mall,Lajpat Nagar - 3, South Delhi</td>\n",
       "      <td>3.9</td>\n",
       "      <td>https://im1.dineout.co.in/images/uploads/resta...</td>\n",
       "    </tr>\n",
       "    <tr>\n",
       "      <th>3</th>\n",
       "      <td>Cafe Knosh</td>\n",
       "      <td>Italian, Continental</td>\n",
       "      <td>The Leela Ambience Convention Hotel,Shahdara, ...</td>\n",
       "      <td>4.3</td>\n",
       "      <td>https://im1.dineout.co.in/images/uploads/resta...</td>\n",
       "    </tr>\n",
       "    <tr>\n",
       "      <th>4</th>\n",
       "      <td>Castle's Barbeque</td>\n",
       "      <td>Chinese, North Indian</td>\n",
       "      <td>Pacific Mall,Tagore Garden, West Delhi</td>\n",
       "      <td>3.9</td>\n",
       "      <td>https://im1.dineout.co.in/images/uploads/resta...</td>\n",
       "    </tr>\n",
       "    <tr>\n",
       "      <th>5</th>\n",
       "      <td>The Barbeque Company</td>\n",
       "      <td>North Indian, Chinese</td>\n",
       "      <td>Gardens Galleria,Sector 38A, Noida</td>\n",
       "      <td>3.9</td>\n",
       "      <td>https://im1.dineout.co.in/images/uploads/resta...</td>\n",
       "    </tr>\n",
       "    <tr>\n",
       "      <th>6</th>\n",
       "      <td>India Grill</td>\n",
       "      <td>North Indian, Italian</td>\n",
       "      <td>Hilton Garden Inn,Saket, South Delhi</td>\n",
       "      <td>3.9</td>\n",
       "      <td>https://im1.dineout.co.in/images/uploads/resta...</td>\n",
       "    </tr>\n",
       "    <tr>\n",
       "      <th>7</th>\n",
       "      <td>Delhi Barbeque</td>\n",
       "      <td>North Indian</td>\n",
       "      <td>Taurus Sarovar Portico,Mahipalpur, South Delhi</td>\n",
       "      <td>3.7</td>\n",
       "      <td>https://im1.dineout.co.in/images/uploads/resta...</td>\n",
       "    </tr>\n",
       "    <tr>\n",
       "      <th>8</th>\n",
       "      <td>The Monarch - Bar Be Que Village</td>\n",
       "      <td>North Indian</td>\n",
       "      <td>Indirapuram Habitat Centre,Indirapuram, Ghaziabad</td>\n",
       "      <td>3.8</td>\n",
       "      <td>https://im1.dineout.co.in/images/uploads/resta...</td>\n",
       "    </tr>\n",
       "    <tr>\n",
       "      <th>9</th>\n",
       "      <td>Indian Grill Room</td>\n",
       "      <td>North Indian, Mughlai</td>\n",
       "      <td>Suncity Business Tower,Golf Course Road, Gurgaon</td>\n",
       "      <td>4.3</td>\n",
       "      <td>https://im1.dineout.co.in/images/uploads/resta...</td>\n",
       "    </tr>\n",
       "  </tbody>\n",
       "</table>\n",
       "</div>"
      ],
      "text/plain": [
       "                   Restaurants Name                       Cuisines  \\\n",
       "1                   Castle Barbeque          Chinese, North Indian   \n",
       "2                   Jungle Jamboree   North Indian, Asian, Italian   \n",
       "3                        Cafe Knosh           Italian, Continental   \n",
       "4                 Castle's Barbeque          Chinese, North Indian   \n",
       "5              The Barbeque Company          North Indian, Chinese   \n",
       "6                       India Grill          North Indian, Italian   \n",
       "7                    Delhi Barbeque                   North Indian   \n",
       "8  The Monarch - Bar Be Que Village                   North Indian   \n",
       "9                 Indian Grill Room          North Indian, Mughlai   \n",
       "\n",
       "                                            Location Ratings  \\\n",
       "1                     Connaught Place, Central Delhi       4   \n",
       "2             3CS Mall,Lajpat Nagar - 3, South Delhi     3.9   \n",
       "3  The Leela Ambience Convention Hotel,Shahdara, ...     4.3   \n",
       "4             Pacific Mall,Tagore Garden, West Delhi     3.9   \n",
       "5                 Gardens Galleria,Sector 38A, Noida     3.9   \n",
       "6               Hilton Garden Inn,Saket, South Delhi     3.9   \n",
       "7     Taurus Sarovar Portico,Mahipalpur, South Delhi     3.7   \n",
       "8  Indirapuram Habitat Centre,Indirapuram, Ghaziabad     3.8   \n",
       "9   Suncity Business Tower,Golf Course Road, Gurgaon     4.3   \n",
       "\n",
       "                                           Image URL  \n",
       "1  https://im1.dineout.co.in/images/uploads/resta...  \n",
       "2  https://im1.dineout.co.in/images/uploads/resta...  \n",
       "3  https://im1.dineout.co.in/images/uploads/resta...  \n",
       "4  https://im1.dineout.co.in/images/uploads/resta...  \n",
       "5  https://im1.dineout.co.in/images/uploads/resta...  \n",
       "6  https://im1.dineout.co.in/images/uploads/resta...  \n",
       "7  https://im1.dineout.co.in/images/uploads/resta...  \n",
       "8  https://im1.dineout.co.in/images/uploads/resta...  \n",
       "9  https://im1.dineout.co.in/images/uploads/resta...  "
      ]
     },
     "execution_count": 58,
     "metadata": {},
     "output_type": "execute_result"
    }
   ],
   "source": [
    "dine_df=pd.DataFrame({'Restaurants Name':r_name, 'Cuisines':cuisine, 'Location':location, 'Ratings':ratings, 'Image URL':images})\n",
    "dine_df.index=np.arange(1,len(dine_df)+1)\n",
    "dine_df"
   ]
  },
  {
   "cell_type": "code",
   "execution_count": null,
   "id": "3d335907",
   "metadata": {},
   "outputs": [],
   "source": []
  }
 ],
 "metadata": {
  "kernelspec": {
   "display_name": "Python 3 (ipykernel)",
   "language": "python",
   "name": "python3"
  },
  "language_info": {
   "codemirror_mode": {
    "name": "ipython",
    "version": 3
   },
   "file_extension": ".py",
   "mimetype": "text/x-python",
   "name": "python",
   "nbconvert_exporter": "python",
   "pygments_lexer": "ipython3",
   "version": "3.9.13"
  }
 },
 "nbformat": 4,
 "nbformat_minor": 5
}
